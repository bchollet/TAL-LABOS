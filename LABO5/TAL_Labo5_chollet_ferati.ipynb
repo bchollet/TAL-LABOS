{
 "cells": [
  {
   "cell_type": "markdown",
   "id": "be6fb47f14ad3f2b",
   "metadata": {},
   "source": [
    "<img src=\"https://heig-vd.ch/docs/default-source/doc-global-newsletter/2020-slim.svg\" alt=\"HEIG-VD Logo\" width=\"100\" align=\"right\" />\n",
    "\n",
    "# Cours TAL – Labo 5 : Le modèle word2vec et ses applications\n",
    "\n",
    "**Objectifs**\n",
    "Le but de ce labo est de comparer un modèle word2vec pré-entraîné avec deux modèles que vous\n",
    "entraînerez vous-mêmes, sur deux corpus de tailles différentes. La comparaison se fera sur une\n",
    "tâche de similarité mots et sur une tâche de raisonnement par analogie, en anglais. Vous utiliserez la librairie Gensim de calcul de similarités pour le TAL."
   ]
  },
  {
   "cell_type": "markdown",
   "id": "e5a6433de2c0ea02",
   "metadata": {},
   "source": [
    "## 1. Tester et évaluer un modèle déjà entraîné sur Google News"
   ]
  },
  {
   "cell_type": "markdown",
   "id": "423906f83dc53276",
   "metadata": {},
   "source": [
    "Installez gensim, une librairie Python qui fournit des outils pour travailler avec Word2Vec (avec\n",
    "conda ou avec pip). **Attention** : la dernière version 4.2.3 de gensim est incompatible avec la\n",
    "librairie scipy version 1.13, donc il faut installer la version 1.12 de scipy ; la variable Path doit\n",
    "contenir `C:\\ProgramData\\Miniconda3\\Library\\` et `C:\\ProgramData\\Miniconda3\\Library\\bin\\.`\n"
   ]
  },
  {
   "cell_type": "code",
   "execution_count": null,
   "id": "46b6c59159e137f9",
   "metadata": {},
   "outputs": [],
   "source": [
    "!pip install gensim"
   ]
  },
  {
   "cell_type": "markdown",
   "id": "72534b37990fc0d5",
   "metadata": {},
   "source": [
    "Obtenez depuis gensim le modèle word2vec pré-entraîné sur le corpus Google News en\n",
    "écrivant : `w2v_vectors = gensim.downloader.load(\"word2vec-google-news-300\")`, ce qui\n",
    "téléchargera le fichier la première fois"
   ]
  },
  {
   "cell_type": "code",
   "execution_count": 3,
   "id": "6be156bbd241d753",
   "metadata": {
    "ExecuteTime": {
     "end_time": "2024-05-06T15:23:46.073306Z",
     "start_time": "2024-05-06T15:19:39.208992Z"
    }
   },
   "outputs": [
    {
     "name": "stdout",
     "output_type": "stream",
     "text": [
      "[==================================================] 100.0% 1662.8/1662.8MB downloaded\n"
     ]
    }
   ],
   "source": [
    "import gensim.downloader\n",
    "\n",
    "#Default path is C:\\Users\\username\\gensim-data\n",
    "w2v_vectors = gensim.downloader.load(\"word2vec-google-news-300\")"
   ]
  },
  {
   "cell_type": "markdown",
   "id": "1074e79c7f1e5dd2",
   "metadata": {},
   "source": [
    "Après avoir téléchargé le modèle, vous pouvez utiliser ainsi votre copie locale :\n",
    "`w2v_vectors = KeyedVectors.load_word2vec_format(path_to_file, binary=True)`."
   ]
  },
  {
   "cell_type": "code",
   "id": "e457bc17a2a661b9",
   "metadata": {
    "ExecuteTime": {
     "end_time": "2024-05-07T11:56:03.838092Z",
     "start_time": "2024-05-07T11:55:13.313662Z"
    }
   },
   "source": [
    "from gensim.models import KeyedVectors\n",
    "\n",
    "w2v_vectors = KeyedVectors.load_word2vec_format(\"./corpus/GoogleNews-vectors-negative300.bin\", binary=True)"
   ],
   "outputs": [],
   "execution_count": 1
  },
  {
   "cell_type": "markdown",
   "id": "2f61e9cd95680235",
   "metadata": {},
   "source": [
    "#### a. Quelle place en mémoire occupe le processus du notebook avec les vecteurs de mots ?\n",
    "\n",
    "Nous installant l'extension jupyter-server-resource-usage, nous avons pu observer que le kernel du notebook occupait 2.8 Go de mémoire vive après le chargement du modèle téléchargé en amont\n",
    "\n",
    "![](./img/memory_usage.png)\n"
   ]
  },
  {
   "metadata": {},
   "cell_type": "markdown",
   "source": [
    "#### b. Quelle est la dimension de l'espace vectoriel dans lequel les mots sont représentés ?\n",
    "\n"
   ],
   "id": "faf7e6d0354573e8"
  },
  {
   "metadata": {
    "ExecuteTime": {
     "end_time": "2024-05-07T11:49:20.850365Z",
     "start_time": "2024-05-07T11:49:20.839098Z"
    }
   },
   "cell_type": "code",
   "source": [
    "print(w2v_vectors.key_to_index.__len__()) #Nombre de clés = nombre de mots\n",
    "print(w2v_vectors.vector_size) #Taille du vecteur pour chaque clé"
   ],
   "id": "1c78f7fcf0a0e6c2",
   "outputs": [
    {
     "name": "stdout",
     "output_type": "stream",
     "text": [
      "3000000\n",
      "300\n"
     ]
    }
   ],
   "execution_count": 11
  },
  {
   "metadata": {},
   "cell_type": "markdown",
   "source": "Un `KeyedVector` est une structure semblable à un dictionnaire ayant comme clé un mot et comme valeur un vecteur. Dans notre cas, nous avons 3000000 clés chacune ayant un vecteur de 300 entrées.",
   "id": "cef78bc59595f4e3"
  },
  {
   "metadata": {},
   "cell_type": "markdown",
   "source": "#### c. Quelle est la taille du vocabulaire connu du modèle ? Veuillez afficher 5 mots anglais qui sont dans le vocabulaire et deux qui ne le sont pas.",
   "id": "357186367ef7c490"
  },
  {
   "metadata": {
    "ExecuteTime": {
     "end_time": "2024-05-07T12:30:22.215473Z",
     "start_time": "2024-05-07T12:30:21.189252Z"
    }
   },
   "cell_type": "code",
   "source": [
    "voc_model = set(w2v_vectors.index_to_key)\n",
    "result_in_voc = {\"hello\", \"world\", \"computer\", \"science\", \"data\"}.intersection(voc_model)\n",
    "result_not_in_voc = {\"crapulous\", \"manichaean\"}.difference(voc_model)\n",
    "\n",
    "print(f\"Mots dans le vocabulaire {result_in_voc}\") #5 mots\n",
    "print(f\"Mots pas dans le vocabulaire {result_not_in_voc}\")\n",
    "print(f\"taille du vocabulaire {len(voc_model)}\")"
   ],
   "id": "69b7320423527fb7",
   "outputs": [
    {
     "name": "stdout",
     "output_type": "stream",
     "text": [
      "Mots dans le vocabulaire {'hello', 'data', 'science', 'computer', 'world'}\n",
      "Mots pas dans le vocabulaire {'crapulous', 'manichaean'}\n",
      "taille du vocabulaire 3000000\n"
     ]
    }
   ],
   "execution_count": 48
  },
  {
   "metadata": {},
   "cell_type": "markdown",
   "source": "#### d. Quelle est la distance entre les mots rabbit et carrot ? Veuillez expliquer en une phrase comment on mesure les distances entre deux mots grâce à leurs vecteurs",
   "id": "4379e37ed5ef8f62"
  },
  {
   "metadata": {
    "ExecuteTime": {
     "end_time": "2024-05-07T12:41:36.870455Z",
     "start_time": "2024-05-07T12:41:36.849037Z"
    }
   },
   "cell_type": "code",
   "source": "print(f\"Distance entre les mots: \", w2v_vectors.distance(\"rabbit\", \"carrot\"))",
   "id": "6d14ec0409261808",
   "outputs": [
    {
     "name": "stdout",
     "output_type": "stream",
     "text": [
      "Distance entre les mots:  0.6369356513023376\n"
     ]
    }
   ],
   "execution_count": 59
  },
  {
   "metadata": {},
   "cell_type": "markdown",
   "source": "La distance entre deux mots est mesurée par la similarité cosinus entre les vecteurs de ces mots. Plus la valeur est proche de 0, plus les mots sont similaires, plus la valeur est proche de 1, plus les mots sont différents.",
   "id": "a9b0b0a2a471bbcc"
  },
  {
   "metadata": {},
   "cell_type": "markdown",
   "source": "#### e. Considérez au moins 5 paires de mots anglais, certains proches par leurs sens, d’autres plus éloignés. Pour chaque paire, calculez la distance entre les deux mots. Veuillez indiquer si les distances obtenues correspondent à vos intuitions sur la proximité des sens des mots.",
   "id": "a44966e9a771541"
  },
  {
   "metadata": {
    "ExecuteTime": {
     "end_time": "2024-05-07T14:29:17.412415Z",
     "start_time": "2024-05-07T14:29:17.393554Z"
    }
   },
   "cell_type": "code",
   "source": [
    "pairs = [(\"cat\", \"dog\"), (\"cat\", \"car\"), (\"hot\", \"cold\"), (\"shoe\", \"journalist\"), (\"height\", \"high\")]\n",
    "\n",
    "for pair in pairs:\n",
    "    print(f\"Distance entre les mots {pair}: \", w2v_vectors.distance(pair[0], pair[1]))\n",
    "    "
   ],
   "id": "e1ad03cea7f5eac2",
   "outputs": [
    {
     "name": "stdout",
     "output_type": "stream",
     "text": [
      "Distance entre les mots ('cat', 'dog'):  0.23905426263809204\n",
      "Distance entre les mots ('cat', 'car'):  0.7847181558609009\n",
      "Distance entre les mots ('hot', 'cold'):  0.5397861003875732\n",
      "Distance entre les mots ('shoe', 'journalist'):  0.8940958231687546\n",
      "Distance entre les mots ('height', 'high'):  0.8072148114442825\n"
     ]
    }
   ],
   "execution_count": 65
  },
  {
   "metadata": {},
   "cell_type": "markdown",
   "source": [
    "- **('cat', 'dog'):** Il s'agit de deux animaux de compagnie souvent mis en comparaison ou en opposition. Le score étant faible, il est cohérent avec notre intuition.\n",
    "- **('cat', 'car'):** Ces deux mots sont proches au sens de l'orthographe, mais n'ont pas forcément un lien sémantique fort. On pourrait éventuellement supposer une distance faible si le système prenait en compte les erreurs typographiques, étant donné que T et R sont à côté l'un de l'autre sur un clavier QWERTY, mais ce n'est pas le cas. Le score étant élevé, il est cohérent avec notre intuition.\n",
    "- **('hot', 'cold'):** Il s'agit de deux antonymes, ils possèdent donc un même sens sémantique (la température), mais leur nature d'antonymes pourrait également les éloigner. Le score est relativement moyen (~0.5) ce qui confirme notre intuition\n",
    "- **('shoe', 'journalist'):** Ces deux mots n'ont rien en commun, on s'attend à un score élevé, ce qui est le cas.\n",
    "- **('height', 'high'):** Ces deux mots sont similaires (l'un étant l'adjectif de l'autre), on s'attendrait à un score proche, voir moyen, mais le score est beaucoup plus élevé que notre intuition"
   ],
   "id": "30e856fb4b8d3db8"
  },
  {
   "metadata": {},
   "cell_type": "markdown",
   "source": "#### f. Pouvez-vous trouver des mots de sens opposés mais qui sont proches selon le modèle ? Comment expliquez-vous cela ? Est-ce une qualité ou un défaut du modèle word2vec ?",
   "id": "ca73bd0afbc84a5f"
  },
  {
   "metadata": {},
   "cell_type": "code",
   "outputs": [],
   "execution_count": null,
   "source": "",
   "id": "bf322ad1255aaa77"
  }
 ],
 "metadata": {
  "kernelspec": {
   "display_name": "Python 3 (ipykernel)",
   "language": "python",
   "name": "python3"
  },
  "language_info": {
   "codemirror_mode": {
    "name": "ipython",
    "version": 3
   },
   "file_extension": ".py",
   "mimetype": "text/x-python",
   "name": "python",
   "nbconvert_exporter": "python",
   "pygments_lexer": "ipython3",
   "version": "3.11.8"
  }
 },
 "nbformat": 4,
 "nbformat_minor": 5
}
