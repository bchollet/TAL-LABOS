{
 "cells": [
  {
   "cell_type": "markdown",
   "metadata": {},
   "source": [
    "<img src=\"https://heig-vd.ch/docs/default-source/doc-global-newsletter/2020-slim.svg\" alt=\"HEIG-VD Logo\" width=\"100\" align=\"right\" /> \n",
    "\n",
    "# Cours TAL - Laboratoire 4<br/>Reconnaissance des entités nommées\n",
    "\n",
    "**Objectif**\n",
    "\n",
    "L'objectif de ce labo est de comparer la reconnaissance des entités nommées (*named entity recognition*, NER) faite par spaCy avec celle faite par NLTK, sur des données en anglais fournies sur Cyberlearn.  Veuillez fournir les scores de rappel, précision et F1-score pour chacun des tags présents dans les données de test.  Veuillez comparer deux modèles de spaCy, 'en_core_web_sm' et 'en_core_web_lg'.\n",
    "\n",
    "Vous pouvez concevoir l'ensemble du projet par vous-mêmes, ou suivre les indications suivantes."
   ]
  },
  {
   "cell_type": "markdown",
   "metadata": {},
   "source": [
    "## 1. NER avec spaCy et NLTK sur un texte court"
   ]
  },
  {
   "cell_type": "code",
   "metadata": {
    "ExecuteTime": {
     "end_time": "2024-04-29T12:33:50.888670Z",
     "start_time": "2024-04-29T12:33:50.880516Z"
    }
   },
   "source": [
    "import spacy\n",
    "from spacy.tokens import Doc"
   ],
   "outputs": [],
   "execution_count": 249
  },
  {
   "cell_type": "code",
   "metadata": {
    "ExecuteTime": {
     "end_time": "2024-04-28T09:51:17.017204Z",
     "start_time": "2024-04-28T09:51:00.737469Z"
    }
   },
   "source": [
    "# !python -m spacy download en_core_web_sm \n",
    "# exécuter la ligne ci-dessus une fois, si nécessaire"
   ],
   "outputs": [
    {
     "name": "stdout",
     "output_type": "stream",
     "text": [
      "Collecting en-core-web-sm==3.7.1\n",
      "  Downloading https://github.com/explosion/spacy-models/releases/download/en_core_web_sm-3.7.1/en_core_web_sm-3.7.1-py3-none-any.whl (12.8 MB)\n",
      "     ---------------------------------------- 0.0/12.8 MB ? eta -:--:--\n",
      "     ---------------------------------------- 0.0/12.8 MB ? eta -:--:--\n",
      "     --------------------------------------- 0.0/12.8 MB 435.7 kB/s eta 0:00:30\n",
      "     --------------------------------------- 0.1/12.8 MB 491.5 kB/s eta 0:00:26\n",
      "     - -------------------------------------- 0.5/12.8 MB 3.0 MB/s eta 0:00:05\n",
      "     --- ------------------------------------ 1.2/12.8 MB 5.3 MB/s eta 0:00:03\n",
      "     ------- -------------------------------- 2.5/12.8 MB 9.4 MB/s eta 0:00:02\n",
      "     ----------- ---------------------------- 3.6/12.8 MB 11.5 MB/s eta 0:00:01\n",
      "     -------------- ------------------------- 4.6/12.8 MB 12.8 MB/s eta 0:00:01\n",
      "     ----------------- ---------------------- 5.6/12.8 MB 13.8 MB/s eta 0:00:01\n",
      "     --------------------- ------------------ 6.8/12.8 MB 14.5 MB/s eta 0:00:01\n",
      "     ------------------------- -------------- 8.0/12.8 MB 16.1 MB/s eta 0:00:01\n",
      "     ----------------------------- ---------- 9.3/12.8 MB 17.0 MB/s eta 0:00:01\n",
      "     ------------------------------- ------- 10.5/12.8 MB 23.4 MB/s eta 0:00:01\n",
      "     ----------------------------------- --- 11.7/12.8 MB 24.2 MB/s eta 0:00:01\n",
      "     --------------------------------------  12.8/12.8 MB 25.2 MB/s eta 0:00:01\n",
      "     --------------------------------------- 12.8/12.8 MB 22.6 MB/s eta 0:00:00\n",
      "Requirement already satisfied: spacy<3.8.0,>=3.7.2 in c:\\users\\babac\\miniconda3\\envs\\tal\\lib\\site-packages (from en-core-web-sm==3.7.1) (3.7.2)\n",
      "Requirement already satisfied: spacy-legacy<3.1.0,>=3.0.11 in c:\\users\\babac\\miniconda3\\envs\\tal\\lib\\site-packages (from spacy<3.8.0,>=3.7.2->en-core-web-sm==3.7.1) (3.0.12)\n",
      "Requirement already satisfied: spacy-loggers<2.0.0,>=1.0.0 in c:\\users\\babac\\miniconda3\\envs\\tal\\lib\\site-packages (from spacy<3.8.0,>=3.7.2->en-core-web-sm==3.7.1) (1.0.5)\n",
      "Requirement already satisfied: murmurhash<1.1.0,>=0.28.0 in c:\\users\\babac\\miniconda3\\envs\\tal\\lib\\site-packages (from spacy<3.8.0,>=3.7.2->en-core-web-sm==3.7.1) (1.0.10)\n",
      "Requirement already satisfied: cymem<2.1.0,>=2.0.2 in c:\\users\\babac\\miniconda3\\envs\\tal\\lib\\site-packages (from spacy<3.8.0,>=3.7.2->en-core-web-sm==3.7.1) (2.0.8)\n",
      "Requirement already satisfied: preshed<3.1.0,>=3.0.2 in c:\\users\\babac\\miniconda3\\envs\\tal\\lib\\site-packages (from spacy<3.8.0,>=3.7.2->en-core-web-sm==3.7.1) (3.0.9)\n",
      "Requirement already satisfied: thinc<8.3.0,>=8.1.8 in c:\\users\\babac\\miniconda3\\envs\\tal\\lib\\site-packages (from spacy<3.8.0,>=3.7.2->en-core-web-sm==3.7.1) (8.2.2)\n",
      "Requirement already satisfied: wasabi<1.2.0,>=0.9.1 in c:\\users\\babac\\miniconda3\\envs\\tal\\lib\\site-packages (from spacy<3.8.0,>=3.7.2->en-core-web-sm==3.7.1) (1.1.2)\n",
      "Requirement already satisfied: srsly<3.0.0,>=2.4.3 in c:\\users\\babac\\miniconda3\\envs\\tal\\lib\\site-packages (from spacy<3.8.0,>=3.7.2->en-core-web-sm==3.7.1) (2.4.8)\n",
      "Requirement already satisfied: catalogue<2.1.0,>=2.0.6 in c:\\users\\babac\\miniconda3\\envs\\tal\\lib\\site-packages (from spacy<3.8.0,>=3.7.2->en-core-web-sm==3.7.1) (2.0.10)\n",
      "Requirement already satisfied: weasel<0.4.0,>=0.1.0 in c:\\users\\babac\\miniconda3\\envs\\tal\\lib\\site-packages (from spacy<3.8.0,>=3.7.2->en-core-web-sm==3.7.1) (0.3.4)\n",
      "Requirement already satisfied: typer<0.10.0,>=0.3.0 in c:\\users\\babac\\miniconda3\\envs\\tal\\lib\\site-packages (from spacy<3.8.0,>=3.7.2->en-core-web-sm==3.7.1) (0.9.4)\n",
      "Requirement already satisfied: smart-open<7.0.0,>=5.2.1 in c:\\users\\babac\\miniconda3\\envs\\tal\\lib\\site-packages (from spacy<3.8.0,>=3.7.2->en-core-web-sm==3.7.1) (5.2.1)\n",
      "Requirement already satisfied: tqdm<5.0.0,>=4.38.0 in c:\\users\\babac\\miniconda3\\envs\\tal\\lib\\site-packages (from spacy<3.8.0,>=3.7.2->en-core-web-sm==3.7.1) (4.66.2)\n",
      "Requirement already satisfied: requests<3.0.0,>=2.13.0 in c:\\users\\babac\\miniconda3\\envs\\tal\\lib\\site-packages (from spacy<3.8.0,>=3.7.2->en-core-web-sm==3.7.1) (2.31.0)\n",
      "Requirement already satisfied: pydantic!=1.8,!=1.8.1,<3.0.0,>=1.7.4 in c:\\users\\babac\\miniconda3\\envs\\tal\\lib\\site-packages (from spacy<3.8.0,>=3.7.2->en-core-web-sm==3.7.1) (2.6.4)\n",
      "Requirement already satisfied: jinja2 in c:\\users\\babac\\miniconda3\\envs\\tal\\lib\\site-packages (from spacy<3.8.0,>=3.7.2->en-core-web-sm==3.7.1) (3.1.3)\n",
      "Requirement already satisfied: setuptools in c:\\users\\babac\\miniconda3\\envs\\tal\\lib\\site-packages (from spacy<3.8.0,>=3.7.2->en-core-web-sm==3.7.1) (68.2.2)\n",
      "Requirement already satisfied: packaging>=20.0 in c:\\users\\babac\\miniconda3\\envs\\tal\\lib\\site-packages (from spacy<3.8.0,>=3.7.2->en-core-web-sm==3.7.1) (24.0)\n",
      "Requirement already satisfied: langcodes<4.0.0,>=3.2.0 in c:\\users\\babac\\miniconda3\\envs\\tal\\lib\\site-packages (from spacy<3.8.0,>=3.7.2->en-core-web-sm==3.7.1) (3.3.0)\n",
      "Requirement already satisfied: numpy>=1.19.0 in c:\\users\\babac\\miniconda3\\envs\\tal\\lib\\site-packages (from spacy<3.8.0,>=3.7.2->en-core-web-sm==3.7.1) (1.26.4)\n",
      "Requirement already satisfied: annotated-types>=0.4.0 in c:\\users\\babac\\miniconda3\\envs\\tal\\lib\\site-packages (from pydantic!=1.8,!=1.8.1,<3.0.0,>=1.7.4->spacy<3.8.0,>=3.7.2->en-core-web-sm==3.7.1) (0.6.0)\n",
      "Requirement already satisfied: pydantic-core==2.16.3 in c:\\users\\babac\\miniconda3\\envs\\tal\\lib\\site-packages (from pydantic!=1.8,!=1.8.1,<3.0.0,>=1.7.4->spacy<3.8.0,>=3.7.2->en-core-web-sm==3.7.1) (2.16.3)\n",
      "Requirement already satisfied: typing-extensions>=4.6.1 in c:\\users\\babac\\miniconda3\\envs\\tal\\lib\\site-packages (from pydantic!=1.8,!=1.8.1,<3.0.0,>=1.7.4->spacy<3.8.0,>=3.7.2->en-core-web-sm==3.7.1) (4.10.0)\n",
      "Requirement already satisfied: charset-normalizer<4,>=2 in c:\\users\\babac\\miniconda3\\envs\\tal\\lib\\site-packages (from requests<3.0.0,>=2.13.0->spacy<3.8.0,>=3.7.2->en-core-web-sm==3.7.1) (3.3.2)\n",
      "Requirement already satisfied: idna<4,>=2.5 in c:\\users\\babac\\miniconda3\\envs\\tal\\lib\\site-packages (from requests<3.0.0,>=2.13.0->spacy<3.8.0,>=3.7.2->en-core-web-sm==3.7.1) (3.6)\n",
      "Requirement already satisfied: urllib3<3,>=1.21.1 in c:\\users\\babac\\miniconda3\\envs\\tal\\lib\\site-packages (from requests<3.0.0,>=2.13.0->spacy<3.8.0,>=3.7.2->en-core-web-sm==3.7.1) (2.2.1)\n",
      "Requirement already satisfied: certifi>=2017.4.17 in c:\\users\\babac\\miniconda3\\envs\\tal\\lib\\site-packages (from requests<3.0.0,>=2.13.0->spacy<3.8.0,>=3.7.2->en-core-web-sm==3.7.1) (2024.2.2)\n",
      "Requirement already satisfied: blis<0.8.0,>=0.7.8 in c:\\users\\babac\\miniconda3\\envs\\tal\\lib\\site-packages (from thinc<8.3.0,>=8.1.8->spacy<3.8.0,>=3.7.2->en-core-web-sm==3.7.1) (0.7.10)\n",
      "Requirement already satisfied: confection<1.0.0,>=0.0.1 in c:\\users\\babac\\miniconda3\\envs\\tal\\lib\\site-packages (from thinc<8.3.0,>=8.1.8->spacy<3.8.0,>=3.7.2->en-core-web-sm==3.7.1) (0.1.4)\n",
      "Requirement already satisfied: colorama in c:\\users\\babac\\miniconda3\\envs\\tal\\lib\\site-packages (from tqdm<5.0.0,>=4.38.0->spacy<3.8.0,>=3.7.2->en-core-web-sm==3.7.1) (0.4.6)\n",
      "Requirement already satisfied: click<9.0.0,>=7.1.1 in c:\\users\\babac\\miniconda3\\envs\\tal\\lib\\site-packages (from typer<0.10.0,>=0.3.0->spacy<3.8.0,>=3.7.2->en-core-web-sm==3.7.1) (8.1.7)\n",
      "Requirement already satisfied: cloudpathlib<0.17.0,>=0.7.0 in c:\\users\\babac\\miniconda3\\envs\\tal\\lib\\site-packages (from weasel<0.4.0,>=0.1.0->spacy<3.8.0,>=3.7.2->en-core-web-sm==3.7.1) (0.16.0)\n",
      "Requirement already satisfied: MarkupSafe>=2.0 in c:\\users\\babac\\miniconda3\\envs\\tal\\lib\\site-packages (from jinja2->spacy<3.8.0,>=3.7.2->en-core-web-sm==3.7.1) (2.1.5)\n",
      "\u001B[38;5;2m[+] Download and installation successful\u001B[0m\n",
      "You can now load the package via spacy.load('en_core_web_sm')\n"
     ]
    }
   ],
   "execution_count": 2
  },
  {
   "cell_type": "code",
   "metadata": {
    "ExecuteTime": {
     "end_time": "2024-04-29T12:33:54.107104Z",
     "start_time": "2024-04-29T12:33:53.287110Z"
    }
   },
   "source": [
    "nlp = spacy.load(\"en_core_web_sm\")"
   ],
   "outputs": [],
   "execution_count": 250
  },
  {
   "cell_type": "code",
   "metadata": {
    "ExecuteTime": {
     "end_time": "2024-04-29T12:33:55.847210Z",
     "start_time": "2024-04-29T12:33:55.835125Z"
    }
   },
   "source": [
    "raw_text = \"Reinhold Messner made a solo ascent of Mount Everest and was later a member of the European Parliament.\" "
   ],
   "outputs": [],
   "execution_count": 251
  },
  {
   "cell_type": "markdown",
   "metadata": {},
   "source": [
    "**1a.** Veuillez traiter ce texte avec la pipeline 'nlp', et pour chaque entité nommée trouvée veuillez afficher les mots qui la composent et son type."
   ]
  },
  {
   "cell_type": "code",
   "metadata": {
    "ExecuteTime": {
     "end_time": "2024-04-29T12:34:00.631711Z",
     "start_time": "2024-04-29T12:34:00.606447Z"
    }
   },
   "source": [
    "doc = nlp(raw_text)\n",
    "for entity in doc.ents:\n",
    "    print(f\"{entity.text} [{entity.label_}]\")"
   ],
   "outputs": [
    {
     "name": "stdout",
     "output_type": "stream",
     "text": [
      "Reinhold Messner [PERSON]\n",
      "Mount Everest [LOC]\n",
      "the European Parliament [ORG]\n"
     ]
    }
   ],
   "execution_count": 252
  },
  {
   "cell_type": "code",
   "metadata": {
    "ExecuteTime": {
     "end_time": "2024-04-29T12:34:02.399234Z",
     "start_time": "2024-04-29T12:34:02.387268Z"
    }
   },
   "source": [
    "import nltk\n",
    "nltk.download('maxent_ne_chunker') \n",
    "nltk.download('words') \n",
    "# exécuter les deux lignes ci-dessus une fois, si nécessaire"
   ],
   "outputs": [
    {
     "name": "stderr",
     "output_type": "stream",
     "text": [
      "[nltk_data] Downloading package maxent_ne_chunker to\n",
      "[nltk_data]     C:\\Users\\babac\\AppData\\Roaming\\nltk_data...\n",
      "[nltk_data]   Package maxent_ne_chunker is already up-to-date!\n",
      "[nltk_data] Downloading package words to\n",
      "[nltk_data]     C:\\Users\\babac\\AppData\\Roaming\\nltk_data...\n",
      "[nltk_data]   Package words is already up-to-date!\n"
     ]
    },
    {
     "data": {
      "text/plain": [
       "True"
      ]
     },
     "execution_count": 253,
     "metadata": {},
     "output_type": "execute_result"
    }
   ],
   "execution_count": 253
  },
  {
   "cell_type": "markdown",
   "metadata": {},
   "source": [
    "**1b.** Veuillez effectuer avec NLTK la tokenization, le POS tagging et le *NE chunking* (voir la [documentation NLTK](https://www.nltk.org/api/nltk.chunk.ne_chunk.html#nltk.chunk.ne_chunk)).  Veuillez afficher le résultat et indiquer son type."
   ]
  },
  {
   "cell_type": "code",
   "metadata": {
    "ExecuteTime": {
     "end_time": "2024-04-29T12:39:07.501989Z",
     "start_time": "2024-04-29T12:39:07.493248Z"
    }
   },
   "source": [
    "from nltk.tokenize import word_tokenize\n",
    "from nltk.tag import pos_tag\n",
    "from nltk.chunk import ne_chunk\n",
    "nltk.download('averaged_perceptron_tagger')\n",
    "\n"
   ],
   "outputs": [
    {
     "name": "stderr",
     "output_type": "stream",
     "text": [
      "[nltk_data] Downloading package averaged_perceptron_tagger to\n",
      "[nltk_data]     C:\\Users\\babac\\AppData\\Roaming\\nltk_data...\n",
      "[nltk_data]   Package averaged_perceptron_tagger is already up-to-\n",
      "[nltk_data]       date!\n"
     ]
    },
    {
     "data": {
      "text/plain": [
       "True"
      ]
     },
     "execution_count": 254,
     "metadata": {},
     "output_type": "execute_result"
    }
   ],
   "execution_count": 254
  },
  {
   "cell_type": "code",
   "source": [
    "\n",
    "tokens = word_tokenize(raw_text)\n",
    "pos_tags = pos_tag(tokens)\n",
    "ne_chunks = ne_chunk(pos_tags)\n",
    "\n",
    "# Afficher le résultat et son type\n",
    "print(ne_chunks)"
   ],
   "metadata": {
    "collapsed": false,
    "ExecuteTime": {
     "end_time": "2024-04-29T12:39:13.279693Z",
     "start_time": "2024-04-29T12:39:13.247941Z"
    }
   },
   "outputs": [
    {
     "name": "stdout",
     "output_type": "stream",
     "text": [
      "(S\n",
      "  (PERSON Reinhold/NNP)\n",
      "  (PERSON Messner/NNP)\n",
      "  made/VBD\n",
      "  a/DT\n",
      "  solo/JJ\n",
      "  ascent/NN\n",
      "  of/IN\n",
      "  (PERSON Mount/NNP Everest/NNP)\n",
      "  and/CC\n",
      "  was/VBD\n",
      "  later/RB\n",
      "  a/DT\n",
      "  member/NN\n",
      "  of/IN\n",
      "  the/DT\n",
      "  (ORGANIZATION European/NNP Parliament/NNP)\n",
      "  ./.)\n"
     ]
    }
   ],
   "execution_count": 255
  },
  {
   "cell_type": "markdown",
   "metadata": {},
   "source": [
    "**1c.** Veuillez afficher, pour chaque entité nommée, les mots qui la composent et son type.  Vous pouvez parcourir le résultat précédent avec une boucle for, et déterminer si un noeud a une étiquette avec la fonction `hasattr(noeud, 'label')`."
   ]
  },
  {
   "cell_type": "code",
   "metadata": {
    "ExecuteTime": {
     "end_time": "2024-04-29T12:39:16.066917Z",
     "start_time": "2024-04-29T12:39:16.056414Z"
    }
   },
   "source": [
    "for c in ne_chunks:\n",
    "    if hasattr(c, 'label'):\n",
    "        words = [word for word, tag in c.leaves()]\n",
    "        ne_type = c.label()\n",
    "        print(\"Mots:\", \" \".join(words))\n",
    "        print(\"Type:\", ne_type)\n",
    "        "
   ],
   "outputs": [
    {
     "name": "stdout",
     "output_type": "stream",
     "text": [
      "Mots: Reinhold\n",
      "Type: PERSON\n",
      "Mots: Messner\n",
      "Type: PERSON\n",
      "Mots: Mount Everest\n",
      "Type: PERSON\n",
      "Mots: European Parliament\n",
      "Type: ORGANIZATION\n"
     ]
    }
   ],
   "execution_count": 256
  },
  {
   "cell_type": "markdown",
   "metadata": {},
   "source": [
    "**1d.** À ce stade, que pensez-vous de la qualité des résultats de chaque système ?"
   ]
  },
  {
   "cell_type": "code",
   "execution_count": 10,
   "metadata": {
    "ExecuteTime": {
     "end_time": "2024-04-27T16:32:27.229377Z",
     "start_time": "2024-04-27T16:32:27.222864Z"
    }
   },
   "outputs": [],
   "source": [
    "# Spacy donne des résultats correctes et à correctement identifier les entités nommées. Cependant, NLTK indique que \"Reinhold Messner\" sont deux personnes distinctes et que le Mont Everest est une personne. IL semble, à ce stade, moins efficace que Spacy."
   ]
  },
  {
   "cell_type": "markdown",
   "metadata": {},
   "source": [
    "## 2. Prise en main des données de test\n",
    "\n",
    "**2a.** Quel est le format du fichier `eng.test.a.conll` ?  Quelle information contient chaque colonne ?  Quel est le format des tags NE ?\n",
    "\n",
    "Note : ce fichier fait partie des données de test pour la NER sur l'anglais de la conférence [CoNLL](https://www.clips.uantwerpen.be/pages/past-workshops) 2003. On peut lire [ici](https://www.clips.uantwerpen.be/conll2003/ner/) la description de la tâche et les scores obtenus.  On peut trouver une copie des données [ici](https://sourceforge.net/p/text-analysis/svn/1243/tree/text-analysis/trunk/Corpora/CoNLL/2003/) ou [ici](https://github.com/synalp/NER/tree/master/corpus/CoNLL-2003).  Les textes proviennent du [corpus Reuters](http://trec.nist.gov/data/reuters/reuters.html)."
   ]
  },
  {
   "cell_type": "code",
   "execution_count": 11,
   "metadata": {
    "ExecuteTime": {
     "end_time": "2024-04-27T16:32:27.239115Z",
     "start_time": "2024-04-27T16:32:27.232387Z"
    }
   },
   "outputs": [],
   "source": [
    "# Le fichier consiste en plusieurs documents, séparés par un -DOCSTART-. Chaque document consiste en une série de phrase, séparée par deux retours à la ligne.\n",
    "# Chaque ligne d'une phrase est le mot de la phrase. Chaque ligne suit la structure suivante :\n",
    "# [mot] [POS Tag] [Chunk] [Tag d'entité nommée: I|O]\n",
    "# Si le dernier tag est O : ce n'est pas une entitée nommée. Si c'est I, le tag indique le type d'entitée nommé (ORG, PER, LOC, ...)"
   ]
  },
  {
   "cell_type": "markdown",
   "metadata": {},
   "source": [
    "**2b.** Veuillez charger les données de `eng.test.a.conll` grâce à la classe `ConllCorpusReader` de NLTK vue dans les labos précédents (voir [documentation](https://www.nltk.org/api/nltk.corpus.reader.conll.html#nltk.corpus.reader.conll.ConllCorpusReader)). Veuillez lire les colonnes qui contiennent les tokens ('words'), les POS tags ('pos') et les informations sur les entités nommées ('chunk') et afficher les trois premières phrases, accessibles via la méthode `.iob_sents()`."
   ]
  },
  {
   "cell_type": "code",
   "metadata": {
    "ExecuteTime": {
     "end_time": "2024-04-29T12:39:21.451647Z",
     "start_time": "2024-04-29T12:39:21.298056Z"
    }
   },
   "source": [
    "from nltk.corpus.reader.conll import ConllCorpusReader\n",
    "\n",
    "conll_reader = ConllCorpusReader('.', '.*\\.conll', columntypes=['words', 'pos', 'chunk', 'ne'], separator=' ')\n",
    "sentences = conll_reader.iob_sents(\"./eng.test.a.conll\")[1:]\n",
    "print(\"WORD POS CHUNK\")\n",
    "print(\"==============\")\n",
    "for sentence in sentences[:3]:\n",
    "    for tagged_word in sentence:\n",
    "        print(f\"{tagged_word[0]} {tagged_word[1]} {tagged_word[2]}\")\n",
    "    print()\n",
    "\n",
    "\n"
   ],
   "outputs": [
    {
     "name": "stdout",
     "output_type": "stream",
     "text": [
      "WORD POS CHUNK\n",
      "==============\n",
      "CRICKET NNP I-NP\n",
      "- : O\n",
      "LEICESTERSHIRE NNP I-NP\n",
      "TAKE NNP I-NP\n",
      "OVER IN I-PP\n",
      "AT NNP I-NP\n",
      "TOP NNP I-NP\n",
      "AFTER NNP I-NP\n",
      "INNINGS NNP I-NP\n",
      "VICTORY NN I-NP\n",
      ". . O\n",
      "\n",
      "LONDON NNP I-NP\n",
      "1996-08-30 CD I-NP\n",
      "\n",
      "West NNP I-NP\n",
      "Indian NNP I-NP\n",
      "all-rounder NN I-NP\n",
      "Phil NNP I-NP\n",
      "Simmons NNP I-NP\n",
      "took VBD I-VP\n",
      "four CD I-NP\n",
      "for IN I-PP\n",
      "38 CD I-NP\n",
      "on IN I-PP\n",
      "Friday NNP I-NP\n",
      "as IN I-PP\n",
      "Leicestershire NNP I-NP\n",
      "beat VBD I-VP\n",
      "Somerset NNP I-NP\n",
      "by IN I-PP\n",
      "an DT I-NP\n",
      "innings NN I-NP\n",
      "and CC O\n",
      "39 CD I-NP\n",
      "runs NNS I-NP\n",
      "in IN I-PP\n",
      "two CD I-NP\n",
      "days NNS I-NP\n",
      "to TO I-VP\n",
      "take VB I-VP\n",
      "over IN I-PP\n",
      "at IN B-PP\n",
      "the DT I-NP\n",
      "head NN I-NP\n",
      "of IN I-PP\n",
      "the DT I-NP\n",
      "county NN I-NP\n",
      "championship NN I-NP\n",
      ". . O\n",
      "\n"
     ]
    }
   ],
   "execution_count": 257
  },
  {
   "cell_type": "markdown",
   "metadata": {},
   "source": [
    "**2c.** Veuillez préparer les données pour le test, en ne gardant que les phrases ayant au moins trois (3) tokens (pas 0, 1, 2) :\n",
    "\n",
    "* une variable `test_tokens` contiendra les tokens groupés par phrase (liste de listes de strings)\n",
    "* une variable `test_tags` contiendra les tags NE en une seule liste (en vue de l'évaluation)"
   ]
  },
  {
   "cell_type": "code",
   "metadata": {
    "ExecuteTime": {
     "end_time": "2024-04-29T12:39:33.441587Z",
     "start_time": "2024-04-29T12:39:32.995214Z"
    }
   },
   "source": [
    "# grids: [sentence][words][column]\n",
    "grids = conll_reader._grids(\"./eng.test.a.conll\")\n",
    "filtered_sentences = [sentence for sentence in grids if (len(sentence) >= 3)]\n",
    "test_tokens = [[word for word, _, _, _ in sentence] for sentence in filtered_sentences]\n",
    "test_tags = []\n",
    "for sentence in filtered_sentences:\n",
    "    for word in sentence:\n",
    "        test_tags.append(word[3])\n",
    "\n"
   ],
   "outputs": [],
   "execution_count": 258
  },
  {
   "cell_type": "markdown",
   "metadata": {},
   "source": [
    "**2d.** Combien d'occurrences de tags contient `test_tags`?  Combien de tags différents y a-t-il, et lesquels sont-ils ?  Combien il y a d'occurrences de tags de chaque type ?  Combien de phrases y a-t-il dans `test_tokens` ?"
   ]
  },
  {
   "cell_type": "code",
   "metadata": {
    "ExecuteTime": {
     "end_time": "2024-04-29T12:39:36.034121Z",
     "start_time": "2024-04-29T12:39:36.005290Z"
    }
   },
   "source": [
    "# Combien d'occurrences de tags contient test_tags?\n",
    "print(\"Nombre de tag :\", len(test_tags))\n",
    "\n",
    "# Combien de tags différents y a-t-il, et lesquels sont-ils ?\n",
    "unique_tags = set(test_tags)\n",
    "print(\"Nbre de tags différents :\", len(unique_tags))\n",
    "print(\"Tags différents :\", unique_tags)\n",
    "\n",
    "# Combien il y a d'occurrences de tags de chaque type ?\n",
    "occurrences_per_tag = {tag: test_tags.count(tag) for tag in unique_tags}\n",
    "print(\"Occurences de tags par type:\", occurrences_per_tag)\n",
    "\n",
    "# Combien de phrases y a-t-il dans test_tokens ?\n",
    "print(\"Nombre de phrases dans test_tokens:\", len(test_tokens))\n",
    "\n",
    "# Il semble y avoir une erreur dans le fichier connl : un 'o', qui devrait être 'O'. Le fichier a été corrigé.\n",
    "\n"
   ],
   "outputs": [
    {
     "name": "stdout",
     "output_type": "stream",
     "text": [
      "Nombre de tag : 50817\n",
      "Nbre de tags différents : 5\n",
      "Tags différents : {'I-PER', 'O', 'I-ORG', 'I-MISC', 'I-LOC'}\n",
      "Occurences de tags par type: {'I-PER': 3097, 'O': 42474, 'I-ORG': 2080, 'I-MISC': 1228, 'I-LOC': 1938}\n",
      "Nombre de phrases dans test_tokens: 2970\n"
     ]
    }
   ],
   "execution_count": 259
  },
  {
   "cell_type": "markdown",
   "metadata": {},
   "source": [
    "## 3. Performances de NLTK pour la NER\n",
    "\n",
    "**3a.** Le NER de NLTK a un jeu de tags différents de celui des données de test.  Veuillez chercher les informations pour compléter la fonction suivante qui convertir chaque tag du NER de NLTK dans le tag correspondant pour les données de test.  Attention à la logique des conversions. "
   ]
  },
  {
   "cell_type": "code",
   "metadata": {
    "ExecuteTime": {
     "end_time": "2024-04-29T12:39:41.248905Z",
     "start_time": "2024-04-29T12:39:41.237927Z"
    }
   },
   "source": [
    "\n",
    "# src : https://www.nltk.org/book/ch07.html\n",
    "def convert_nltk_conll(tag):\n",
    "    corresp = {\n",
    "        'O': 'O',  # Pas une entité nommée\n",
    "        'ORGANIZATION': 'I-ORG',  # Organisation\n",
    "        'PERSON': 'I-PER',  # Personne\n",
    "        'LOCATION' : 'I-LOC', # Lieu\n",
    "        'GPE' : 'I-LOC', # Lieu (entitée géopolitique)\n",
    "        'FACILITY' : 'I-LOC',\n",
    "        # Les NE suivantes ne sont pas présentes dans les données de référence\n",
    "        'DATE' : 'O',\n",
    "        'TIME' : 'O',\n",
    "        'PERCENT' : 'O',\n",
    "    }\n",
    "\n",
    "    return corresp.get(tag, 'I-MISC')\n"
   ],
   "outputs": [],
   "execution_count": 260
  },
  {
   "cell_type": "markdown",
   "metadata": {},
   "source": [
    "**3b.** Veuillez exécuter la NER de NLTK sur chacune des phrases de `test_tokens`, ce qui assure que NLTK aura la même tokenisation que les données de référence.  Veuillez stocker les tags dans une liste unique appelée `nltk_tags`."
   ]
  },
  {
   "cell_type": "code",
   "metadata": {
    "ExecuteTime": {
     "end_time": "2024-04-29T12:39:55.276512Z",
     "start_time": "2024-04-29T12:39:44.003385Z"
    }
   },
   "source": [
    "nltk_tags = []\n",
    "for sentence in test_tokens:\n",
    "    chunks = ne_chunk(pos_tag(sentence))\n",
    "    for chunk in chunks:\n",
    "        if hasattr(chunk, \"label\"):\n",
    "            # Répète l'ajout autant de tag qu'il y a de mot dans l'entité denommé\n",
    "            for _ in chunk.leaves():\n",
    "                nltk_tags.append(chunk.label())\n",
    "        else:\n",
    "            nltk_tags.append(\"O\")\n",
    "            \n"
   ],
   "outputs": [],
   "execution_count": 261
  },
  {
   "cell_type": "markdown",
   "metadata": {},
   "source": [
    "**3c.** Veuillez convertir les tags de `nltk_tags` grâce à la fonction précédente, dans une liste appelée `nltk_tags_conv`.  Veuillez afficher le nombre total de tags et les dix premiers.  Vous pouvez plusieurs essais en changeant la fonction, pour aboutir à la conversion qui maximise le score."
   ]
  },
  {
   "cell_type": "code",
   "metadata": {
    "ExecuteTime": {
     "end_time": "2024-04-29T12:40:30.499913Z",
     "start_time": "2024-04-29T12:40:30.468900Z"
    }
   },
   "source": [
    "nltk_tags_conv = [convert_nltk_conll(tag) for tag in nltk_tags]\n",
    "\n",
    "print(\"Nombre de tags : \", len(nltk_tags_conv))\n",
    "print(\"Dix premiers tags : \", nltk_tags_conv[0:10])"
   ],
   "outputs": [
    {
     "name": "stdout",
     "output_type": "stream",
     "text": [
      "Nombre de tags :  50817\n",
      "Dix premiers tags :  ['I-LOC', 'O', 'I-ORG', 'O', 'O', 'O', 'I-ORG', 'O', 'I-ORG', 'O']\n"
     ]
    }
   ],
   "execution_count": 262
  },
  {
   "cell_type": "markdown",
   "metadata": {},
   "source": [
    "**3d.** Veuillez afficher le rapport d'évaluation de classification obtenu de Scikit-learn et la matrice de confusion pour tous les types de tags apparaissant dans les données de test."
   ]
  },
  {
   "cell_type": "code",
   "metadata": {
    "ExecuteTime": {
     "end_time": "2024-04-29T12:40:34.437962Z",
     "start_time": "2024-04-29T12:40:34.429184Z"
    }
   },
   "source": [
    "from sklearn.metrics import classification_report, confusion_matrix, ConfusionMatrixDisplay\n",
    "import matplotlib.pyplot as plt\n",
    "import numpy as np\n",
    "unique_tags = list(unique_tags)\n"
   ],
   "outputs": [],
   "execution_count": 263
  },
  {
   "cell_type": "code",
   "metadata": {
    "ExecuteTime": {
     "end_time": "2024-04-29T12:40:36.925776Z",
     "start_time": "2024-04-29T12:40:36.486616Z"
    }
   },
   "source": [
    "\n",
    "conf_matrix = confusion_matrix(test_tags, nltk_tags_conv, labels=unique_tags)\n",
    "plt.figure(figsize=(10, 8))\n",
    "\n",
    "disp = ConfusionMatrixDisplay(confusion_matrix=conf_matrix, display_labels=unique_tags)\n",
    "disp.plot()\n",
    "\n",
    "plt.title('Matrice de confusion')\n",
    "plt.ylabel('Ground truth')\n",
    "plt.xlabel('Prédiction (NLTK)')\n",
    "plt.yticks(rotation=45)\n",
    "plt.grid(False)\n",
    "plt.plot()"
   ],
   "outputs": [
    {
     "data": {
      "text/plain": [
       "[]"
      ]
     },
     "execution_count": 264,
     "metadata": {},
     "output_type": "execute_result"
    },
    {
     "data": {
      "text/plain": [
       "<Figure size 1000x800 with 0 Axes>"
      ]
     },
     "metadata": {},
     "output_type": "display_data"
    },
    {
     "data": {
      "text/plain": [
       "<Figure size 640x480 with 2 Axes>"
      ],
      "image/png": "[encoded data removed]"
     },
     "metadata": {},
     "output_type": "display_data"
    }
   ],
   "execution_count": 264
  },
  {
   "cell_type": "code",
   "metadata": {
    "ExecuteTime": {
     "end_time": "2024-04-29T12:41:23.008232Z",
     "start_time": "2024-04-29T12:41:22.181647Z"
    }
   },
   "source": [
    "# Créer un rapport d'évaluation de classification\n",
    "class_report = classification_report(test_tags, nltk_tags_conv, target_names=['I-LOC', 'I-MISC', 'I-ORG', 'I-PER', 'O'])\n",
    "\n",
    "# Afficher le rapport d'évaluation de classification\n",
    "print(class_report)"
   ],
   "outputs": [
    {
     "name": "stdout",
     "output_type": "stream",
     "text": [
      "              precision    recall  f1-score   support\n",
      "\n",
      "       I-LOC       0.55      0.72      0.62      1938\n",
      "      I-MISC       0.16      0.01      0.01      1228\n",
      "       I-ORG       0.51      0.35      0.41      2080\n",
      "       I-PER       0.77      0.74      0.76      3097\n",
      "           O       0.96      0.99      0.97     42474\n",
      "\n",
      "    accuracy                           0.91     50817\n",
      "   macro avg       0.59      0.56      0.56     50817\n",
      "weighted avg       0.89      0.91      0.90     50817\n",
      "\n"
     ]
    }
   ],
   "execution_count": 265
  },
  {
   "cell_type": "markdown",
   "metadata": {},
   "source": [
    "\n",
    "## 4. Performances de spaCy pour la NER\n",
    "\n",
    "**4a.** Le NER de spaCy a aussi un jeu de tags différents de celui des données de test.  Veuillez chercher les informations pour compléter la fonction suivante qui convertir chaque tag du NER de spaCy dans le tag correspondant pour les données de test.  Attention à la logique des conversions. "
   ]
  },
  {
   "cell_type": "code",
   "metadata": {
    "ExecuteTime": {
     "end_time": "2024-04-29T13:03:59.445692Z",
     "start_time": "2024-04-29T13:03:59.433971Z"
    }
   },
   "source": [
    "# from https://spacy.io/models/en\n",
    "def convert_spacy_conll(spacy_tag):\n",
    "    corresp = {\n",
    "        '': 'O',  # Pas une entité nommée\n",
    "        'ORG': 'I-ORG',  # Organisation\n",
    "        'PRODUCT': 'I-ORG',\n",
    "        'PERSON': 'I-PER',  # Personne\n",
    "        'LOC' : 'I-LOC', # Lieu\n",
    "        'GPE' : 'I-LOC',\n",
    "        'FAC' : 'I-LOC',\n",
    "        # Les valeurs ci-dessous sont détectée par spacy, mais pas annotée dans le texte de base. On les set à O pour éviter de fausser les résultats\n",
    "        'CARDINAL' : 'O',\n",
    "        'DATE' : 'O',\n",
    "        'EVENT' : 'O',\n",
    "        'LAW' : 'O',\n",
    "        'MONEY' : 'O',\n",
    "        'ORDINAL' : 'O',\n",
    "        'PERCENT' : 'O',\n",
    "        'QUANTITY': 'O',\n",
    "        'TIME': 'O',\n",
    "    }\n",
    "\n",
    "    return corresp.get(spacy_tag, 'I-MISC')"
   ],
   "outputs": [],
   "execution_count": 319
  },
  {
   "cell_type": "markdown",
   "metadata": {},
   "source": [
    "**4b.** Veuillez exécuter la NER de spaCy sur chacune des phrases de `test_tokens`, ce qui assure que spaCy aura la même tokenisation que les données de référence.  Veuillez stocker les tags dans une liste unique appelée `spacy_tags`."
   ]
  },
  {
   "cell_type": "code",
   "metadata": {
    "ExecuteTime": {
     "end_time": "2024-04-29T12:41:55.498359Z",
     "start_time": "2024-04-29T12:41:47.495687Z"
    }
   },
   "source": [
    "spacy_tags = []\n",
    "for sentence in test_tokens:\n",
    "    doc = Doc(nlp.vocab, words=sentence)\n",
    "    nlp.get_pipe(\"ner\")(doc)\n",
    "    for d in doc:\n",
    "        if d.ent_type_ == \"\":\n",
    "            spacy_tags.append(\"O\")\n",
    "        else:\n",
    "        spacy_tags.append(d.ent_type_)"
   ],
   "outputs": [],
   "execution_count": 267
  },
  {
   "cell_type": "markdown",
   "metadata": {},
   "source": "**4c.** Veuillez convertir les tags de `spacy_tags` grâce à la fonction précédente, dans une liste appelée `spacy_tags_conv`.  Veuillez afficher le nombre total de tags et les dix premiers.  Vous pouvez plusieurs essais en changeant la fonction, pour aboutir à la conversion qui maximise le score."
  },
  {
   "cell_type": "code",
   "metadata": {
    "ExecuteTime": {
     "end_time": "2024-04-29T13:04:03.972281Z",
     "start_time": "2024-04-29T13:04:03.917571Z"
    }
   },
   "source": [
    "spacy_tags_conv = [convert_spacy_conll(tag) for tag in spacy_tags]\n",
    "\n",
    "print(\"Nombre de tags : \", len(spacy_tags_conv))\n",
    "print(\"Dix premiers tags : \", spacy_tags_conv[0:10])"
   ],
   "outputs": [
    {
     "name": "stdout",
     "output_type": "stream",
     "text": [
      "Nombre de tags :  50817\n",
      "Dix premiers tags :  ['O', 'O', 'O', 'O', 'O', 'O', 'O', 'O', 'O', 'O']\n"
     ]
    }
   ],
   "execution_count": 320
  },
  {
   "cell_type": "markdown",
   "metadata": {},
   "source": [
    "**4d.** Veuillez afficher le rapport d'évaluation de classification obtenu de Scikit-learn et la matrice de confusion pour tous les types de tags apparaissant dans les données de test."
   ]
  },
  {
   "metadata": {
    "ExecuteTime": {
     "end_time": "2024-04-29T13:04:06.859607Z",
     "start_time": "2024-04-29T13:04:06.436081Z"
    }
   },
   "cell_type": "code",
   "source": [
    "\n",
    "conf_matrix = confusion_matrix(test_tags, spacy_tags_conv, labels=unique_tags)\n",
    "plt.figure(figsize=(10, 8))\n",
    "\n",
    "disp = ConfusionMatrixDisplay(confusion_matrix=conf_matrix, display_labels=unique_tags)\n",
    "disp.plot()\n",
    "\n",
    "plt.title('Matrice de confusion')\n",
    "plt.ylabel('Ground truth')\n",
    "plt.xlabel('Prédiction (SpaCy)')\n",
    "plt.yticks(rotation=45)\n",
    "plt.grid(False)\n",
    "plt.plot()"
   ],
   "outputs": [
    {
     "data": {
      "text/plain": [
       "[]"
      ]
     },
     "execution_count": 321,
     "metadata": {},
     "output_type": "execute_result"
    },
    {
     "data": {
      "text/plain": [
       "<Figure size 1000x800 with 0 Axes>"
      ]
     },
     "metadata": {},
     "output_type": "display_data"
    },
    {
     "data": {
      "text/plain": [
       "<Figure size 640x480 with 2 Axes>"
      ],
      "image/png": "[encoded data removed]"
     },
     "metadata": {},
     "output_type": "display_data"
    }
   ],
   "execution_count": 321
  },
  {
   "metadata": {
    "ExecuteTime": {
     "end_time": "2024-04-29T13:04:30.622789Z",
     "start_time": "2024-04-29T13:04:30.178160Z"
    }
   },
   "cell_type": "code",
   "source": [
    "# Créer un rapport d'évaluation de classification\n",
    "class_report = classification_report(test_tags, spacy_tags_conv, target_names=['I-LOC', 'I-MISC', 'I-ORG', 'I-PER', 'O'])\n",
    "\n",
    "# Afficher le rapport d'évaluation de classification\n",
    "print(class_report)"
   ],
   "outputs": [
    {
     "name": "stdout",
     "output_type": "stream",
     "text": [
      "              precision    recall  f1-score   support\n",
      "\n",
      "       I-LOC       0.78      0.80      0.79      1938\n",
      "      I-MISC       0.89      0.47      0.62      1228\n",
      "       I-ORG       0.52      0.52      0.52      2080\n",
      "       I-PER       0.83      0.70      0.76      3097\n",
      "           O       0.96      0.98      0.97     42474\n",
      "\n",
      "    accuracy                           0.93     50817\n",
      "   macro avg       0.80      0.70      0.73     50817\n",
      "weighted avg       0.93      0.93      0.93     50817\n",
      "\n"
     ]
    }
   ],
   "execution_count": 322
  },
  {
   "cell_type": "markdown",
   "metadata": {},
   "source": [
    "**4e.** Veuillez exécuter également le modèle 'en_core_web_lg' de spacy et afficher le rapport d'évaluation (mais pas la matrice de confusion).  Vous pouvez recopier ici le minimum de code nécessaire à l'obtention des résultats, avec une nouvelle pipeline spaCy appelée 'nlp2'."
   ]
  },
  {
   "metadata": {
    "ExecuteTime": {
     "end_time": "2024-04-28T12:40:15.120268Z",
     "start_time": "2024-04-28T12:39:36.163015Z"
    }
   },
   "cell_type": "code",
   "source": "# !python -m spacy download en_core_web_lg",
   "outputs": [
    {
     "name": "stdout",
     "output_type": "stream",
     "text": [
      "Collecting en-core-web-lg==3.7.1\n",
      "  Downloading https://github.com/explosion/spacy-models/releases/download/en_core_web_lg-3.7.1/en_core_web_lg-3.7.1-py3-none-any.whl (587.7 MB)\n",
      "     ---------------------------------------- 0.0/587.7 MB ? eta -:--:--\n",
      "     ---------------------------------------- 0.0/587.7 MB ? eta -:--:--\n",
      "     -------------------------------------- 0.1/587.7 MB 812.7 kB/s eta 0:12:04\n",
      "     ---------------------------------------- 0.6/587.7 MB 4.6 MB/s eta 0:02:08\n",
      "     ---------------------------------------- 1.6/587.7 MB 9.5 MB/s eta 0:01:02\n",
      "     --------------------------------------- 2.8/587.7 MB 12.8 MB/s eta 0:00:46\n",
      "     --------------------------------------- 3.9/587.7 MB 15.6 MB/s eta 0:00:38\n",
      "     --------------------------------------- 4.9/587.7 MB 15.8 MB/s eta 0:00:37\n",
      "     --------------------------------------- 6.1/587.7 MB 17.0 MB/s eta 0:00:35\n",
      "     --------------------------------------- 7.3/587.7 MB 17.8 MB/s eta 0:00:33\n",
      "      -------------------------------------- 8.5/587.7 MB 18.6 MB/s eta 0:00:32\n",
      "      -------------------------------------- 9.6/587.7 MB 19.2 MB/s eta 0:00:31\n",
      "      ------------------------------------- 10.7/587.7 MB 23.4 MB/s eta 0:00:25\n",
      "      ------------------------------------- 11.9/587.7 MB 24.2 MB/s eta 0:00:24\n",
      "      ------------------------------------- 12.8/587.7 MB 23.4 MB/s eta 0:00:25\n",
      "      ------------------------------------- 13.9/587.7 MB 23.4 MB/s eta 0:00:25\n",
      "      ------------------------------------- 15.1/587.7 MB 24.2 MB/s eta 0:00:24\n",
      "     - ------------------------------------ 16.2/587.7 MB 23.4 MB/s eta 0:00:25\n",
      "     - ------------------------------------ 17.4/587.7 MB 24.2 MB/s eta 0:00:24\n",
      "     - ------------------------------------ 18.5/587.7 MB 23.4 MB/s eta 0:00:25\n",
      "     - ------------------------------------ 18.7/587.7 MB 21.9 MB/s eta 0:00:27\n",
      "     - ------------------------------------ 19.1/587.7 MB 21.8 MB/s eta 0:00:27\n",
      "     - ------------------------------------ 20.3/587.7 MB 19.8 MB/s eta 0:00:29\n",
      "     - ------------------------------------ 21.1/587.7 MB 19.8 MB/s eta 0:00:29\n",
      "     - ------------------------------------ 22.2/587.7 MB 19.8 MB/s eta 0:00:29\n",
      "     - ------------------------------------ 23.5/587.7 MB 19.9 MB/s eta 0:00:29\n",
      "     - ------------------------------------ 23.8/587.7 MB 19.2 MB/s eta 0:00:30\n",
      "     - ------------------------------------ 24.5/587.7 MB 18.7 MB/s eta 0:00:31\n",
      "     - ------------------------------------ 25.6/587.7 MB 18.2 MB/s eta 0:00:31\n",
      "     - ------------------------------------ 26.3/587.7 MB 18.2 MB/s eta 0:00:31\n",
      "     - ------------------------------------ 26.4/587.7 MB 16.8 MB/s eta 0:00:34\n",
      "     - ------------------------------------ 28.1/587.7 MB 17.2 MB/s eta 0:00:33\n",
      "     - ------------------------------------ 28.8/587.7 MB 17.2 MB/s eta 0:00:33\n",
      "     - ------------------------------------ 29.8/587.7 MB 18.7 MB/s eta 0:00:30\n",
      "     -- ----------------------------------- 31.0/587.7 MB 18.7 MB/s eta 0:00:30\n",
      "     -- ----------------------------------- 31.6/587.7 MB 18.7 MB/s eta 0:00:30\n",
      "     -- ----------------------------------- 32.6/587.7 MB 18.2 MB/s eta 0:00:31\n",
      "     -- ----------------------------------- 33.5/587.7 MB 17.7 MB/s eta 0:00:32\n",
      "     -- ----------------------------------- 34.5/587.7 MB 19.3 MB/s eta 0:00:29\n",
      "     -- ----------------------------------- 35.5/587.7 MB 18.7 MB/s eta 0:00:30\n",
      "     -- ----------------------------------- 36.5/587.7 MB 21.9 MB/s eta 0:00:26\n",
      "     -- ----------------------------------- 37.5/587.7 MB 19.9 MB/s eta 0:00:28\n",
      "     -- ----------------------------------- 38.4/587.7 MB 19.9 MB/s eta 0:00:28\n",
      "     -- ----------------------------------- 38.9/587.7 MB 18.7 MB/s eta 0:00:30\n",
      "     -- ----------------------------------- 39.9/587.7 MB 19.3 MB/s eta 0:00:29\n",
      "     -- ----------------------------------- 41.0/587.7 MB 19.3 MB/s eta 0:00:29\n",
      "     -- ----------------------------------- 42.2/587.7 MB 20.5 MB/s eta 0:00:27\n",
      "     -- ----------------------------------- 43.2/587.7 MB 19.9 MB/s eta 0:00:28\n",
      "     -- ----------------------------------- 43.7/587.7 MB 19.3 MB/s eta 0:00:29\n",
      "     -- ----------------------------------- 45.0/587.7 MB 20.5 MB/s eta 0:00:27\n",
      "     -- ----------------------------------- 46.3/587.7 MB 20.5 MB/s eta 0:00:27\n",
      "     --- ---------------------------------- 47.6/587.7 MB 21.1 MB/s eta 0:00:26\n",
      "     --- ---------------------------------- 48.9/587.7 MB 22.5 MB/s eta 0:00:24\n",
      "     --- ---------------------------------- 50.3/587.7 MB 24.3 MB/s eta 0:00:23\n",
      "     --- ---------------------------------- 51.4/587.7 MB 25.1 MB/s eta 0:00:22\n",
      "     --- ---------------------------------- 51.4/587.7 MB 25.1 MB/s eta 0:00:22\n",
      "     --- ---------------------------------- 52.7/587.7 MB 21.8 MB/s eta 0:00:25\n",
      "     --- ---------------------------------- 53.8/587.7 MB 23.4 MB/s eta 0:00:23\n",
      "     --- ---------------------------------- 54.9/587.7 MB 23.4 MB/s eta 0:00:23\n",
      "     --- ---------------------------------- 56.2/587.7 MB 23.4 MB/s eta 0:00:23\n",
      "     --- ---------------------------------- 57.5/587.7 MB 23.4 MB/s eta 0:00:23\n",
      "     --- ---------------------------------- 58.8/587.7 MB 23.4 MB/s eta 0:00:23\n",
      "     --- ---------------------------------- 59.9/587.7 MB 23.4 MB/s eta 0:00:23\n",
      "     --- ---------------------------------- 60.9/587.7 MB 22.6 MB/s eta 0:00:24\n",
      "     ---- --------------------------------- 62.3/587.7 MB 26.2 MB/s eta 0:00:21\n",
      "     ---- --------------------------------- 63.7/587.7 MB 26.2 MB/s eta 0:00:21\n",
      "     ---- --------------------------------- 64.7/587.7 MB 26.2 MB/s eta 0:00:20\n",
      "     ---- --------------------------------- 65.9/587.7 MB 26.2 MB/s eta 0:00:20\n",
      "     ---- --------------------------------- 67.1/587.7 MB 26.2 MB/s eta 0:00:20\n",
      "     ---- --------------------------------- 67.1/587.7 MB 26.2 MB/s eta 0:00:20\n",
      "     ---- --------------------------------- 68.8/587.7 MB 23.4 MB/s eta 0:00:23\n",
      "     ---- --------------------------------- 70.0/587.7 MB 23.4 MB/s eta 0:00:23\n",
      "     ---- --------------------------------- 71.1/587.7 MB 24.2 MB/s eta 0:00:22\n",
      "     ---- --------------------------------- 72.1/587.7 MB 23.4 MB/s eta 0:00:23\n",
      "     ---- --------------------------------- 73.1/587.7 MB 23.4 MB/s eta 0:00:23\n",
      "     ---- --------------------------------- 74.2/587.7 MB 23.4 MB/s eta 0:00:22\n",
      "     ---- --------------------------------- 75.4/587.7 MB 22.6 MB/s eta 0:00:23\n",
      "     ---- --------------------------------- 76.4/587.7 MB 22.6 MB/s eta 0:00:23\n",
      "     ---- --------------------------------- 76.9/587.7 MB 21.8 MB/s eta 0:00:24\n",
      "     ----- -------------------------------- 77.7/587.7 MB 21.8 MB/s eta 0:00:24\n",
      "     ----- -------------------------------- 78.7/587.7 MB 21.8 MB/s eta 0:00:24\n",
      "     ----- -------------------------------- 79.6/587.7 MB 20.5 MB/s eta 0:00:25\n",
      "     ----- -------------------------------- 80.5/587.7 MB 20.5 MB/s eta 0:00:25\n",
      "     ----- -------------------------------- 81.6/587.7 MB 20.5 MB/s eta 0:00:25\n",
      "     ----- -------------------------------- 82.6/587.7 MB 19.9 MB/s eta 0:00:26\n",
      "     ----- -------------------------------- 83.6/587.7 MB 19.8 MB/s eta 0:00:26\n",
      "     ----- -------------------------------- 84.5/587.7 MB 19.8 MB/s eta 0:00:26\n",
      "     ----- -------------------------------- 85.2/587.7 MB 19.3 MB/s eta 0:00:27\n",
      "     ----- -------------------------------- 85.9/587.7 MB 18.2 MB/s eta 0:00:28\n",
      "     ----- -------------------------------- 86.4/587.7 MB 17.7 MB/s eta 0:00:29\n",
      "     ----- -------------------------------- 87.0/587.7 MB 17.3 MB/s eta 0:00:30\n",
      "     ----- -------------------------------- 87.9/587.7 MB 17.7 MB/s eta 0:00:29\n",
      "     ----- -------------------------------- 88.8/587.7 MB 17.7 MB/s eta 0:00:29\n",
      "     ----- -------------------------------- 89.8/587.7 MB 18.2 MB/s eta 0:00:28\n",
      "     ----- -------------------------------- 90.8/587.7 MB 18.2 MB/s eta 0:00:28\n",
      "     ----- -------------------------------- 91.5/587.7 MB 17.7 MB/s eta 0:00:29\n",
      "     ----- -------------------------------- 92.6/587.7 MB 17.7 MB/s eta 0:00:28\n",
      "     ------ ------------------------------- 93.6/587.7 MB 17.7 MB/s eta 0:00:28\n",
      "     ------ ------------------------------- 94.7/587.7 MB 17.7 MB/s eta 0:00:28\n",
      "     ------ ------------------------------- 95.7/587.7 MB 18.7 MB/s eta 0:00:27\n",
      "     ------ ------------------------------- 96.7/587.7 MB 19.8 MB/s eta 0:00:25\n",
      "     ------ ------------------------------- 97.4/587.7 MB 20.5 MB/s eta 0:00:24\n",
      "     ------ ------------------------------- 98.5/587.7 MB 20.5 MB/s eta 0:00:24\n",
      "     ------ ------------------------------- 99.4/587.7 MB 20.5 MB/s eta 0:00:24\n",
      "     ------ ------------------------------ 100.6/587.7 MB 21.1 MB/s eta 0:00:24\n",
      "     ------ ------------------------------ 101.4/587.7 MB 21.1 MB/s eta 0:00:24\n",
      "     ------ ------------------------------ 102.4/587.7 MB 21.1 MB/s eta 0:00:23\n",
      "     ------ ------------------------------ 103.5/587.7 MB 21.9 MB/s eta 0:00:23\n",
      "     ------ ------------------------------ 104.4/587.7 MB 20.5 MB/s eta 0:00:24\n",
      "     ------ ------------------------------ 105.5/587.7 MB 21.1 MB/s eta 0:00:23\n",
      "     ------ ------------------------------ 106.4/587.7 MB 20.5 MB/s eta 0:00:24\n",
      "     ------ ------------------------------ 107.3/587.7 MB 20.5 MB/s eta 0:00:24\n",
      "     ------ ------------------------------ 108.4/587.7 MB 21.8 MB/s eta 0:00:22\n",
      "     ------ ------------------------------ 109.2/587.7 MB 20.5 MB/s eta 0:00:24\n",
      "     ------ ------------------------------ 110.2/587.7 MB 20.5 MB/s eta 0:00:24\n",
      "     ------- ----------------------------- 111.3/587.7 MB 20.5 MB/s eta 0:00:24\n",
      "     ------- ----------------------------- 112.3/587.7 MB 21.1 MB/s eta 0:00:23\n",
      "     ------- ----------------------------- 113.3/587.7 MB 20.5 MB/s eta 0:00:24\n",
      "     ------- ----------------------------- 114.4/587.7 MB 21.1 MB/s eta 0:00:23\n",
      "     ------- ----------------------------- 115.4/587.7 MB 21.1 MB/s eta 0:00:23\n",
      "     ------- ----------------------------- 116.6/587.7 MB 21.9 MB/s eta 0:00:22\n",
      "     ------- ----------------------------- 117.6/587.7 MB 21.8 MB/s eta 0:00:22\n",
      "     ------- ----------------------------- 118.5/587.7 MB 21.1 MB/s eta 0:00:23\n",
      "     ------- ----------------------------- 119.6/587.7 MB 21.8 MB/s eta 0:00:22\n",
      "     ------- ----------------------------- 120.6/587.7 MB 21.8 MB/s eta 0:00:22\n",
      "     ------- ----------------------------- 121.6/587.7 MB 21.8 MB/s eta 0:00:22\n",
      "     ------- ----------------------------- 122.5/587.7 MB 21.1 MB/s eta 0:00:23\n",
      "     ------- ----------------------------- 123.6/587.7 MB 21.9 MB/s eta 0:00:22\n",
      "     ------- ----------------------------- 124.4/587.7 MB 21.1 MB/s eta 0:00:22\n",
      "     ------- ----------------------------- 125.3/587.7 MB 20.5 MB/s eta 0:00:23\n",
      "     ------- ----------------------------- 126.4/587.7 MB 21.1 MB/s eta 0:00:22\n",
      "     -------- ---------------------------- 127.4/587.7 MB 20.5 MB/s eta 0:00:23\n",
      "     -------- ---------------------------- 128.4/587.7 MB 21.1 MB/s eta 0:00:22\n",
      "     -------- ---------------------------- 129.5/587.7 MB 21.1 MB/s eta 0:00:22\n",
      "     -------- ---------------------------- 130.3/587.7 MB 20.5 MB/s eta 0:00:23\n",
      "     -------- ---------------------------- 131.3/587.7 MB 21.1 MB/s eta 0:00:22\n",
      "     -------- ---------------------------- 132.1/587.7 MB 19.8 MB/s eta 0:00:23\n",
      "     -------- ---------------------------- 132.9/587.7 MB 19.8 MB/s eta 0:00:23\n",
      "     -------- ---------------------------- 133.8/587.7 MB 19.8 MB/s eta 0:00:23\n",
      "     -------- ---------------------------- 134.9/587.7 MB 19.8 MB/s eta 0:00:23\n",
      "     -------- ---------------------------- 135.9/587.7 MB 19.9 MB/s eta 0:00:23\n",
      "     -------- ---------------------------- 136.9/587.7 MB 19.9 MB/s eta 0:00:23\n",
      "     -------- ---------------------------- 137.6/587.7 MB 20.5 MB/s eta 0:00:22\n",
      "     -------- ---------------------------- 138.6/587.7 MB 19.3 MB/s eta 0:00:24\n",
      "     -------- ---------------------------- 139.6/587.7 MB 19.3 MB/s eta 0:00:24\n",
      "     -------- ---------------------------- 140.3/587.7 MB 18.7 MB/s eta 0:00:24\n",
      "     -------- ---------------------------- 141.4/587.7 MB 19.2 MB/s eta 0:00:24\n",
      "     -------- ---------------------------- 142.4/587.7 MB 19.8 MB/s eta 0:00:23\n",
      "     --------- --------------------------- 143.4/587.7 MB 20.5 MB/s eta 0:00:22\n",
      "     --------- --------------------------- 144.5/587.7 MB 20.5 MB/s eta 0:00:22\n",
      "     --------- --------------------------- 145.5/587.7 MB 19.8 MB/s eta 0:00:23\n",
      "     --------- --------------------------- 146.6/587.7 MB 19.8 MB/s eta 0:00:23\n",
      "     --------- --------------------------- 147.6/587.7 MB 20.5 MB/s eta 0:00:22\n",
      "     --------- --------------------------- 148.8/587.7 MB 21.8 MB/s eta 0:00:21\n",
      "     --------- --------------------------- 149.8/587.7 MB 22.6 MB/s eta 0:00:20\n",
      "     --------- --------------------------- 150.9/587.7 MB 22.5 MB/s eta 0:00:20\n",
      "     --------- --------------------------- 151.9/587.7 MB 22.6 MB/s eta 0:00:20\n",
      "     --------- --------------------------- 153.0/587.7 MB 22.6 MB/s eta 0:00:20\n",
      "     --------- --------------------------- 154.1/587.7 MB 23.4 MB/s eta 0:00:19\n",
      "     --------- --------------------------- 155.0/587.7 MB 21.8 MB/s eta 0:00:20\n",
      "     --------- --------------------------- 156.0/587.7 MB 21.8 MB/s eta 0:00:20\n",
      "     --------- --------------------------- 157.2/587.7 MB 22.6 MB/s eta 0:00:20\n",
      "     --------- --------------------------- 158.1/587.7 MB 22.6 MB/s eta 0:00:20\n",
      "     --------- --------------------------- 158.8/587.7 MB 21.1 MB/s eta 0:00:21\n",
      "     ---------- -------------------------- 159.7/587.7 MB 21.1 MB/s eta 0:00:21\n",
      "     ---------- -------------------------- 160.8/587.7 MB 20.5 MB/s eta 0:00:21\n",
      "     ---------- -------------------------- 161.9/587.7 MB 20.5 MB/s eta 0:00:21\n",
      "     ---------- -------------------------- 162.9/587.7 MB 21.1 MB/s eta 0:00:21\n",
      "     ---------- -------------------------- 164.0/587.7 MB 21.1 MB/s eta 0:00:21\n",
      "     ---------- -------------------------- 165.1/587.7 MB 21.1 MB/s eta 0:00:20\n",
      "     ---------- -------------------------- 165.9/587.7 MB 20.5 MB/s eta 0:00:21\n",
      "     ---------- -------------------------- 167.0/587.7 MB 20.5 MB/s eta 0:00:21\n",
      "     ---------- -------------------------- 168.0/587.7 MB 20.5 MB/s eta 0:00:21\n",
      "     ---------- -------------------------- 169.0/587.7 MB 21.8 MB/s eta 0:00:20\n",
      "     ---------- -------------------------- 170.0/587.7 MB 21.1 MB/s eta 0:00:20\n",
      "     ---------- -------------------------- 171.0/587.7 MB 21.1 MB/s eta 0:00:20\n",
      "     ---------- -------------------------- 172.1/587.7 MB 21.1 MB/s eta 0:00:20\n",
      "     ---------- -------------------------- 173.1/587.7 MB 21.1 MB/s eta 0:00:20\n",
      "     ---------- -------------------------- 174.3/587.7 MB 21.1 MB/s eta 0:00:20\n",
      "     ----------- ------------------------- 175.1/587.7 MB 21.1 MB/s eta 0:00:20\n",
      "     ----------- ------------------------- 176.0/587.7 MB 21.1 MB/s eta 0:00:20\n",
      "     ----------- ------------------------- 177.1/587.7 MB 21.1 MB/s eta 0:00:20\n",
      "     ----------- ------------------------- 178.3/587.7 MB 22.6 MB/s eta 0:00:19\n",
      "     ----------- ------------------------- 179.4/587.7 MB 21.8 MB/s eta 0:00:19\n",
      "     ----------- ------------------------- 180.6/587.7 MB 22.6 MB/s eta 0:00:19\n",
      "     ----------- ------------------------- 181.7/587.7 MB 23.4 MB/s eta 0:00:18\n",
      "     ----------- ------------------------- 182.9/587.7 MB 22.6 MB/s eta 0:00:18\n",
      "     ----------- ------------------------- 184.2/587.7 MB 23.4 MB/s eta 0:00:18\n",
      "     ----------- ------------------------- 185.1/587.7 MB 23.4 MB/s eta 0:00:18\n",
      "     ----------- ------------------------- 186.5/587.7 MB 25.1 MB/s eta 0:00:16\n",
      "     ----------- ------------------------- 187.8/587.7 MB 25.2 MB/s eta 0:00:16\n",
      "     ----------- ------------------------- 189.0/587.7 MB 25.2 MB/s eta 0:00:16\n",
      "     ----------- ------------------------- 190.2/587.7 MB 25.2 MB/s eta 0:00:16\n",
      "     ------------ ------------------------ 191.1/587.7 MB 25.2 MB/s eta 0:00:16\n",
      "     ------------ ------------------------ 192.4/587.7 MB 25.2 MB/s eta 0:00:16\n",
      "     ------------ ------------------------ 193.7/587.7 MB 25.2 MB/s eta 0:00:16\n",
      "     ------------ ------------------------ 194.9/587.7 MB 25.1 MB/s eta 0:00:16\n",
      "     ------------ ------------------------ 196.2/587.7 MB 26.2 MB/s eta 0:00:15\n",
      "     ------------ ------------------------ 197.5/587.7 MB 26.2 MB/s eta 0:00:15\n",
      "     ------------ ------------------------ 198.6/587.7 MB 25.2 MB/s eta 0:00:16\n",
      "     ------------ ------------------------ 199.8/587.7 MB 26.2 MB/s eta 0:00:15\n",
      "     ------------ ------------------------ 201.0/587.7 MB 24.2 MB/s eta 0:00:16\n",
      "     ------------ ------------------------ 202.4/587.7 MB 26.2 MB/s eta 0:00:15\n",
      "     ------------ ------------------------ 203.7/587.7 MB 26.2 MB/s eta 0:00:15\n",
      "     ------------ ------------------------ 204.8/587.7 MB 25.2 MB/s eta 0:00:16\n",
      "     ------------ ------------------------ 206.2/587.7 MB 26.2 MB/s eta 0:00:15\n",
      "     ------------- ----------------------- 207.5/587.7 MB 26.2 MB/s eta 0:00:15\n",
      "     ------------- ----------------------- 208.2/587.7 MB 26.2 MB/s eta 0:00:15\n",
      "     ------------- ----------------------- 209.3/587.7 MB 26.2 MB/s eta 0:00:15\n",
      "     ------------- ----------------------- 210.7/587.7 MB 25.1 MB/s eta 0:00:15\n",
      "     ------------- ----------------------- 211.8/587.7 MB 26.2 MB/s eta 0:00:15\n",
      "     ------------- ----------------------- 213.0/587.7 MB 24.3 MB/s eta 0:00:16\n",
      "     ------------- ----------------------- 214.3/587.7 MB 25.1 MB/s eta 0:00:15\n",
      "     ------------- ----------------------- 215.6/587.7 MB 25.2 MB/s eta 0:00:15\n",
      "     ------------- ----------------------- 217.0/587.7 MB 25.2 MB/s eta 0:00:15\n",
      "     ------------- ----------------------- 217.6/587.7 MB 24.2 MB/s eta 0:00:16\n",
      "     ------------- ----------------------- 218.4/587.7 MB 23.4 MB/s eta 0:00:16\n",
      "     ------------- ----------------------- 219.7/587.7 MB 24.2 MB/s eta 0:00:16\n",
      "     ------------- ----------------------- 220.8/587.7 MB 23.4 MB/s eta 0:00:16\n",
      "     ------------- ----------------------- 222.1/587.7 MB 24.3 MB/s eta 0:00:16\n",
      "     -------------- ---------------------- 223.4/587.7 MB 24.2 MB/s eta 0:00:16\n",
      "     -------------- ---------------------- 224.7/587.7 MB 24.2 MB/s eta 0:00:15\n",
      "     -------------- ---------------------- 226.0/587.7 MB 24.2 MB/s eta 0:00:15\n",
      "     -------------- ---------------------- 227.2/587.7 MB 24.2 MB/s eta 0:00:15\n",
      "     -------------- ---------------------- 228.5/587.7 MB 26.2 MB/s eta 0:00:14\n",
      "     -------------- ---------------------- 229.6/587.7 MB 26.2 MB/s eta 0:00:14\n",
      "     -------------- ---------------------- 230.6/587.7 MB 26.2 MB/s eta 0:00:14\n",
      "     -------------- ---------------------- 231.9/587.7 MB 26.2 MB/s eta 0:00:14\n",
      "     -------------- ---------------------- 233.1/587.7 MB 26.2 MB/s eta 0:00:14\n",
      "     -------------- ---------------------- 234.1/587.7 MB 24.2 MB/s eta 0:00:15\n",
      "     -------------- ---------------------- 235.3/587.7 MB 25.2 MB/s eta 0:00:14\n",
      "     -------------- ---------------------- 236.7/587.7 MB 25.2 MB/s eta 0:00:14\n",
      "     -------------- ---------------------- 238.0/587.7 MB 25.2 MB/s eta 0:00:14\n",
      "     --------------- --------------------- 238.7/587.7 MB 24.2 MB/s eta 0:00:15\n",
      "     --------------- --------------------- 239.9/587.7 MB 23.4 MB/s eta 0:00:15\n",
      "     --------------- --------------------- 240.9/587.7 MB 24.3 MB/s eta 0:00:15\n",
      "     --------------- --------------------- 242.1/587.7 MB 25.2 MB/s eta 0:00:14\n",
      "     --------------- --------------------- 243.3/587.7 MB 24.2 MB/s eta 0:00:15\n",
      "     --------------- --------------------- 244.7/587.7 MB 25.2 MB/s eta 0:00:14\n",
      "     --------------- --------------------- 245.9/587.7 MB 24.2 MB/s eta 0:00:15\n",
      "     --------------- --------------------- 247.3/587.7 MB 24.3 MB/s eta 0:00:15\n",
      "     --------------- --------------------- 248.6/587.7 MB 24.2 MB/s eta 0:00:14\n",
      "     --------------- --------------------- 249.7/587.7 MB 25.2 MB/s eta 0:00:14\n",
      "     --------------- --------------------- 250.8/587.7 MB 25.2 MB/s eta 0:00:14\n",
      "     --------------- --------------------- 252.1/587.7 MB 26.2 MB/s eta 0:00:13\n",
      "     --------------- --------------------- 253.4/587.7 MB 26.2 MB/s eta 0:00:13\n",
      "     ---------------- -------------------- 254.6/587.7 MB 26.2 MB/s eta 0:00:13\n",
      "     ---------------- -------------------- 255.6/587.7 MB 25.1 MB/s eta 0:00:14\n",
      "     ---------------- -------------------- 256.3/587.7 MB 25.2 MB/s eta 0:00:14\n",
      "     ---------------- -------------------- 257.4/587.7 MB 23.4 MB/s eta 0:00:15\n",
      "     ---------------- -------------------- 258.7/587.7 MB 24.2 MB/s eta 0:00:14\n",
      "     ---------------- -------------------- 259.4/587.7 MB 23.4 MB/s eta 0:00:15\n",
      "     ---------------- -------------------- 260.7/587.7 MB 22.6 MB/s eta 0:00:15\n",
      "     ---------------- -------------------- 262.0/587.7 MB 23.4 MB/s eta 0:00:14\n",
      "     ---------------- -------------------- 263.0/587.7 MB 23.4 MB/s eta 0:00:14\n",
      "     ---------------- -------------------- 264.3/587.7 MB 22.6 MB/s eta 0:00:15\n",
      "     ---------------- -------------------- 265.6/587.7 MB 23.4 MB/s eta 0:00:14\n",
      "     ---------------- -------------------- 266.6/587.7 MB 24.2 MB/s eta 0:00:14\n",
      "     ---------------- -------------------- 267.4/587.7 MB 23.4 MB/s eta 0:00:14\n",
      "     ---------------- -------------------- 268.7/587.7 MB 22.6 MB/s eta 0:00:15\n",
      "     ---------------- -------------------- 270.0/587.7 MB 25.2 MB/s eta 0:00:13\n",
      "     ----------------- ------------------- 271.3/587.7 MB 25.2 MB/s eta 0:00:13\n",
      "     ----------------- ------------------- 272.5/587.7 MB 25.1 MB/s eta 0:00:13\n",
      "     ----------------- ------------------- 273.3/587.7 MB 24.2 MB/s eta 0:00:13\n",
      "     ----------------- ------------------- 274.6/587.7 MB 24.2 MB/s eta 0:00:13\n",
      "     ----------------- ------------------- 275.5/587.7 MB 24.2 MB/s eta 0:00:13\n",
      "     ----------------- ------------------- 276.4/587.7 MB 22.6 MB/s eta 0:00:14\n",
      "     ----------------- ------------------- 277.3/587.7 MB 23.4 MB/s eta 0:00:14\n",
      "     ----------------- ------------------- 278.5/587.7 MB 24.2 MB/s eta 0:00:13\n",
      "     ----------------- ------------------- 279.6/587.7 MB 22.6 MB/s eta 0:00:14\n",
      "     ----------------- ------------------- 280.7/587.7 MB 22.6 MB/s eta 0:00:14\n",
      "     ----------------- ------------------- 281.8/587.7 MB 21.8 MB/s eta 0:00:15\n",
      "     ----------------- ------------------- 282.8/587.7 MB 21.8 MB/s eta 0:00:14\n",
      "     ----------------- ------------------- 284.0/587.7 MB 22.6 MB/s eta 0:00:14\n",
      "     ----------------- ------------------- 285.2/587.7 MB 23.4 MB/s eta 0:00:13\n",
      "     ------------------ ------------------ 286.4/587.7 MB 23.4 MB/s eta 0:00:13\n",
      "     ------------------ ------------------ 286.5/587.7 MB 21.1 MB/s eta 0:00:15\n",
      "     ------------------ ------------------ 287.8/587.7 MB 22.6 MB/s eta 0:00:14\n",
      "     ------------------ ------------------ 288.9/587.7 MB 21.9 MB/s eta 0:00:14\n",
      "     ------------------ ------------------ 290.1/587.7 MB 21.8 MB/s eta 0:00:14\n",
      "     ------------------ ------------------ 291.4/587.7 MB 22.6 MB/s eta 0:00:14\n",
      "     ------------------ ------------------ 292.6/587.7 MB 23.4 MB/s eta 0:00:13\n",
      "     ------------------ ------------------ 293.7/587.7 MB 22.6 MB/s eta 0:00:14\n",
      "     ------------------ ------------------ 294.9/587.7 MB 23.4 MB/s eta 0:00:13\n",
      "     ------------------ ------------------ 296.2/587.7 MB 23.4 MB/s eta 0:00:13\n",
      "     ------------------ ------------------ 297.5/587.7 MB 26.2 MB/s eta 0:00:12\n",
      "     ------------------ ------------------ 298.7/587.7 MB 26.2 MB/s eta 0:00:12\n",
      "     ------------------ ------------------ 300.1/587.7 MB 26.2 MB/s eta 0:00:11\n",
      "     ------------------ ------------------ 301.2/587.7 MB 27.3 MB/s eta 0:00:11\n",
      "     ------------------- ----------------- 302.6/587.7 MB 26.2 MB/s eta 0:00:11\n",
      "     ------------------- ----------------- 303.9/587.7 MB 27.3 MB/s eta 0:00:11\n",
      "     ------------------- ----------------- 305.2/587.7 MB 28.4 MB/s eta 0:00:10\n",
      "     ------------------- ----------------- 306.3/587.7 MB 26.2 MB/s eta 0:00:11\n",
      "     ------------------- ----------------- 307.6/587.7 MB 26.2 MB/s eta 0:00:11\n",
      "     ------------------- ----------------- 308.8/587.7 MB 26.2 MB/s eta 0:00:11\n",
      "     ------------------- ----------------- 310.1/587.7 MB 26.2 MB/s eta 0:00:11\n",
      "     ------------------- ----------------- 311.3/587.7 MB 26.2 MB/s eta 0:00:11\n",
      "     ------------------- ----------------- 312.6/587.7 MB 26.2 MB/s eta 0:00:11\n",
      "     ------------------- ----------------- 313.9/587.7 MB 27.3 MB/s eta 0:00:11\n",
      "     ------------------- ----------------- 315.1/587.7 MB 26.2 MB/s eta 0:00:11\n",
      "     ------------------- ----------------- 316.1/587.7 MB 25.2 MB/s eta 0:00:11\n",
      "     ------------------- ----------------- 317.3/587.7 MB 26.2 MB/s eta 0:00:11\n",
      "     -------------------- ---------------- 318.8/587.7 MB 26.2 MB/s eta 0:00:11\n",
      "     -------------------- ---------------- 320.1/587.7 MB 26.2 MB/s eta 0:00:11\n",
      "     -------------------- ---------------- 321.4/587.7 MB 27.3 MB/s eta 0:00:10\n",
      "     -------------------- ---------------- 322.7/587.7 MB 26.2 MB/s eta 0:00:11\n",
      "     -------------------- ---------------- 323.9/587.7 MB 26.2 MB/s eta 0:00:11\n",
      "     -------------------- ---------------- 325.3/587.7 MB 26.2 MB/s eta 0:00:11\n",
      "     -------------------- ---------------- 326.5/587.7 MB 28.5 MB/s eta 0:00:10\n",
      "     -------------------- ---------------- 327.9/587.7 MB 27.3 MB/s eta 0:00:10\n",
      "     -------------------- ---------------- 329.2/587.7 MB 28.5 MB/s eta 0:00:10\n",
      "     -------------------- ---------------- 330.6/587.7 MB 27.3 MB/s eta 0:00:10\n",
      "     -------------------- ---------------- 331.8/587.7 MB 27.3 MB/s eta 0:00:10\n",
      "     -------------------- ---------------- 333.3/587.7 MB 28.4 MB/s eta 0:00:09\n",
      "     --------------------- --------------- 334.3/587.7 MB 26.2 MB/s eta 0:00:10\n",
      "     --------------------- --------------- 335.5/587.7 MB 28.5 MB/s eta 0:00:09\n",
      "     --------------------- --------------- 336.8/587.7 MB 27.3 MB/s eta 0:00:10\n",
      "     --------------------- --------------- 338.1/587.7 MB 27.3 MB/s eta 0:00:10\n",
      "     --------------------- --------------- 338.9/587.7 MB 26.2 MB/s eta 0:00:10\n",
      "     --------------------- --------------- 340.1/587.7 MB 25.2 MB/s eta 0:00:10\n",
      "     --------------------- --------------- 341.4/587.7 MB 26.2 MB/s eta 0:00:10\n",
      "     --------------------- --------------- 342.7/587.7 MB 25.2 MB/s eta 0:00:10\n",
      "     --------------------- --------------- 344.1/587.7 MB 26.2 MB/s eta 0:00:10\n",
      "     --------------------- --------------- 345.3/587.7 MB 26.2 MB/s eta 0:00:10\n",
      "     --------------------- --------------- 346.8/587.7 MB 26.2 MB/s eta 0:00:10\n",
      "     --------------------- --------------- 348.1/587.7 MB 26.2 MB/s eta 0:00:10\n",
      "     ---------------------- -------------- 349.5/587.7 MB 28.4 MB/s eta 0:00:09\n",
      "     ---------------------- -------------- 350.8/587.7 MB 28.5 MB/s eta 0:00:09\n",
      "     ---------------------- -------------- 352.2/587.7 MB 28.5 MB/s eta 0:00:09\n",
      "     ---------------------- -------------- 353.4/587.7 MB 28.5 MB/s eta 0:00:09\n",
      "     ---------------------- -------------- 354.7/587.7 MB 27.3 MB/s eta 0:00:09\n",
      "     ---------------------- -------------- 356.0/587.7 MB 28.5 MB/s eta 0:00:09\n",
      "     ---------------------- -------------- 357.5/587.7 MB 27.3 MB/s eta 0:00:09\n",
      "     ---------------------- -------------- 358.8/587.7 MB 27.3 MB/s eta 0:00:09\n",
      "     ---------------------- -------------- 360.0/587.7 MB 27.3 MB/s eta 0:00:09\n",
      "     ---------------------- -------------- 361.3/587.7 MB 27.3 MB/s eta 0:00:09\n",
      "     ---------------------- -------------- 362.8/587.7 MB 28.5 MB/s eta 0:00:08\n",
      "     ---------------------- -------------- 363.8/587.7 MB 27.3 MB/s eta 0:00:09\n",
      "     ---------------------- -------------- 365.1/587.7 MB 28.5 MB/s eta 0:00:08\n",
      "     ----------------------- ------------- 366.2/587.7 MB 27.3 MB/s eta 0:00:09\n",
      "     ----------------------- ------------- 367.4/587.7 MB 27.3 MB/s eta 0:00:09\n",
      "     ----------------------- ------------- 368.7/587.7 MB 27.3 MB/s eta 0:00:09\n",
      "     ----------------------- ------------- 369.7/587.7 MB 25.2 MB/s eta 0:00:09\n",
      "     ----------------------- ------------- 371.0/587.7 MB 26.2 MB/s eta 0:00:09\n",
      "     ----------------------- ------------- 372.4/587.7 MB 25.2 MB/s eta 0:00:09\n",
      "     ----------------------- ------------- 373.8/587.7 MB 25.2 MB/s eta 0:00:09\n",
      "     ----------------------- ------------- 375.2/587.7 MB 26.2 MB/s eta 0:00:09\n",
      "     ----------------------- ------------- 376.5/587.7 MB 27.3 MB/s eta 0:00:08\n",
      "     ----------------------- ------------- 378.0/587.7 MB 27.3 MB/s eta 0:00:08\n",
      "     ----------------------- ------------- 379.4/587.7 MB 28.5 MB/s eta 0:00:08\n",
      "     ----------------------- ------------- 380.7/587.7 MB 29.7 MB/s eta 0:00:07\n",
      "     ------------------------ ------------ 382.1/587.7 MB 28.5 MB/s eta 0:00:08\n",
      "     ------------------------ ------------ 383.4/587.7 MB 29.7 MB/s eta 0:00:07\n",
      "     ------------------------ ------------ 384.6/587.7 MB 28.4 MB/s eta 0:00:08\n",
      "     ------------------------ ------------ 385.9/587.7 MB 28.4 MB/s eta 0:00:08\n",
      "     ------------------------ ------------ 387.3/587.7 MB 28.4 MB/s eta 0:00:08\n",
      "     ------------------------ ------------ 388.4/587.7 MB 27.3 MB/s eta 0:00:08\n",
      "     ------------------------ ------------ 389.8/587.7 MB 27.3 MB/s eta 0:00:08\n",
      "     ------------------------ ------------ 391.2/587.7 MB 28.5 MB/s eta 0:00:07\n",
      "     ------------------------ ------------ 392.5/587.7 MB 27.3 MB/s eta 0:00:08\n",
      "     ------------------------ ------------ 394.0/587.7 MB 28.5 MB/s eta 0:00:07\n",
      "     ------------------------ ------------ 395.3/587.7 MB 28.4 MB/s eta 0:00:07\n",
      "     ------------------------ ------------ 396.7/587.7 MB 27.3 MB/s eta 0:00:08\n",
      "     ------------------------- ----------- 398.0/587.7 MB 28.4 MB/s eta 0:00:07\n",
      "     ------------------------- ----------- 399.2/587.7 MB 28.5 MB/s eta 0:00:07\n",
      "     ------------------------- ----------- 400.5/587.7 MB 29.8 MB/s eta 0:00:07\n",
      "     ------------------------- ----------- 401.9/587.7 MB 29.7 MB/s eta 0:00:07\n",
      "     ------------------------- ----------- 403.2/587.7 MB 28.4 MB/s eta 0:00:07\n",
      "     ------------------------- ----------- 404.6/587.7 MB 28.5 MB/s eta 0:00:07\n",
      "     ------------------------- ----------- 405.5/587.7 MB 26.2 MB/s eta 0:00:07\n",
      "     ------------------------- ----------- 406.6/587.7 MB 26.2 MB/s eta 0:00:07\n",
      "     ------------------------- ----------- 407.9/587.7 MB 26.2 MB/s eta 0:00:07\n",
      "     ------------------------- ----------- 409.2/587.7 MB 26.2 MB/s eta 0:00:07\n",
      "     ------------------------- ----------- 410.5/587.7 MB 26.2 MB/s eta 0:00:07\n",
      "     ------------------------- ----------- 411.9/587.7 MB 26.2 MB/s eta 0:00:07\n",
      "     -------------------------- ---------- 413.3/587.7 MB 26.2 MB/s eta 0:00:07\n",
      "     -------------------------- ---------- 414.6/587.7 MB 26.2 MB/s eta 0:00:07\n",
      "     -------------------------- ---------- 415.1/587.7 MB 25.2 MB/s eta 0:00:07\n",
      "     -------------------------- ---------- 416.3/587.7 MB 26.2 MB/s eta 0:00:07\n",
      "     -------------------------- ---------- 417.6/587.7 MB 26.2 MB/s eta 0:00:07\n",
      "     -------------------------- ---------- 419.0/587.7 MB 25.2 MB/s eta 0:00:07\n",
      "     -------------------------- ---------- 420.0/587.7 MB 25.2 MB/s eta 0:00:07\n",
      "     -------------------------- ---------- 421.4/587.7 MB 25.2 MB/s eta 0:00:07\n",
      "     -------------------------- ---------- 422.6/587.7 MB 25.1 MB/s eta 0:00:07\n",
      "     -------------------------- ---------- 423.9/587.7 MB 25.1 MB/s eta 0:00:07\n",
      "     -------------------------- ---------- 425.2/587.7 MB 25.2 MB/s eta 0:00:07\n",
      "     -------------------------- ---------- 426.5/587.7 MB 27.3 MB/s eta 0:00:06\n",
      "     -------------------------- ---------- 427.9/587.7 MB 26.2 MB/s eta 0:00:07\n",
      "     --------------------------- --------- 429.1/587.7 MB 27.3 MB/s eta 0:00:06\n",
      "     --------------------------- --------- 430.2/587.7 MB 27.3 MB/s eta 0:00:06\n",
      "     --------------------------- --------- 431.5/587.7 MB 26.2 MB/s eta 0:00:06\n",
      "     --------------------------- --------- 432.8/587.7 MB 26.2 MB/s eta 0:00:06\n",
      "     --------------------------- --------- 433.9/587.7 MB 26.2 MB/s eta 0:00:06\n",
      "     --------------------------- --------- 435.3/587.7 MB 27.3 MB/s eta 0:00:06\n",
      "     --------------------------- --------- 436.6/587.7 MB 26.2 MB/s eta 0:00:06\n",
      "     --------------------------- --------- 437.9/587.7 MB 26.2 MB/s eta 0:00:06\n",
      "     --------------------------- --------- 439.1/587.7 MB 27.3 MB/s eta 0:00:06\n",
      "     --------------------------- --------- 440.0/587.7 MB 25.1 MB/s eta 0:00:06\n",
      "     --------------------------- --------- 440.7/587.7 MB 25.2 MB/s eta 0:00:06\n",
      "     --------------------------- --------- 441.6/587.7 MB 23.4 MB/s eta 0:00:07\n",
      "     --------------------------- --------- 442.7/587.7 MB 23.4 MB/s eta 0:00:07\n",
      "     --------------------------- --------- 444.1/587.7 MB 24.2 MB/s eta 0:00:06\n",
      "     ---------------------------- -------- 445.5/587.7 MB 23.4 MB/s eta 0:00:07\n",
      "     ---------------------------- -------- 446.8/587.7 MB 24.2 MB/s eta 0:00:06\n",
      "     ---------------------------- -------- 448.2/587.7 MB 24.2 MB/s eta 0:00:06\n",
      "     ---------------------------- -------- 448.7/587.7 MB 22.5 MB/s eta 0:00:07\n",
      "     ---------------------------- -------- 449.9/587.7 MB 23.4 MB/s eta 0:00:06\n",
      "     ---------------------------- -------- 451.2/587.7 MB 25.2 MB/s eta 0:00:06\n",
      "     ---------------------------- -------- 452.6/587.7 MB 26.2 MB/s eta 0:00:06\n",
      "     ---------------------------- -------- 453.9/587.7 MB 26.2 MB/s eta 0:00:06\n",
      "     ---------------------------- -------- 455.3/587.7 MB 26.2 MB/s eta 0:00:06\n",
      "     ---------------------------- -------- 456.7/587.7 MB 26.2 MB/s eta 0:00:06\n",
      "     ---------------------------- -------- 457.7/587.7 MB 25.1 MB/s eta 0:00:06\n",
      "     ---------------------------- -------- 459.0/587.7 MB 26.2 MB/s eta 0:00:05\n",
      "     ---------------------------- -------- 460.3/587.7 MB 28.5 MB/s eta 0:00:05\n",
      "     ----------------------------- ------- 461.7/587.7 MB 28.5 MB/s eta 0:00:05\n",
      "     ----------------------------- ------- 463.0/587.7 MB 26.2 MB/s eta 0:00:05\n",
      "     ----------------------------- ------- 464.4/587.7 MB 28.5 MB/s eta 0:00:05\n",
      "     ----------------------------- ------- 465.5/587.7 MB 26.2 MB/s eta 0:00:05\n",
      "     ----------------------------- ------- 466.7/587.7 MB 26.2 MB/s eta 0:00:05\n",
      "     ----------------------------- ------- 468.1/587.7 MB 27.3 MB/s eta 0:00:05\n",
      "     ----------------------------- ------- 469.5/587.7 MB 27.3 MB/s eta 0:00:05\n",
      "     ----------------------------- ------- 470.8/587.7 MB 28.5 MB/s eta 0:00:05\n",
      "     ----------------------------- ------- 472.1/587.7 MB 27.3 MB/s eta 0:00:05\n",
      "     ----------------------------- ------- 473.2/587.7 MB 26.2 MB/s eta 0:00:05\n",
      "     ----------------------------- ------- 474.5/587.7 MB 26.2 MB/s eta 0:00:05\n",
      "     ----------------------------- ------- 475.8/587.7 MB 27.3 MB/s eta 0:00:05\n",
      "     ------------------------------ ------ 477.2/587.7 MB 27.3 MB/s eta 0:00:05\n",
      "     ------------------------------ ------ 478.6/587.7 MB 27.3 MB/s eta 0:00:05\n",
      "     ------------------------------ ------ 479.9/587.7 MB 27.3 MB/s eta 0:00:04\n",
      "     ------------------------------ ------ 481.0/587.7 MB 26.2 MB/s eta 0:00:05\n",
      "     ------------------------------ ------ 482.4/587.7 MB 27.3 MB/s eta 0:00:04\n",
      "     ------------------------------ ------ 483.7/587.7 MB 28.4 MB/s eta 0:00:04\n",
      "     ------------------------------ ------ 485.1/587.7 MB 28.4 MB/s eta 0:00:04\n",
      "     ------------------------------ ------ 486.3/587.7 MB 27.3 MB/s eta 0:00:04\n",
      "     ------------------------------ ------ 487.6/587.7 MB 27.3 MB/s eta 0:00:04\n",
      "     ------------------------------ ------ 488.9/587.7 MB 27.3 MB/s eta 0:00:04\n",
      "     ------------------------------ ------ 490.3/587.7 MB 27.3 MB/s eta 0:00:04\n",
      "     ------------------------------ ------ 491.7/587.7 MB 28.5 MB/s eta 0:00:04\n",
      "     ------------------------------- ----- 493.0/587.7 MB 28.5 MB/s eta 0:00:04\n",
      "     ------------------------------- ----- 494.4/587.7 MB 28.4 MB/s eta 0:00:04\n",
      "     ------------------------------- ----- 495.7/587.7 MB 28.4 MB/s eta 0:00:04\n",
      "     ------------------------------- ----- 496.9/587.7 MB 28.4 MB/s eta 0:00:04\n",
      "     ------------------------------- ----- 497.8/587.7 MB 27.3 MB/s eta 0:00:04\n",
      "     ------------------------------- ----- 499.2/587.7 MB 28.5 MB/s eta 0:00:04\n",
      "     ------------------------------- ----- 500.5/587.7 MB 27.3 MB/s eta 0:00:04\n",
      "     ------------------------------- ----- 501.8/587.7 MB 26.2 MB/s eta 0:00:04\n",
      "     ------------------------------- ----- 502.6/587.7 MB 26.2 MB/s eta 0:00:04\n",
      "     ------------------------------- ----- 503.6/587.7 MB 25.2 MB/s eta 0:00:04\n",
      "     ------------------------------- ----- 504.5/587.7 MB 23.4 MB/s eta 0:00:04\n",
      "     ------------------------------- ----- 505.9/587.7 MB 25.1 MB/s eta 0:00:04\n",
      "     ------------------------------- ----- 507.3/587.7 MB 25.2 MB/s eta 0:00:04\n",
      "     -------------------------------- ---- 508.5/587.7 MB 24.2 MB/s eta 0:00:04\n",
      "     -------------------------------- ---- 509.6/587.7 MB 25.2 MB/s eta 0:00:04\n",
      "     -------------------------------- ---- 511.0/587.7 MB 24.2 MB/s eta 0:00:04\n",
      "     -------------------------------- ---- 512.4/587.7 MB 24.2 MB/s eta 0:00:04\n",
      "     -------------------------------- ---- 513.8/587.7 MB 26.2 MB/s eta 0:00:03\n",
      "     -------------------------------- ---- 515.1/587.7 MB 27.3 MB/s eta 0:00:03\n",
      "     -------------------------------- ---- 516.3/587.7 MB 27.3 MB/s eta 0:00:03\n",
      "     -------------------------------- ---- 517.6/587.7 MB 27.3 MB/s eta 0:00:03\n",
      "     -------------------------------- ---- 519.0/587.7 MB 28.5 MB/s eta 0:00:03\n",
      "     -------------------------------- ---- 520.3/587.7 MB 28.4 MB/s eta 0:00:03\n",
      "     -------------------------------- ---- 521.5/587.7 MB 27.3 MB/s eta 0:00:03\n",
      "     -------------------------------- ---- 523.0/587.7 MB 28.4 MB/s eta 0:00:03\n",
      "     -------------------------------- ---- 524.1/587.7 MB 27.3 MB/s eta 0:00:03\n",
      "     --------------------------------- --- 525.4/587.7 MB 27.3 MB/s eta 0:00:03\n",
      "     --------------------------------- --- 526.8/587.7 MB 27.3 MB/s eta 0:00:03\n",
      "     --------------------------------- --- 528.2/587.7 MB 27.3 MB/s eta 0:00:03\n",
      "     --------------------------------- --- 529.2/587.7 MB 27.3 MB/s eta 0:00:03\n",
      "     --------------------------------- --- 530.6/587.7 MB 27.3 MB/s eta 0:00:03\n",
      "     --------------------------------- --- 532.0/587.7 MB 27.3 MB/s eta 0:00:03\n",
      "     --------------------------------- --- 533.3/587.7 MB 27.3 MB/s eta 0:00:02\n",
      "     --------------------------------- --- 534.6/587.7 MB 27.3 MB/s eta 0:00:02\n",
      "     --------------------------------- --- 536.1/587.7 MB 28.5 MB/s eta 0:00:02\n",
      "     --------------------------------- --- 537.2/587.7 MB 27.3 MB/s eta 0:00:02\n",
      "     --------------------------------- --- 538.6/587.7 MB 27.3 MB/s eta 0:00:02\n",
      "     --------------------------------- --- 539.9/587.7 MB 28.5 MB/s eta 0:00:02\n",
      "     ---------------------------------- -- 541.3/587.7 MB 27.3 MB/s eta 0:00:02\n",
      "     ---------------------------------- -- 542.6/587.7 MB 27.3 MB/s eta 0:00:02\n",
      "     ---------------------------------- -- 543.9/587.7 MB 27.3 MB/s eta 0:00:02\n",
      "     ---------------------------------- -- 545.3/587.7 MB 27.3 MB/s eta 0:00:02\n",
      "     ---------------------------------- -- 546.6/587.7 MB 28.5 MB/s eta 0:00:02\n",
      "     ---------------------------------- -- 548.0/587.7 MB 28.4 MB/s eta 0:00:02\n",
      "     ---------------------------------- -- 549.0/587.7 MB 27.3 MB/s eta 0:00:02\n",
      "     ---------------------------------- -- 550.4/587.7 MB 28.4 MB/s eta 0:00:02\n",
      "     ---------------------------------- -- 551.7/587.7 MB 27.3 MB/s eta 0:00:02\n",
      "     ---------------------------------- -- 553.1/587.7 MB 27.3 MB/s eta 0:00:02\n",
      "     ---------------------------------- -- 554.4/587.7 MB 27.3 MB/s eta 0:00:02\n",
      "     ---------------------------------- -- 555.6/587.7 MB 27.3 MB/s eta 0:00:02\n",
      "     ----------------------------------- - 556.6/587.7 MB 26.2 MB/s eta 0:00:02\n",
      "     ----------------------------------- - 557.7/587.7 MB 26.2 MB/s eta 0:00:02\n",
      "     ----------------------------------- - 559.0/587.7 MB 26.2 MB/s eta 0:00:02\n",
      "     ----------------------------------- - 560.5/587.7 MB 27.3 MB/s eta 0:00:01\n",
      "     ----------------------------------- - 561.4/587.7 MB 25.2 MB/s eta 0:00:02\n",
      "     ----------------------------------- - 562.8/587.7 MB 26.2 MB/s eta 0:00:01\n",
      "     ----------------------------------- - 564.2/587.7 MB 26.2 MB/s eta 0:00:01\n",
      "     ----------------------------------- - 565.6/587.7 MB 26.2 MB/s eta 0:00:01\n",
      "     ----------------------------------- - 567.0/587.7 MB 28.5 MB/s eta 0:00:01\n",
      "     ----------------------------------- - 568.5/587.7 MB 28.4 MB/s eta 0:00:01\n",
      "     ----------------------------------- - 569.9/587.7 MB 28.4 MB/s eta 0:00:01\n",
      "     ----------------------------------- - 571.3/587.7 MB 28.5 MB/s eta 0:00:01\n",
      "     ------------------------------------  572.7/587.7 MB 29.8 MB/s eta 0:00:01\n",
      "     ------------------------------------  574.1/587.7 MB 29.8 MB/s eta 0:00:01\n",
      "     ------------------------------------  575.4/587.7 MB 29.7 MB/s eta 0:00:01\n",
      "     ------------------------------------  576.1/587.7 MB 28.5 MB/s eta 0:00:01\n",
      "     ------------------------------------  577.3/587.7 MB 26.2 MB/s eta 0:00:01\n",
      "     ------------------------------------  578.6/587.7 MB 27.3 MB/s eta 0:00:01\n",
      "     ------------------------------------  579.9/587.7 MB 27.3 MB/s eta 0:00:01\n",
      "     ------------------------------------  581.2/587.7 MB 26.2 MB/s eta 0:00:01\n",
      "     ------------------------------------  582.7/587.7 MB 27.3 MB/s eta 0:00:01\n",
      "     ------------------------------------  584.1/587.7 MB 26.2 MB/s eta 0:00:01\n",
      "     ------------------------------------  585.4/587.7 MB 26.2 MB/s eta 0:00:01\n",
      "     ------------------------------------  586.7/587.7 MB 28.5 MB/s eta 0:00:01\n",
      "     ------------------------------------  587.7/587.7 MB 28.5 MB/s eta 0:00:01\n",
      "     ------------------------------------  587.7/587.7 MB 28.5 MB/s eta 0:00:01\n",
      "     ------------------------------------  587.7/587.7 MB 28.5 MB/s eta 0:00:01\n",
      "     ------------------------------------  587.7/587.7 MB 28.5 MB/s eta 0:00:01\n",
      "     ------------------------------------  587.7/587.7 MB 28.5 MB/s eta 0:00:01\n",
      "     ------------------------------------  587.7/587.7 MB 28.5 MB/s eta 0:00:01\n",
      "     ------------------------------------  587.7/587.7 MB 28.5 MB/s eta 0:00:01\n",
      "     ------------------------------------  587.7/587.7 MB 28.5 MB/s eta 0:00:01\n",
      "     ------------------------------------  587.7/587.7 MB 28.5 MB/s eta 0:00:01\n",
      "     ------------------------------------  587.7/587.7 MB 28.5 MB/s eta 0:00:01\n",
      "     ------------------------------------  587.7/587.7 MB 28.5 MB/s eta 0:00:01\n",
      "     ------------------------------------  587.7/587.7 MB 28.5 MB/s eta 0:00:01\n",
      "     ------------------------------------  587.7/587.7 MB 28.5 MB/s eta 0:00:01\n",
      "     ------------------------------------  587.7/587.7 MB 28.5 MB/s eta 0:00:01\n",
      "     ------------------------------------  587.7/587.7 MB 28.5 MB/s eta 0:00:01\n",
      "     ------------------------------------  587.7/587.7 MB 28.5 MB/s eta 0:00:01\n",
      "     ------------------------------------  587.7/587.7 MB 28.5 MB/s eta 0:00:01\n",
      "     ------------------------------------  587.7/587.7 MB 28.5 MB/s eta 0:00:01\n",
      "     ------------------------------------  587.7/587.7 MB 28.5 MB/s eta 0:00:01\n",
      "     ------------------------------------  587.7/587.7 MB 28.5 MB/s eta 0:00:01\n",
      "     ------------------------------------  587.7/587.7 MB 28.5 MB/s eta 0:00:01\n",
      "     ------------------------------------  587.7/587.7 MB 28.5 MB/s eta 0:00:01\n",
      "     -------------------------------------- 587.7/587.7 MB 7.4 MB/s eta 0:00:00\n",
      "Requirement already satisfied: spacy<3.8.0,>=3.7.2 in c:\\users\\babac\\miniconda3\\envs\\tal\\lib\\site-packages (from en-core-web-lg==3.7.1) (3.7.2)\n",
      "Requirement already satisfied: spacy-legacy<3.1.0,>=3.0.11 in c:\\users\\babac\\miniconda3\\envs\\tal\\lib\\site-packages (from spacy<3.8.0,>=3.7.2->en-core-web-lg==3.7.1) (3.0.12)\n",
      "Requirement already satisfied: spacy-loggers<2.0.0,>=1.0.0 in c:\\users\\babac\\miniconda3\\envs\\tal\\lib\\site-packages (from spacy<3.8.0,>=3.7.2->en-core-web-lg==3.7.1) (1.0.5)\n",
      "Requirement already satisfied: murmurhash<1.1.0,>=0.28.0 in c:\\users\\babac\\miniconda3\\envs\\tal\\lib\\site-packages (from spacy<3.8.0,>=3.7.2->en-core-web-lg==3.7.1) (1.0.10)\n",
      "Requirement already satisfied: cymem<2.1.0,>=2.0.2 in c:\\users\\babac\\miniconda3\\envs\\tal\\lib\\site-packages (from spacy<3.8.0,>=3.7.2->en-core-web-lg==3.7.1) (2.0.8)\n",
      "Requirement already satisfied: preshed<3.1.0,>=3.0.2 in c:\\users\\babac\\miniconda3\\envs\\tal\\lib\\site-packages (from spacy<3.8.0,>=3.7.2->en-core-web-lg==3.7.1) (3.0.9)\n",
      "Requirement already satisfied: thinc<8.3.0,>=8.1.8 in c:\\users\\babac\\miniconda3\\envs\\tal\\lib\\site-packages (from spacy<3.8.0,>=3.7.2->en-core-web-lg==3.7.1) (8.2.2)\n",
      "Requirement already satisfied: wasabi<1.2.0,>=0.9.1 in c:\\users\\babac\\miniconda3\\envs\\tal\\lib\\site-packages (from spacy<3.8.0,>=3.7.2->en-core-web-lg==3.7.1) (1.1.2)\n",
      "Requirement already satisfied: srsly<3.0.0,>=2.4.3 in c:\\users\\babac\\miniconda3\\envs\\tal\\lib\\site-packages (from spacy<3.8.0,>=3.7.2->en-core-web-lg==3.7.1) (2.4.8)\n",
      "Requirement already satisfied: catalogue<2.1.0,>=2.0.6 in c:\\users\\babac\\miniconda3\\envs\\tal\\lib\\site-packages (from spacy<3.8.0,>=3.7.2->en-core-web-lg==3.7.1) (2.0.10)\n",
      "Requirement already satisfied: weasel<0.4.0,>=0.1.0 in c:\\users\\babac\\miniconda3\\envs\\tal\\lib\\site-packages (from spacy<3.8.0,>=3.7.2->en-core-web-lg==3.7.1) (0.3.4)\n",
      "Requirement already satisfied: typer<0.10.0,>=0.3.0 in c:\\users\\babac\\miniconda3\\envs\\tal\\lib\\site-packages (from spacy<3.8.0,>=3.7.2->en-core-web-lg==3.7.1) (0.9.4)\n",
      "Requirement already satisfied: smart-open<7.0.0,>=5.2.1 in c:\\users\\babac\\miniconda3\\envs\\tal\\lib\\site-packages (from spacy<3.8.0,>=3.7.2->en-core-web-lg==3.7.1) (5.2.1)\n",
      "Requirement already satisfied: tqdm<5.0.0,>=4.38.0 in c:\\users\\babac\\miniconda3\\envs\\tal\\lib\\site-packages (from spacy<3.8.0,>=3.7.2->en-core-web-lg==3.7.1) (4.66.2)\n",
      "Requirement already satisfied: requests<3.0.0,>=2.13.0 in c:\\users\\babac\\miniconda3\\envs\\tal\\lib\\site-packages (from spacy<3.8.0,>=3.7.2->en-core-web-lg==3.7.1) (2.31.0)\n",
      "Requirement already satisfied: pydantic!=1.8,!=1.8.1,<3.0.0,>=1.7.4 in c:\\users\\babac\\miniconda3\\envs\\tal\\lib\\site-packages (from spacy<3.8.0,>=3.7.2->en-core-web-lg==3.7.1) (2.6.4)\n",
      "Requirement already satisfied: jinja2 in c:\\users\\babac\\miniconda3\\envs\\tal\\lib\\site-packages (from spacy<3.8.0,>=3.7.2->en-core-web-lg==3.7.1) (3.1.3)\n",
      "Requirement already satisfied: setuptools in c:\\users\\babac\\miniconda3\\envs\\tal\\lib\\site-packages (from spacy<3.8.0,>=3.7.2->en-core-web-lg==3.7.1) (68.2.2)\n",
      "Requirement already satisfied: packaging>=20.0 in c:\\users\\babac\\miniconda3\\envs\\tal\\lib\\site-packages (from spacy<3.8.0,>=3.7.2->en-core-web-lg==3.7.1) (24.0)\n",
      "Requirement already satisfied: langcodes<4.0.0,>=3.2.0 in c:\\users\\babac\\miniconda3\\envs\\tal\\lib\\site-packages (from spacy<3.8.0,>=3.7.2->en-core-web-lg==3.7.1) (3.3.0)\n",
      "Requirement already satisfied: numpy>=1.19.0 in c:\\users\\babac\\miniconda3\\envs\\tal\\lib\\site-packages (from spacy<3.8.0,>=3.7.2->en-core-web-lg==3.7.1) (1.26.4)\n",
      "Requirement already satisfied: annotated-types>=0.4.0 in c:\\users\\babac\\miniconda3\\envs\\tal\\lib\\site-packages (from pydantic!=1.8,!=1.8.1,<3.0.0,>=1.7.4->spacy<3.8.0,>=3.7.2->en-core-web-lg==3.7.1) (0.6.0)\n",
      "Requirement already satisfied: pydantic-core==2.16.3 in c:\\users\\babac\\miniconda3\\envs\\tal\\lib\\site-packages (from pydantic!=1.8,!=1.8.1,<3.0.0,>=1.7.4->spacy<3.8.0,>=3.7.2->en-core-web-lg==3.7.1) (2.16.3)\n",
      "Requirement already satisfied: typing-extensions>=4.6.1 in c:\\users\\babac\\miniconda3\\envs\\tal\\lib\\site-packages (from pydantic!=1.8,!=1.8.1,<3.0.0,>=1.7.4->spacy<3.8.0,>=3.7.2->en-core-web-lg==3.7.1) (4.10.0)\n",
      "Requirement already satisfied: charset-normalizer<4,>=2 in c:\\users\\babac\\miniconda3\\envs\\tal\\lib\\site-packages (from requests<3.0.0,>=2.13.0->spacy<3.8.0,>=3.7.2->en-core-web-lg==3.7.1) (3.3.2)\n",
      "Requirement already satisfied: idna<4,>=2.5 in c:\\users\\babac\\miniconda3\\envs\\tal\\lib\\site-packages (from requests<3.0.0,>=2.13.0->spacy<3.8.0,>=3.7.2->en-core-web-lg==3.7.1) (3.6)\n",
      "Requirement already satisfied: urllib3<3,>=1.21.1 in c:\\users\\babac\\miniconda3\\envs\\tal\\lib\\site-packages (from requests<3.0.0,>=2.13.0->spacy<3.8.0,>=3.7.2->en-core-web-lg==3.7.1) (2.2.1)\n",
      "Requirement already satisfied: certifi>=2017.4.17 in c:\\users\\babac\\miniconda3\\envs\\tal\\lib\\site-packages (from requests<3.0.0,>=2.13.0->spacy<3.8.0,>=3.7.2->en-core-web-lg==3.7.1) (2024.2.2)\n",
      "Requirement already satisfied: blis<0.8.0,>=0.7.8 in c:\\users\\babac\\miniconda3\\envs\\tal\\lib\\site-packages (from thinc<8.3.0,>=8.1.8->spacy<3.8.0,>=3.7.2->en-core-web-lg==3.7.1) (0.7.10)\n",
      "Requirement already satisfied: confection<1.0.0,>=0.0.1 in c:\\users\\babac\\miniconda3\\envs\\tal\\lib\\site-packages (from thinc<8.3.0,>=8.1.8->spacy<3.8.0,>=3.7.2->en-core-web-lg==3.7.1) (0.1.4)\n",
      "Requirement already satisfied: colorama in c:\\users\\babac\\miniconda3\\envs\\tal\\lib\\site-packages (from tqdm<5.0.0,>=4.38.0->spacy<3.8.0,>=3.7.2->en-core-web-lg==3.7.1) (0.4.6)\n",
      "Requirement already satisfied: click<9.0.0,>=7.1.1 in c:\\users\\babac\\miniconda3\\envs\\tal\\lib\\site-packages (from typer<0.10.0,>=0.3.0->spacy<3.8.0,>=3.7.2->en-core-web-lg==3.7.1) (8.1.7)\n",
      "Requirement already satisfied: cloudpathlib<0.17.0,>=0.7.0 in c:\\users\\babac\\miniconda3\\envs\\tal\\lib\\site-packages (from weasel<0.4.0,>=0.1.0->spacy<3.8.0,>=3.7.2->en-core-web-lg==3.7.1) (0.16.0)\n",
      "Requirement already satisfied: MarkupSafe>=2.0 in c:\\users\\babac\\miniconda3\\envs\\tal\\lib\\site-packages (from jinja2->spacy<3.8.0,>=3.7.2->en-core-web-lg==3.7.1) (2.1.5)\n",
      "Installing collected packages: en-core-web-lg\n",
      "Successfully installed en-core-web-lg-3.7.1\n",
      "\u001B[38;5;2m[+] Download and installation successful\u001B[0m\n",
      "You can now load the package via spacy.load('en_core_web_lg')\n"
     ]
    }
   ],
   "execution_count": 127
  },
  {
   "cell_type": "code",
   "metadata": {
    "ExecuteTime": {
     "end_time": "2024-04-29T13:05:38.708113Z",
     "start_time": "2024-04-29T13:05:27.858664Z"
    }
   },
   "source": [
    "nlp2 = spacy.load(\"en_core_web_lg\")\n",
    "spacy_tags2 = []\n",
    "for sentence in test_tokens:\n",
    "    doc = Doc(nlp2.vocab, words=sentence)\n",
    "    nlp2.get_pipe(\"ner\")(doc)\n",
    "    for d in doc:\n",
    "        spacy_tags2.append(d.ent_type_)\n",
    "        \n",
    "spacy_tags_conv2 = [convert_spacy_conll(tag) for tag in spacy_tags2]\n",
    "\n",
    "class_report = classification_report(test_tags, spacy_tags_conv2, target_names=['I-LOC', 'I-MISC', 'I-ORG', 'I-PER', 'O'])\n",
    "\n",
    "print(class_report)"
   ],
   "outputs": [
    {
     "name": "stdout",
     "output_type": "stream",
     "text": [
      "              precision    recall  f1-score   support\n",
      "\n",
      "       I-LOC       0.76      0.85      0.80      1938\n",
      "      I-MISC       0.90      0.51      0.65      1228\n",
      "       I-ORG       0.57      0.59      0.58      2080\n",
      "       I-PER       0.90      0.83      0.86      3097\n",
      "           O       0.97      0.98      0.98     42474\n",
      "\n",
      "    accuracy                           0.94     50817\n",
      "   macro avg       0.82      0.75      0.77     50817\n",
      "weighted avg       0.94      0.94      0.94     50817\n",
      "\n"
     ]
    }
   ],
   "execution_count": 323
  },
  {
   "cell_type": "markdown",
   "metadata": {},
   "source": [
    "## 5. Discussion finale\n",
    "\n",
    "Veuillez comparer les scores des trois modèles testés, en termes de **macro avg**.  Pourquoi ce score est-il le plus informatif ?  Veuillez indiquer également la taille des modèles spaCy évalués."
   ]
  },
  {
   "cell_type": "code",
   "metadata": {
    "ExecuteTime": {
     "end_time": "2024-04-29T13:17:20.000910Z",
     "start_time": "2024-04-29T13:17:19.994762Z"
    }
   },
   "source": [
    "# NLTK offre une performance bien en deçà de Spacy, ce qui est notamment dû au fait que NLTK peine à distinguer les entités nommées. On remarque une sur-labelisation du tag O quand bien même il s'agit d'une NE dans le texte de référence. Dès lors, il est impossible de corriger la fonction de mapping tag NLTK => tag de référence pour augmenter la précision du modèle.\n",
    "# On remarque que pour les pipelines de Spacy, la macro avg est légèrement plus élevée dans le modèle lg pour la précision, le rappel et le score f1 que pour le modèle sm. Ce qui semble logique étant donné que la taille des modèles diffèrent, et on peut s'attendre à ce qu'un modèle plus large dispose de plus d'informations pour identifier les entités nommées au détriment d'une taille (MB) plus grande. Toutefois, le gain de la macro avg n'est pas significatif (+ 0.04 en moyenne) alors que la taille du modèle et 46x plus importante.\n",
    "\n",
    "# Le classement des macro avg final des modèles est le suivant : en_core_web_lg > en_core_web_sm > NLTK\n",
    "\n",
    "# Le macro avg est plus adapté dans cette situation, car la classe 'O' est surreprésentée. Or la macro avg donne le même poids à toutes les classes, évitant ainsi une précision trop élevée qui serait biaisée par ladite surreprésentation de la classe 'O'.\n",
    "\n",
    "# Le modèle 'en_core_web_sm' a une taille de 12 MB, tandis que le modèle 'en_core_web_lg' a une taille de 560 MB.\n",
    "\n"
   ],
   "outputs": [],
   "execution_count": 325
  },
  {
   "cell_type": "markdown",
   "metadata": {},
   "source": [
    "**Fin du Labo.** Veuillez nettoyer ce notebook en gardant seulement les résultats désirés, l'enregistrer, et le soumettre comme devoir sur Cyberlearn."
   ]
  }
 ],
 "metadata": {
  "kernelspec": {
   "name": "python3",
   "language": "python",
   "display_name": "Python 3 (ipykernel)"
  },
  "language_info": {
   "codemirror_mode": {
    "name": "ipython",
    "version": 3
   },
   "file_extension": ".py",
   "mimetype": "text/x-python",
   "name": "python",
   "nbconvert_exporter": "python",
   "pygments_lexer": "ipython3",
   "version": "3.10.13"
  }
 },
 "nbformat": 4,
 "nbformat_minor": 4
}
