{
 "cells": [
  {
   "cell_type": "markdown",
   "metadata": {},
   "source": [
    "<img src=\"https://heig-vd.ch/docs/default-source/doc-global-newsletter/2020-slim.svg\" alt=\"HEIG-VD Logo\" width=\"100\"/>\n",
    "\n",
    "# Cours TAL - Laboratoire 6\n",
    "# Trois méthodes de désambiguïsation lexicale\n",
    "\n",
    "**Objectif**\n",
    "\n",
    "L'objectif de ce laboratoire est d'implémenter et de comparer plusieurs méthodes de désambiguïsation lexicale (en anglais, *Word Sense Disambiguation* ou WSD).  Vous utiliserez un corpus avec plusieurs milliers de phrases, chaque phrase contenant une occurrence du mot anglais *interest* annotée avec le sens que ce mot possède dans la phrase respective.  Les trois méthodes sont les suivantes (elles seront détaillées par la suite) :\n",
    "\n",
    "* Algorithme de Lesk simplifié.\n",
    "* Utilisation de word2vec.\n",
    "* Classification supervisée utilisant des traits lexicaux :\n",
    "   - les mots en position -1, -2, ..., et +1, +2, ..., par rapport à *interest* ;\n",
    "   - apparition de mots indicateurs dans le voisinage de *interest*.\n",
    "\n",
    "Les deux premières méthodes n'utilisent pas l'apprentissage automatique.  Elles fonctionnent selon le même principe : comparer le contexte d'une occurrence de *interest* avec chacune des définitions des sens (*synsets*) et choisir la définition la plus proche du contexte.  L'algorithme de Lesk définit la proximité comme le nombre de mots en commun, alors que word2vec la calcule comme la similarité de vecteurs.  La dernière méthode vise à classifier les occurrences de *interest*, les sens étant les classes, et les attributs étant les mots du contexte (apprentissage supervisé)."
   ]
  },
  {
   "cell_type": "markdown",
   "metadata": {},
   "source": [
    "## 1. Analyse des données\n",
    "\n",
    "Téléchargez le corpus *interest* depuis le [site du Prof. Ted Pedersen](http://www.d.umn.edu/~tpederse/data.html) (il se trouve en bas de la page).  Téléchargez l'archive ZIP marquée *original format without POS tags* et extrayez le fichier `interest-original.txt`.  Téléchargez également le fichier `README.int.txt` indiqué à la ligne au-dessus. Veuillez répondre brièvement aux questions suivantes :\n",
    "\n",
    "a. Quelles sont les URL du fichier ZIP et celle du fichier `README.int.txt` ?\n",
    "\n",
    "b. Quel est le format du fichier `interest-original.txt` et comment sont annotés les sens de *interest* ?\n",
    "\n",
    "c. Est-ce qu'on considère aussi les occurrences au pluriel (*interests*) ?\n",
    "\n",
    "d. Comment sont annotées les phrases qui contiennent plusieurs occurrences du mot *interest* ?"
   ]
  },
  {
   "cell_type": "code",
   "metadata": {
    "ExecuteTime": {
     "end_time": "2024-05-13T15:02:19.240089Z",
     "start_time": "2024-05-13T15:02:19.236780Z"
    }
   },
   "source": [
    "# Veuillez répondre ici (en commentaire) aux questions.\n",
    "#a. ZIP = https://www.d.umn.edu/~tpederse/Data/interest-original.nopos.tar.gz\n",
    "#   txt = https://www.d.umn.edu/~tpederse/Data/README.int.txt\n",
    "\n",
    "#b. il s'agit d'un fichier au format .txt. Chaque occurence du mot \"interest\" est suffixée avec un tiret bas suivit d'un chiffre correspondant à un sens particulier du mot.\n",
    "\n",
    "#c. Oui, on considère aussi les occurrences au pluriel.\n",
    "\n",
    "#d. Ces phrases sont généralement dédoublées. On annote l'occurence du mot qu'on souhaite traitée comme précédemment et on préfixe les autres occurences avec un astérisque. On dédouble la phrase pour autant de mots \"interest\" qu'elle contient.\n",
    "# Exemple:\n",
    "# in  such circumstances  ,  free-speech interests_4  outweighed  the *interests  of  the copyright owner  . \n",
    "# in  such circumstances  ,  free-speech *interests  outweighed  the interests_4  of  the copyright owner  . "
   ],
   "outputs": [],
   "execution_count": 1
  },
  {
   "cell_type": "markdown",
   "metadata": {},
   "source": [
    "**1e.** D'après le fichier `README.int.txt`, quelles sont les définitions des six sens de *interest* annotés dans les données et quelles sont leurs fréquences ? Vous pouvez copier/coller l'extrait de `README`ici."
   ]
  },
  {
   "cell_type": "code",
   "execution_count": null,
   "metadata": {},
   "outputs": [],
   "source": [
    "# Sense 1 = readiness to give attention\n",
    "# Sense 2 = quality of causing attention to be given to\n",
    "# Sense 3 = activity, etc. that one gives attention to\n",
    "# Sense 4 = advantage, advancement or favor\n",
    "# Sense 5 = a share in a company or business\n",
    "# Sense 6 = money paid for the use of money"
   ]
  },
  {
   "cell_type": "markdown",
   "metadata": {},
   "source": [
    "**1f.** De quel dictionnaire viennent les sens précédents ? Où peut-on le consulter en ligne ?  Veuillez aligner les définitions du dictionnaire avec les six sens annotés en écrivant par exemple `Sense 3 = \"an activity that you enjoy doing or a subject that you enjoy studying\"`."
   ]
  },
  {
   "cell_type": "code",
   "execution_count": null,
   "metadata": {},
   "outputs": [],
   "source": [
    "# Ils viennent de la version électronique de la première édition du Longman's Dictionary of Contemporary English (LDOCE)\n",
    "# Consultable en ligne ici: https://www.ldoceonline.com/\n",
    "# Sense 1 = \"if you have an interest in something or someone, you want to know or learn more about them\"\n",
    "# Sense 2 = \"a quality or feature of something that attracts your attention or makes you want to know more about it\"\n",
    "# Sense 3 = \"an activity that you enjoy doing or a subject that you enjoy studying\"\n",
    "# Sense 4 = \"the things that bring advantages to someone or something\"\n",
    "# Sense 5 = \"if you have an interest in a particular company or industry, you own shares in it\"\n",
    "# Sense 6 = \"the extra money that you must pay back when you borrow money\""
   ]
  },
  {
   "cell_type": "markdown",
   "metadata": {},
   "source": [
    "**1g.** En consultant [WordNet en ligne](http://wordnetweb.princeton.edu/perl/webwn), trouvez les définitions des synsets  pour le **nom commun** *interest*.  Combien de synsets y a-t-il ?  Veuillez indiquer comme avant la **définition** de chaque synset pour chacun des six sens ci-dessus (au besoin, fusionner ou ignorer des synsets)."
   ]
  },
  {
   "cell_type": "code",
   "execution_count": null,
   "metadata": {},
   "outputs": [],
   "source": [
    "# Il y a 7 synsets pour le nom commun \"interest\" dans WordNet.\n",
    "# Sense 1 = \"a sense of concern with and curiosity about someone or something\"\n",
    "# Sense 2 = \"the power of attracting or holding one's attention (because it is unusual or exciting etc.)\"\n",
    "# Sense 3 = \"a diversion that occupies one's time and thoughts (usually pleasantly)\"\n",
    "# Sense 4 = \"a reason for wanting something done\"\n",
    "# Sense 5 = \"(law) a right or legal share of something; a financial involvement with something\"\n",
    "# Sense 6 = \"a fixed charge for borrowing money; usually a percentage of the amount borrowed\""
   ]
  },
  {
   "cell_type": "markdown",
   "metadata": {},
   "source": [
    "**1h.** Définissez (manuellement, ou avec quelques lignes de code) une liste nommée `senses1` avec les mots des définitions du README, en supprimant les stopwords (p.ex. les mots < 4 lettres).  Affichez la liste."
   ]
  },
  {
   "cell_type": "code",
   "metadata": {
    "ExecuteTime": {
     "end_time": "2024-05-19T14:14:02.594511Z",
     "start_time": "2024-05-19T14:14:02.589816Z"
    }
   },
   "source": [
    "import nltk"
   ],
   "outputs": [],
   "execution_count": 7
  },
  {
   "cell_type": "code",
   "metadata": {
    "ExecuteTime": {
     "end_time": "2024-05-19T14:14:03.812457Z",
     "start_time": "2024-05-19T14:14:03.807074Z"
    }
   },
   "source": [
    "from random import randrange"
   ],
   "outputs": [],
   "execution_count": 8
  },
  {
   "cell_type": "code",
   "metadata": {
    "ExecuteTime": {
     "end_time": "2024-05-19T14:14:05.500575Z",
     "start_time": "2024-05-19T14:14:05.490261Z"
    }
   },
   "source": [
    "# Veuillez répondre ici à la question et créer la variable 'senses1' (liste de 6 listes de chaînes).\n",
    "senses1 = [\n",
    "    [\"readiness\", \"give\", \"attention\"],\n",
    "    [\"quality\", \"causing\", \"attention\", \"given\"],\n",
    "    [\"activity\", \"that\", \"gives\", \"attention\"],\n",
    "    [\"advantage\", \"advancement\", \"favor\"],\n",
    "    [\"share\", \"company\", \"business\"],\n",
    "    [\"money\", \"paid\", \"money\"]\n",
    "]\n",
    "\n",
    "print(senses1)"
   ],
   "outputs": [
    {
     "name": "stdout",
     "output_type": "stream",
     "text": [
      "[['readiness', 'give', 'attention'], ['quality', 'causing', 'attention', 'given'], ['activity', 'that', 'gives', 'attention'], ['advantage', 'advancement', 'favor'], ['share', 'company', 'business'], ['money', 'paid', 'money']]\n"
     ]
    }
   ],
   "execution_count": 9
  },
  {
   "cell_type": "markdown",
   "metadata": {},
   "source": [
    "**1i.** En combinant les définitions obtenues aux points (4) et (5) ci-dessus, construisez une liste nommée `senses2` avec pour chacun des sens de *interest* une liste de **mots-clés** correspondants.  Vous pouvez concaténer les définitions, puis écrire des instructions en Python pour extraire les mots (uniques).  Respectez l'ordre des sens données par `README`, et à la fin affichez `senses2`."
   ]
  },
  {
   "cell_type": "code",
   "metadata": {
    "ExecuteTime": {
     "end_time": "2024-05-19T14:14:07.667194Z",
     "start_time": "2024-05-19T14:14:07.656610Z"
    }
   },
   "source": [
    "# Veuillez répondre ici à la question et créer la variable 'senses2' (liste de 6 listes de chaînes).\n",
    "senses_ldce = [\n",
    "    \"if you have an interest in something or someone, you want to know or learn more about them\",\n",
    "    \"a quality or feature of something that attracts your attention or makes you want to know more about it\",\n",
    "    \"an activity that you enjoy doing or a subject that you enjoy studying\",\n",
    "    \"the things that bring advantages to someone or something\",\n",
    "    \"if you have an interest in a particular company or industry, you own shares in it\",\n",
    "    \"the extra money that you must pay back when you borrow money\"\n",
    "]\n",
    "\n",
    "senses_wordnet = [\n",
    "    \"a sense of concern with and curiosity about someone or something\",\n",
    "    \"the power of attracting or holding one's attention (because it is unusual or exciting etc.)\",\n",
    "    \"a diversion that occupies one's time and thoughts (usually pleasantly)\",\n",
    "    \"a reason for wanting something done\",\n",
    "    \"(law) a right or legal share of something; a financial involvement with something\",\n",
    "    \"a fixed charge for borrowing money; usually a percentage of the amount borrowed\"\n",
    "]\n",
    "\n",
    "senses2 = []\n",
    "for i in range(min(len(senses_ldce), len(senses_wordnet))):\n",
    "    words = nltk.word_tokenize(senses_ldce[i] + \" \" + senses_wordnet[i])\n",
    "    words = [word for word in words if len(word) > 4]\n",
    "    words = list(set(words))\n",
    "    senses2.append(words)\n",
    "\n",
    "print(senses2)"
   ],
   "outputs": [
    {
     "name": "stdout",
     "output_type": "stream",
     "text": [
      "[['someone', 'curiosity', 'interest', 'learn', 'concern', 'about', 'something', 'sense'], ['makes', 'something', 'attracting', 'exciting', 'holding', 'because', 'unusual', 'attracts', 'power', 'quality', 'about', 'attention', 'feature'], ['pleasantly', 'thoughts', 'diversion', 'enjoy', 'usually', 'subject', 'doing', 'occupies', 'activity', 'studying'], ['someone', 'wanting', 'advantages', 'bring', 'things', 'something', 'reason'], ['financial', 'shares', 'legal', 'something', 'involvement', 'company', 'right', 'interest', 'industry', 'share', 'particular'], ['borrowing', 'amount', 'usually', 'borrow', 'borrowed', 'fixed', 'charge', 'money', 'extra', 'percentage']]\n"
     ]
    }
   ],
   "execution_count": 10
  },
  {
   "cell_type": "markdown",
   "metadata": {},
   "source": [
    "**1j.** Chargez les données depuis `interest-original.txt` dans une liste appelée `sentences` qui contient pour chaque phrase la liste des mots (sans les séparateurs *$$* et *===...*).  Ces phrases sont-elles déjà tokenisées en mots ?  Sinon, faites-le.  À ce stade, ne modifiez pas encore les occurrences annotées *interest(s)\\_X*.  Comptez le nombre total de phrases et affichez-en trois au hasard."
   ]
  },
  {
   "cell_type": "code",
   "metadata": {
    "ExecuteTime": {
     "end_time": "2024-05-19T14:14:09.627579Z",
     "start_time": "2024-05-19T14:14:09.560140Z"
    }
   },
   "source": [
    "# Veuillez répondre ici à la question.\n",
    "from nltk.tokenize import RegexpTokenizer \n",
    "\n",
    "#Nous avons retiré la ponctuation et les guillemets qui ne sont pas pertinents pour la désambiguïsation\n",
    "tokenizer = RegexpTokenizer(r\"\\w+(?:'\\w+)?|'\\w+\")\n",
    "sentences = []\n",
    "with open(\"./interest-corpus/interest-original.txt\", \"r\") as f:\n",
    "    for line in f:\n",
    "        if not line.startswith(\"$$\"):\n",
    "            words = tokenizer.tokenize(line)\n",
    "            sentences.append(words)\n",
    "        \n",
    "\n",
    "print(\"Il y a {} phrases.\\nEn voici 3 au hasard :\".format(len(sentences)))\n",
    "print(sentences[151:154])\n",
    "# print(sentences[73])"
   ],
   "outputs": [
    {
     "name": "stdout",
     "output_type": "stream",
     "text": [
      "Il y a 2368 phrases.\n",
      "En voici 3 au hasard :\n",
      "[['investor', 'interest_1', 'in', 'stock', 'funds', 'has', \"n't\", 'stalled', 'at', 'all', 'mr', 'hines', 'maintains'], ['it', 'is', 'in', 'the', 'western', 'interest_4', 'to', 'see', 'mr', 'gorbachev', 'succeed'], ['revco', 'insists', 'that', 'the', 'proposal', 'is', 'simply', 'an', 'expression', 'of', 'interest_1', 'because', 'under', 'chapter', '11', 'revco', 'has', 'exclusivity', 'rights', 'until', 'feb', '28']]\n"
     ]
    }
   ],
   "execution_count": 11
  },
  {
   "cell_type": "markdown",
   "metadata": {},
   "source": [
    "## 2. Algorithme de Lesk simplifié\n",
    "\n",
    "**2a.** Définissez une fonction `wsd_lesk(senses, sentence)` qui prend deux arguments : une liste de listes de mots-clés (comme `senses1` et `senses2` ci-dessus) et une phrase avec une occurrence annotée de *interest* ou *interests*, et qui retourne l'index du sens le plus probable (entre 1 et 6) selon l'algorithme de Lesk.  Cet algorithme choisit le sens qui a le maximum de mots en commun avec le contexte de *interest*.  Vous pouvez choisir vous-mêmes la taille de ce voisinage (`window_size`).  En cas d'égalité entre deux sens, tirer la réponse au sort."
   ]
  },
  {
   "cell_type": "code",
   "metadata": {
    "ExecuteTime": {
     "end_time": "2024-05-19T14:18:20.402929Z",
     "start_time": "2024-05-19T14:18:20.388870Z"
    }
   },
   "source": [
    "# Veuillez répondre ici à la question.\n",
    "WINDOW_SIZE = 8\n",
    "\n",
    "def get_neighboring_words(tokenized_sentence, window_size):\n",
    "    target_word_index = None\n",
    "    for i, word in enumerate(tokenized_sentence):\n",
    "        if word.startswith('interest_') or word.startswith('interests_'):\n",
    "            target_word_index = i\n",
    "            break\n",
    "    \n",
    "    if target_word_index is None:\n",
    "        return []  # Si aucun mot ne correspond au critère\n",
    "    \n",
    "    start_index = max(0, target_word_index - window_size)\n",
    "    end_index = min(len(tokenized_sentence), target_word_index + window_size + 1)\n",
    "    return tokenized_sentence[start_index:target_word_index] + tokenized_sentence[target_word_index+1:end_index]\n",
    "\n",
    "def wsd_lesk(senses, sentence):\n",
    "    best_sense = -1\n",
    "    best_overlap = 0\n",
    "    sentence = get_neighboring_words(sentence, WINDOW_SIZE)\n",
    "    \n",
    "    for i, sense in enumerate(senses):\n",
    "        overlap = len(set(sense) & set(sentence))\n",
    "        if overlap > best_overlap:\n",
    "            best_overlap = overlap\n",
    "            best_sense = i\n",
    "            \n",
    "    if best_sense == -1:\n",
    "        #Aucun sens n'a été trouvé. On en sélectionne 1 parmi les 6\n",
    "        return randrange(6) + 1\n",
    "            \n",
    "    best_senses = [i for i, sense in enumerate(senses) if len(set(sense) & set(sentence)) == best_overlap]\n",
    "    \n",
    "    if len(best_senses) > 1:\n",
    "        #Deux ou plusieurs sens ont le même score. On en sélectionne 1 au hasard\n",
    "        best_sense = best_senses[randrange(len(best_senses))]\n",
    "        \n",
    "    return best_sense + 1"
   ],
   "outputs": [],
   "execution_count": 34
  },
  {
   "cell_type": "markdown",
   "metadata": {},
   "source": [
    "**2b.** Définissez maintenant une fonction `evaluate_wsd(fct_name, senses, sentences)` qui prend en paramètre le nom de la méthode de similarité (pour commencer : `wsd_lesk`) ainsi que la liste des mots-clés par sens, et la liste de phrases, et qui retourne le score de la méthode de similarité.  Ce score sera tout simplement le pourcentage de réponses correctes (sens trouvé identique au sens annoté)."
   ]
  },
  {
   "cell_type": "code",
   "metadata": {
    "ExecuteTime": {
     "end_time": "2024-05-19T14:18:43.966569Z",
     "start_time": "2024-05-19T14:18:43.817853Z"
    }
   },
   "source": [
    "# Veuillez répondre ici à la question.\n",
    "import re\n",
    "\n",
    "# Extrait le numéro du sens du mot interest.\n",
    "def extract_sense_number(word_list):\n",
    "    interest_number = None\n",
    "    for word in word_list:\n",
    "        match = re.match(r'interests?_(\\d+)', word)\n",
    "        if match:\n",
    "            interest_number = int(match.group(1))\n",
    "            break\n",
    "    \n",
    "    return interest_number\n",
    "\n",
    "def evaluate_wsd(fct_name, senses, sentences):\n",
    "    correct = 0\n",
    "    for sentence in sentences:\n",
    "        sense = extract_sense_number(sentence)\n",
    "        if fct_name(senses, sentence) == sense:\n",
    "            correct += 1\n",
    "    return correct / len(sentences)\n",
    "\n",
    "print(\"Taille de la fenêtre: \", WINDOW_SIZE)\n",
    "print(\"Score avec sense1: \", evaluate_wsd(wsd_lesk, senses1, sentences))\n",
    "print(\"Score avec sense2: \", evaluate_wsd(wsd_lesk, senses2, sentences))"
   ],
   "outputs": [
    {
     "name": "stdout",
     "output_type": "stream",
     "text": [
      "Taille de la fenêtre:  8\n",
      "Score avec sense1:  0.17736486486486486\n",
      "Score avec sense2:  0.22212837837837837\n"
     ]
    }
   ],
   "execution_count": 40
  },
  {
   "cell_type": "markdown",
   "metadata": {},
   "source": [
    "**2c.** En fixant au mieux la taille de la fenêtre autour de *interest*, quel est le meilleur score de la méthode de Lesk simplifiée ?  Quelle liste de sens conduit à de meilleurs scores, `senses1` ou `senses2` ?"
   ]
  },
  {
   "cell_type": "code",
   "metadata": {
    "ExecuteTime": {
     "end_time": "2024-05-14T14:12:46.790291Z",
     "start_time": "2024-05-14T14:12:46.771853Z"
    }
   },
   "source": [
    "# Veuillez répondre ici à la question.\n",
    "# Le meilleur score obtenu est de l'ordre de 0.222\n",
    "# Le meilleur score est obtenu avec la liste de sense 2, ce qui semble logique étant donné qu'elle est plus fournie. Notons toutefois qu'avec notre implémentation, la taille des fenêtres n'a pas beaucoup d'intérêt à être de petite taille puisqu'elle s'applique par phrase et non pas sur le corpus total. À vrai dire, le problème principal de ce modèle est qu'une grande majorité d'attribution des sens se fait au hasard, ce qui est surtout visible avec sense1 qui a un score de ~1/6. En gardant cette valeur en tête, on peut dire que sense2 est à peine plus performant et que cette méthode n'est pas du tout adaptée à notre contexte."
   ],
   "outputs": [],
   "execution_count": 302
  },
  {
   "cell_type": "markdown",
   "metadata": {},
   "source": [
    "## 3. Utilisation de word2vec pour la similarité contexte vs. synset\n",
    "\n",
    "**3a.** En réutilisant une partie du code de `wsd_lesk`, veuillez maintenant définir une fonction `wsd_word2vec(senses, sentence)` qui choisit le sens en utilisant la similarité **word2vec** étudiée dans le labo précédent. \n",
    "* Vous pouvez chercher dans la [documentation des KeyedVectors](https://radimrehurek.com/gensim/models/keyedvectors.html) comment calculer directement la similarité entre deux listes de mots.\n",
    "* Comme `wsd_lesk`, la nouvelle fonction `wsd_word2vec` prend en argument une liste de listes de mots-clés par sens (comme `senses1` et `senses2` ci-dessus), et une phrase avec une occurrence annotée de *interest* ou *interests*.\n",
    "* La fonction retourne le numéro du sens le plus probable selon la similarité word2vec entre les mots du sens et ceux du voisinage de *interest*.  En cas d'égalité, tirer le sens au sort.\n",
    "* Vous pouvez régler la taille du voisinage (`window_size`) par l'expérimentation.  "
   ]
  },
  {
   "cell_type": "code",
   "metadata": {
    "ExecuteTime": {
     "end_time": "2024-05-19T14:37:58.571812Z",
     "start_time": "2024-05-19T14:37:34.759638Z"
    }
   },
   "source": [
    "import gensim\n",
    "path_to_model = \"./GoogleNews-vectors-negative300.bin\" # à adapter\n",
    "wv_model = gensim.models.KeyedVectors.load_word2vec_format(path_to_model, binary=True)  # C bin format"
   ],
   "outputs": [],
   "execution_count": 44
  },
  {
   "cell_type": "code",
   "metadata": {
    "ExecuteTime": {
     "end_time": "2024-05-19T15:09:22.998877Z",
     "start_time": "2024-05-19T15:09:22.988940Z"
    }
   },
   "source": [
    "# Veuillez répondre ici à la question.\n",
    "WINDOW_SIZE_W2V = 4\n",
    "\n",
    "def wsd_word2vec(senses, sentence):\n",
    "    best_sense = -1\n",
    "    best_similarity = 0\n",
    "    sentence = get_neighboring_words(sentence, WINDOW_SIZE_W2V)\n",
    "    \n",
    "    for i, sense in enumerate(senses):\n",
    "        similarity = wv_model.n_similarity(sense, sentence)\n",
    "        if similarity > best_similarity:\n",
    "            best_similarity = similarity\n",
    "            best_sense = i\n",
    "            \n",
    "    # Le cas où deux sens ont une similarité égale est quasi inexistant. Mais la consigne l'exige, alors voici la gestions dudit cas:        \n",
    "    if best_sense == -1:\n",
    "        #Aucun sens n'a été trouvé. On en sélectionne 1 parmi les 6\n",
    "        return randrange(6) + 1\n",
    "            \n",
    "    best_senses = [i for i, sense in enumerate(senses) if wv_model.n_similarity(sense, sentence) == best_similarity]\n",
    "    \n",
    "    if len(best_senses) > 1:\n",
    "        #Deux ou plusieurs sens ont le même score. On en sélectionne 1 au hasard\n",
    "        best_sense = best_senses[randrange(len(best_senses))]\n",
    "        \n",
    "    return best_sense + 1"
   ],
   "outputs": [],
   "execution_count": 73
  },
  {
   "cell_type": "markdown",
   "metadata": {},
   "source": [
    "**3b.** Appliquez maintenant la même méthode `evaluate_wsd` avec la fonction `wsd_word2vec` (en cherchant une bonne valeur de la taille de la fenêtre) et affichez le score de la similarité word2vec.  Comment se compare-t-il avec le score précédent (Lesk) ?"
   ]
  },
  {
   "cell_type": "code",
   "metadata": {
    "ExecuteTime": {
     "end_time": "2024-05-19T15:09:29.466264Z",
     "start_time": "2024-05-19T15:09:24.771070Z"
    }
   },
   "source": [
    "# Veuillez répondre ici à la question.\n",
    "print(\"Taille de la fenêtre: \", WINDOW_SIZE_W2V)\n",
    "print(\"Score avec sense1: \", evaluate_wsd(wsd_word2vec, senses1, sentences))\n",
    "print(\"Score avec sense2: \", evaluate_wsd(wsd_word2vec, senses2, sentences))\n",
    "\n",
    "# Contraitement au score de Lesk, la taille de la fenêtre est plus significative et le résultat de sense2 diminue au delà de 4 mots voisin. De plus, avec le calcul de similarité, nous ne rencontrons quasi jamais de cas où deux sens ont une similarité égale, annulant ainsi les résultats corrects obtenus uniquement par hasard. \n",
    "# Cette méthode garantit ainsi des résultats plus fiables et plus précis. Nous pouvons mieux statuer sur la réelle performance de ce modèle."
   ],
   "outputs": [
    {
     "name": "stdout",
     "output_type": "stream",
     "text": [
      "Taille de la fenêtre:  4\n",
      "Score avec sense1:  0.28969594594594594\n",
      "Score avec sense2:  0.542652027027027\n"
     ]
    }
   ],
   "execution_count": 74
  },
  {
   "cell_type": "markdown",
   "metadata": {},
   "source": [
    "## 4. Classification supervisée avec des traits lexicaux\n",
    "Vous entraînerez maintenant des classifieurs pour prédire le sens d'une occurrence dans une phrase.  Le principal défi sera de transformer chaque phrase en un ensemble de traits (attributs, *features*), pour créer les données en vue des expériences de classification.\n",
    "\n",
    "Veuillez utiliser le classifieur `NaiveBayesClassifier` fourni par NLTK.  Le mode d'emploi se trouve dans le [Chapitre 6, sections 1.1-1.3](https://www.nltk.org/book/ch06.html) du livre NLTK.  Consultez-le attentivement pour trouver comment formater les données.  De plus, il faudra séparer les données en sous-ensembles d'entraînement et de test."
   ]
  },
  {
   "cell_type": "markdown",
   "metadata": {},
   "source": [
    "### 4.1. Attributs lexicaux positionnels\n",
    "\n",
    "Dans cette première représentation des attributs, vous les coderez comme `mot-2`, `mot-1`, `mot+1`, `mot+2`, etc. (fenêtre de taille `2*window_size` autour de *interest*) et vous leur donnerez les valeurs des mots observés aux emplacements respectifs, ou `NONE` si la fenêtre dépasse l'étendue de la phrase.  Vous ajouterez un attribut qui est le mot *interest* lui-même, qui peut être au singulier ou au pluriel.  Pour chaque occurrence de *interest*, vous devrez donc créer une représentation formelle, incluant un dictionnaire Python et le numéro du sens :\n",
    "```\n",
    "[{'word-1': 'in', 'word+1': 'rates', 'word-2': 'declines', 'word+2': 'NONE', 'word0': 'interest'}, 6]\n",
    "```\n",
    "Vous regrouperez toutes ces entrées dans une liste totale appelée `items_with_features_A`.  (Le numéro du sens servira à l'entraînement, puis il sera caché à l'évaluation, quand on comparera la prédiction du système au numéro correct.)  \n",
    "\n",
    "**4.1a.** En partant de la liste des phrases appelée `sentences`(préparée plus haut), veuillez générer ici cette liste totale, en vous aidant si nécessaire du livre NLTK."
   ]
  },
  {
   "cell_type": "code",
   "execution_count": null,
   "metadata": {},
   "outputs": [],
   "source": [
    "# Veuillez répondre ici à la question.\n",
    "\n",
    "print(len(items_with_features_A))\n",
    "print(items_with_features_A[151:154])"
   ]
  },
  {
   "cell_type": "markdown",
   "metadata": {},
   "source": [
    "**4.1b.** On souhaite maintenant entraîner un classifieur sur une partie des données, et le tester sur une autre.  Vous garderez 80% des données pour l'entraînement et utiliserez les 20% restants pour l'évaluation.  Veuillez faire cette division séparément pour chaque sens, pour que les deux ensembles contiennent les mêmes proportions de sens que l'ensemble de départ (\"stratification\"), et enregistrer les deux sous-ensembles de `items_with_features_A` sous les noms respectifs de `iwf_A_train` et `iwf_A_test`."
   ]
  },
  {
   "cell_type": "code",
   "execution_count": null,
   "metadata": {},
   "outputs": [],
   "source": [
    "from random import shuffle"
   ]
  },
  {
   "cell_type": "code",
   "execution_count": null,
   "metadata": {},
   "outputs": [],
   "source": [
    "iwf_A_train = []\n",
    "iwf_A_test  = []\n",
    "# Veuillez répondre ici à la question.\n",
    "\n",
    "print(len(iwf_A_train), ' ', len(iwf_A_test))\n",
    "print(iwf_A_test[:2], iwf_A_test[-2:])"
   ]
  },
  {
   "cell_type": "markdown",
   "metadata": {},
   "source": [
    "**4.1c.** Veuillez créer une instance de `NaiveBayesClassifier`, l'entraîner sur `iwf_A_train` et la tester sur `iwf_A_test` (voir la documentation NLTK).  En expérimentant avec différentes largeurs de fenêtres, quel est le meilleur score global que vous obtenez (avec la fonction `accuracy`), et comment se compare-t-il avec les précédents ?"
   ]
  },
  {
   "cell_type": "code",
   "execution_count": null,
   "metadata": {},
   "outputs": [],
   "source": [
    "from nltk.classify import naivebayes \n",
    "# Veuillez répondre ici à la question.\n",
    ""
   ]
  },
  {
   "cell_type": "markdown",
   "metadata": {},
   "source": [
    "**4.1d.** En utilisant la fonction `show_most_informative_features()`, veuillez afficher les attributs les plus informatifs et commenter le résultat."
   ]
  },
  {
   "cell_type": "code",
   "execution_count": null,
   "metadata": {},
   "outputs": [],
   "source": [
    ""
   ]
  },
  {
   "cell_type": "markdown",
   "metadata": {},
   "source": [
    "### 4.2 Présence de mots indicateurs\n",
    "\n",
    "Une deuxième façon d'encoder les attributs lexicaux est de constituer un vocabulaire avec tous les mots qui apparaissent dans tous les voisinages de *interest* et de définir ces mots comme attributs.  Par conséquent, pour chaque occurrence de *interest*, on extrait la valeur de ces attributs sous la forme :\n",
    "```\n",
    "[{('rate' : True), ('in' : False), ...}, 1]\n",
    "```\n",
    "où *'rate'*, *'in'*, etc., sont les mots du vocabulaire, True/False indiquent leur présence/absence autour de l'occurrence de *interest* qui nous intéresse, et le dernier nombre est le sens, entre 1 et 6.\n",
    "\n",
    "**4.2a.** Pour commencer, en partant de `sentences` et en fixant la taille de la fenêtre, veuillez constituer la liste de tous les mots observés autour de tous les voisinages de toutes les occurrences de *interest*."
   ]
  },
  {
   "cell_type": "code",
   "execution_count": null,
   "metadata": {},
   "outputs": [],
   "source": [
    "word_list = []\n",
    "# Veuillez répondre ici à la question.\n",
    "\n",
    "print(len(word_list))\n",
    "print(word_list[:50])"
   ]
  },
  {
   "cell_type": "markdown",
   "metadata": {},
   "source": [
    "**4.2b.** En utilisant par exemple un objet de type `nltk.FreqDist`, veuillez sélectioner les 500 mots les plus fréquents (vous pourrez aussi optimiser ce nombre), dans une liste appelée `vocabulary`.  À votre avis, est-ce une bonne idée d'enlever les *stopwords* de cette liste pour construire les traits ?"
   ]
  },
  {
   "cell_type": "code",
   "execution_count": null,
   "metadata": {},
   "outputs": [],
   "source": [
    "# Veuillez répondre ici à la question.\n",
    "\n",
    "print(vocabulary[:50])"
   ]
  },
  {
   "cell_type": "markdown",
   "metadata": {},
   "source": [
    "**4.2c.** Veuillez maintenant créer l'ensemble total de données formatées, en convertissant chaque phrase contenant une occurrence de *interest* à un dictionnaire de traits/valeurs (suivi du numéro du sens), comme exemplifié au début de cette section 4.2.  Cet ensemble sera appelé `items_with_features_B`."
   ]
  },
  {
   "cell_type": "code",
   "execution_count": null,
   "metadata": {},
   "outputs": [],
   "source": [
    "items_with_features_B = []\n",
    "# Veuillez répondre ici à la question.\n",
    "\n",
    "print(len(items_with_features_B))"
   ]
  },
  {
   "cell_type": "markdown",
   "metadata": {},
   "source": [
    "**4.2d.** Comme dans la section 4.1, veuillez créer maintenant deux sous-ensembles de `items_with_features_B` appelés `iwf_B_train` (80% des items) et `iwf_B_test` (20% des items), avec une sélection aléatoire mais stratifiée."
   ]
  },
  {
   "cell_type": "code",
   "execution_count": null,
   "metadata": {},
   "outputs": [],
   "source": [
    "iwf_B_train = []\n",
    "iwf_B_test  = []\n",
    "# Veuillez répondre ici à la question.\n",
    "\n",
    "print(len(iwf_B_train), ' ', len(iwf_B_test))"
   ]
  },
  {
   "cell_type": "markdown",
   "metadata": {},
   "source": [
    "**4.2e.** Comme dans la section 4.1, veuillez créer une instance de `NaiveBayesClassifier`, l'entraîner sur `iwf_B_train` et la tester sur `iwf_B_test`.  En expérimentant avec différentes largeurs de fenêtres et tailles du vocabulaire, quel est le meilleur score que vous obtenez, et comment se compare-t-il avec les précédents ?"
   ]
  },
  {
   "cell_type": "code",
   "execution_count": null,
   "metadata": {},
   "outputs": [],
   "source": [
    "from nltk.classify import naivebayes \n",
    "# Veuillez répondre ici à la question.\n",
    ""
   ]
  },
  {
   "cell_type": "markdown",
   "metadata": {},
   "source": [
    "**4.2f.** Quels sont les attributs les plus informatifs ?"
   ]
  },
  {
   "cell_type": "code",
   "execution_count": null,
   "metadata": {},
   "outputs": [],
   "source": [
    ""
   ]
  },
  {
   "cell_type": "markdown",
   "metadata": {},
   "source": [
    "## 5. Conclusion\n",
    "\n",
    "Veuillez recopier ci-dessous, en guise de conclusion, les scores des quatre expériences réalisées, pour pouvoir les comparer d'un coup d'oeil.  Quel est le meilleur score obtenu?"
   ]
  },
  {
   "cell_type": "code",
   "execution_count": null,
   "metadata": {},
   "outputs": [],
   "source": [
    ""
   ]
  },
  {
   "cell_type": "markdown",
   "metadata": {},
   "source": [
    "## Fin du laboratoire\n",
    "\n",
    "Merci de nettoyer votre feuille, sauvegarder le résultat, et soumettre le *notebook* sur Cyberlearn."
   ]
  },
  {
   "cell_type": "code",
   "execution_count": null,
   "metadata": {},
   "outputs": [],
   "source": []
  }
 ],
 "metadata": {
  "kernelspec": {
   "display_name": "Python 3 (ipykernel)",
   "language": "python",
   "name": "python3"
  },
  "language_info": {
   "codemirror_mode": {
    "name": "ipython",
    "version": 3
   },
   "file_extension": ".py",
   "mimetype": "text/x-python",
   "name": "python",
   "nbconvert_exporter": "python",
   "pygments_lexer": "ipython3",
   "version": "3.10.13"
  }
 },
 "nbformat": 4,
 "nbformat_minor": 4
}
