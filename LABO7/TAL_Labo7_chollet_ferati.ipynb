{
 "cells": [
  {
   "metadata": {},
   "cell_type": "markdown",
   "source": [
    "# Cours TAL – Labo 7 : Classification de dépêches d’agence avec NLTK\n",
    "\n",
    "**Objectifs**\n",
    "L’objectif de ce labo est de réaliser des expériences de classification de documents avec la boîte à\n",
    "outils NLTK sur le corpus de dépêches Reuters. Le labo est à effectuer en binôme. Le rendu sera un\n",
    "notebook Jupyter présentant vos choix, votre code, vos résultats et les discussions. Le labo sera jugé\n",
    "sur la qualité des expériences et sur la discussion des différentes options explorées.\n"
   ],
   "id": "d05550221f1a3159"
  },
  {
   "metadata": {},
   "cell_type": "markdown",
   "source": [
    "# 1. Récupération des données\n",
    "\n",
    "**Données :** les dépêches du corpus Reuters, tel qu’il est fourni par NLTK. Veuillez respecter la\n",
    "division en données d’entraînement et données de test."
   ],
   "id": "71bdbbc171040120"
  },
  {
   "metadata": {
    "ExecuteTime": {
     "end_time": "2024-05-27T16:13:00.391184Z",
     "start_time": "2024-05-27T16:12:25.245266Z"
    }
   },
   "cell_type": "code",
   "source": [
    "import nltk\n",
    "from nltk.corpus import reuters\n",
    "from nltk.stem import WordNetLemmatizer\n",
    "\n",
    "nltk.download('reuters')\n",
    "nltk.download('stopwords')\n",
    "nltk.download('wordnet')\n",
    "lemmatizer = WordNetLemmatizer()\n",
    "\n",
    "stop_words = set(nltk.corpus.stopwords.words('english'))\n",
    "\n",
    "documents = [(list(reuters.words(fileid)), category)\n",
    "             for category in reuters.categories()\n",
    "             for fileid in reuters.fileids(category)]\n",
    "\n",
    "documents_no_stop_words = [(list(filter(lambda w: w.lower() not in stop_words, reuters.words(fileid))), category)\n",
    "             for category in reuters.categories()\n",
    "             for fileid in reuters.fileids(category)]\n",
    "\n",
    "#TODO: Ca marche pas\n",
    "documents_lemmatized = [(list(map(lemmatizer.lemmatize, reuters.words(fileid))), category)\n",
    "             for category in reuters.categories()\n",
    "             for fileid in reuters.fileids(category)]\n",
    "\n",
    "# Modifie la liste des documents pour n'avoir que catégorie\n",
    "def documents_with_binary_category(category):\n",
    "    return [(d, category if c == category else 'other') for (d, c) in documents]"
   ],
   "id": "b5feb182f989dfe3",
   "outputs": [
    {
     "name": "stderr",
     "output_type": "stream",
     "text": [
      "[nltk_data] Downloading package reuters to\n",
      "[nltk_data]     C:\\Users\\babac\\AppData\\Roaming\\nltk_data...\n",
      "[nltk_data]   Package reuters is already up-to-date!\n",
      "[nltk_data] Downloading package stopwords to\n",
      "[nltk_data]     C:\\Users\\babac\\AppData\\Roaming\\nltk_data...\n",
      "[nltk_data]   Package stopwords is already up-to-date!\n",
      "[nltk_data] Downloading package wordnet to\n",
      "[nltk_data]     C:\\Users\\babac\\AppData\\Roaming\\nltk_data...\n"
     ]
    }
   ],
   "execution_count": 20
  },
  {
   "metadata": {
    "ExecuteTime": {
     "end_time": "2024-05-27T16:01:09.350296Z",
     "start_time": "2024-05-27T16:01:09.342580Z"
    }
   },
   "cell_type": "code",
   "source": [
    "\n",
    "\n",
    "\n",
    "# random.shuffle(documents) # Mélange des documents pour ne pas récupérer les mêmes données de tests à chaque exécution\n",
    "\n",
    "# Récupère la fréquence des mots\n",
    "# all_words = nltk.FreqDist(w.lower() for w in reuters.words()) #TODO: HYPERPARAMETRE lowercase\n",
    "# On sélectionne les 2000 mots les plus fréquents comme features pour le classifieur\n",
    "# word_features = list(all_words)[:2000]\n",
    "\n",
    "# Retourne un dictionnaire indiquant si une feature est présent dans le document\n",
    "# def document_contains_features(document):\n",
    "#     doc_words = set(document)\n",
    "#     features = {}\n",
    "#     for word in word_features:\n",
    "#         features['contains({})'.format(word)] = (word in doc_words)\n",
    "#     return features\n",
    "# \n",
    "# featureset = document_contains_features(documents[0][0])\n",
    "# print(featureset)\n",
    " \n",
    "# featuresets = [(document_contains_features(d), c) for (d,c) in documents]\n",
    "# print(featuresets)\n",
    "# train_set, test_set = featuresets[1000:], featuresets[:1000]\n",
    "# \n",
    "# classifier = nltk.NaiveBayesClassifier.train(train_set)\n",
    "# print(nltk.classify.accuracy(classifier, test_set))\n",
    "# classifier.show_most_informative_features(5)\n"
   ],
   "id": "b5a572e49a72875f",
   "outputs": [
    {
     "name": "stdout",
     "output_type": "stream",
     "text": [
      "['acq', 'alum', 'barley', 'bop', 'carcass', 'castor-oil', 'cocoa', 'coconut', 'coconut-oil', 'coffee', 'copper', 'copra-cake', 'corn', 'cotton', 'cotton-oil', 'cpi', 'cpu', 'crude', 'dfl', 'dlr', 'dmk', 'earn', 'fuel', 'gas', 'gnp', 'gold', 'grain', 'groundnut', 'groundnut-oil', 'heat', 'hog', 'housing', 'income', 'instal-debt', 'interest', 'ipi', 'iron-steel', 'jet', 'jobs', 'l-cattle', 'lead', 'lei', 'lin-oil', 'livestock', 'lumber', 'meal-feed', 'money-fx', 'money-supply', 'naphtha', 'nat-gas', 'nickel', 'nkr', 'nzdlr', 'oat', 'oilseed', 'orange', 'palladium', 'palm-oil', 'palmkernel', 'pet-chem', 'platinum', 'potato', 'propane', 'rand', 'rape-oil', 'rapeseed', 'reserves', 'retail', 'rice', 'rubber', 'rye', 'ship', 'silver', 'sorghum', 'soy-meal', 'soy-oil', 'soybean', 'strategic-metal', 'sugar', 'sun-meal', 'sun-oil', 'sunseed', 'tea', 'tin', 'trade', 'veg-oil', 'wheat', 'wpi', 'yen', 'zinc']\n"
     ]
    }
   ],
   "execution_count": 18
  },
  {
   "metadata": {},
   "cell_type": "markdown",
   "source": [
    "## 2. Classifieurs binaires\n",
    "\n",
    "### 2.1 Classifieur binaire pour la catégorie 'money-fx'\n",
    "\n",
    "#### 2.1.1 Définition des hyperparamètres"
   ],
   "id": "19ce11ccb64d7b14"
  },
  {
   "metadata": {},
   "cell_type": "code",
   "outputs": [],
   "execution_count": null,
   "source": "",
   "id": "188ade5762dff722"
  }
 ],
 "metadata": {
  "kernelspec": {
   "display_name": "Python 3",
   "language": "python",
   "name": "python3"
  },
  "language_info": {
   "codemirror_mode": {
    "name": "ipython",
    "version": 2
   },
   "file_extension": ".py",
   "mimetype": "text/x-python",
   "name": "python",
   "nbconvert_exporter": "python",
   "pygments_lexer": "ipython2",
   "version": "2.7.6"
  }
 },
 "nbformat": 4,
 "nbformat_minor": 5
}
