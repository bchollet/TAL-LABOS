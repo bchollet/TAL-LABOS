{
 "cells": [
  {
   "cell_type": "markdown",
   "metadata": {},
   "source": [
    "<img src=\"https://heig-vd.ch/docs/default-source/doc-global-newsletter/2020-slim.svg\" alt=\"HEIG-VD Logo\" width=\"100\"/>\n",
    "\n",
    "# Cours TAL - Laboratoire 6\n",
    "# Trois méthodes de désambiguïsation lexicale\n",
    "\n",
    "**Objectif**\n",
    "\n",
    "L'objectif de ce laboratoire est d'implémenter et de comparer plusieurs méthodes de désambiguïsation lexicale (en anglais, *Word Sense Disambiguation* ou WSD).  Vous utiliserez un corpus avec plusieurs milliers de phrases, chaque phrase contenant une occurrence du mot anglais *interest* annotée avec le sens que ce mot possède dans la phrase respective.  Les trois méthodes sont les suivantes (elles seront détaillées par la suite) :\n",
    "\n",
    "* Algorithme de Lesk simplifié.\n",
    "* Utilisation de word2vec.\n",
    "* Classification supervisée utilisant des traits lexicaux :\n",
    "   - les mots en position -1, -2, ..., et +1, +2, ..., par rapport à *interest* ;\n",
    "   - apparition de mots indicateurs dans le voisinage de *interest*.\n",
    "\n",
    "Les deux premières méthodes n'utilisent pas l'apprentissage automatique.  Elles fonctionnent selon le même principe : comparer le contexte d'une occurrence de *interest* avec chacune des définitions des sens (*synsets*) et choisir la définition la plus proche du contexte.  L'algorithme de Lesk définit la proximité comme le nombre de mots en commun, alors que word2vec la calcule comme la similarité de vecteurs.  La dernière méthode vise à classifier les occurrences de *interest*, les sens étant les classes, et les attributs étant les mots du contexte (apprentissage supervisé)."
   ]
  },
  {
   "cell_type": "markdown",
   "metadata": {},
   "source": [
    "## 1. Analyse des données\n",
    "\n",
    "Téléchargez le corpus *interest* depuis le [site du Prof. Ted Pedersen](http://www.d.umn.edu/~tpederse/data.html) (il se trouve en bas de la page).  Téléchargez l'archive ZIP marquée *original format without POS tags* et extrayez le fichier `interest-original.txt`.  Téléchargez également le fichier `README.int.txt` indiqué à la ligne au-dessus. Veuillez répondre brièvement aux questions suivantes :\n",
    "\n",
    "a. Quelles sont les URL du fichier ZIP et celle du fichier `README.int.txt` ?\n",
    "\n",
    "b. Quel est le format du fichier `interest-original.txt` et comment sont annotés les sens de *interest* ?\n",
    "\n",
    "c. Est-ce qu'on considère aussi les occurrences au pluriel (*interests*) ?\n",
    "\n",
    "d. Comment sont annotées les phrases qui contiennent plusieurs occurrences du mot *interest* ?"
   ]
  },
  {
   "cell_type": "code",
   "metadata": {
    "ExecuteTime": {
     "end_time": "2024-05-23T18:28:56.743680Z",
     "start_time": "2024-05-23T18:28:56.738167Z"
    }
   },
   "source": [
    "# Veuillez répondre ici (en commentaire) aux questions.\n",
    "#a. ZIP = https://www.d.umn.edu/~tpederse/Data/interest-original.nopos.tar.gz\n",
    "#   txt = https://www.d.umn.edu/~tpederse/Data/README.int.txt\n",
    "\n",
    "#b. il s'agit d'un fichier au format .txt. Chaque occurrence du mot \"interest\" est suffixée avec un tiret bas suivit d'un chiffre correspondant à un sens particulier du mot.\n",
    "\n",
    "#c. Oui, on considère aussi les occurrences au pluriel.\n",
    "\n",
    "#d. Ces phrases sont généralement dédoublées. On annote l'occurrence du mot qu'on souhaite traitée comme précédemment et on préfixe les autres occurrence avec un astérisque. On dédouble la phrase pour autant de mots \"interest\" qu'elle contient.\n",
    "# Exemple:\n",
    "# in  such circumstances  ,  free-speech interests_4  outweighed  the *interests  of  the copyright owner  . \n",
    "# in  such circumstances  ,  free-speech *interests  outweighed  the interests_4  of  the copyright owner  . "
   ],
   "outputs": [],
   "execution_count": 1
  },
  {
   "cell_type": "markdown",
   "metadata": {},
   "source": [
    "**1e.** D'après le fichier `README.int.txt`, quelles sont les définitions des six sens de *interest* annotés dans les données et quelles sont leurs fréquences ? Vous pouvez copier/coller l'extrait de `README`ici."
   ]
  },
  {
   "cell_type": "code",
   "execution_count": 2,
   "metadata": {
    "ExecuteTime": {
     "end_time": "2024-05-23T18:28:56.757613Z",
     "start_time": "2024-05-23T18:28:56.744987Z"
    }
   },
   "outputs": [],
   "source": [
    "# Sense 1 = readiness to give attention\n",
    "# Sense 2 = quality of causing attention to be given to\n",
    "# Sense 3 = activity, etc. that one gives attention to\n",
    "# Sense 4 = advantage, advancement or favor\n",
    "# Sense 5 = a share in a company or business\n",
    "# Sense 6 = money paid for the use of money"
   ]
  },
  {
   "cell_type": "markdown",
   "metadata": {},
   "source": [
    "**1f.** De quel dictionnaire viennent les sens précédents ? Où peut-on le consulter en ligne ?  Veuillez aligner les définitions du dictionnaire avec les six sens annotés en écrivant par exemple `Sense 3 = \"an activity that you enjoy doing or a subject that you enjoy studying\"`."
   ]
  },
  {
   "cell_type": "code",
   "execution_count": 3,
   "metadata": {
    "ExecuteTime": {
     "end_time": "2024-05-23T18:28:56.763655Z",
     "start_time": "2024-05-23T18:28:56.758746Z"
    }
   },
   "outputs": [],
   "source": [
    "# Ils viennent de la version électronique de la première édition du Longman's Dictionary of Contemporary English (LDOCE)\n",
    "# Consultable en ligne ici: https://www.ldoceonline.com/\n",
    "# Sense 1 = \"if you have an interest in something or someone, you want to know or learn more about them\"\n",
    "# Sense 2 = \"a quality or feature of something that attracts your attention or makes you want to know more about it\"\n",
    "# Sense 3 = \"an activity that you enjoy doing or a subject that you enjoy studying\"\n",
    "# Sense 4 = \"the things that bring advantages to someone or something\"\n",
    "# Sense 5 = \"if you have an interest in a particular company or industry, you own shares in it\"\n",
    "# Sense 6 = \"the extra money that you must pay back when you borrow money\""
   ]
  },
  {
   "cell_type": "markdown",
   "metadata": {},
   "source": [
    "**1g.** En consultant [WordNet en ligne](http://wordnetweb.princeton.edu/perl/webwn), trouvez les définitions des synsets  pour le **nom commun** *interest*.  Combien de synsets y a-t-il ?  Veuillez indiquer comme avant la **définition** de chaque synset pour chacun des six sens ci-dessus (au besoin, fusionner ou ignorer des synsets)."
   ]
  },
  {
   "cell_type": "code",
   "execution_count": 4,
   "metadata": {
    "ExecuteTime": {
     "end_time": "2024-05-23T18:28:56.770465Z",
     "start_time": "2024-05-23T18:28:56.764663Z"
    }
   },
   "outputs": [],
   "source": [
    "# Il y a 7 synsets pour le nom commun \"interest\" dans WordNet.\n",
    "# Sense 1 = \"a sense of concern with and curiosity about someone or something\"\n",
    "# Sense 2 = \"the power of attracting or holding one's attention (because it is unusual or exciting etc.)\"\n",
    "# Sense 3 = \"a diversion that occupies one's time and thoughts (usually pleasantly)\"\n",
    "# Sense 4 = \"a reason for wanting something done\"\n",
    "# Sense 5 = \"(law) a right or legal share of something; a financial involvement with something\"\n",
    "# Sense 6 = \"a fixed charge for borrowing money; usually a percentage of the amount borrowed\""
   ]
  },
  {
   "cell_type": "markdown",
   "metadata": {},
   "source": [
    "**1h.** Définissez (manuellement, ou avec quelques lignes de code) une liste nommée `senses1` avec les mots des définitions du README, en supprimant les stopwords (p.ex. les mots < 4 lettres).  Affichez la liste."
   ]
  },
  {
   "cell_type": "code",
   "metadata": {
    "ExecuteTime": {
     "end_time": "2024-05-23T18:29:08.214813Z",
     "start_time": "2024-05-23T18:28:56.771489Z"
    }
   },
   "source": [
    "import nltk\n",
    "from nltk import NaiveBayesClassifier"
   ],
   "outputs": [],
   "execution_count": 5
  },
  {
   "cell_type": "code",
   "metadata": {
    "ExecuteTime": {
     "end_time": "2024-05-23T18:29:08.220609Z",
     "start_time": "2024-05-23T18:29:08.217905Z"
    }
   },
   "source": [
    "from random import randrange"
   ],
   "outputs": [],
   "execution_count": 6
  },
  {
   "cell_type": "code",
   "metadata": {
    "ExecuteTime": {
     "end_time": "2024-05-23T18:29:08.234079Z",
     "start_time": "2024-05-23T18:29:08.221614Z"
    }
   },
   "source": [
    "# Veuillez répondre ici à la question et créer la variable 'senses1' (liste de 6 listes de chaînes).\n",
    "senses1 = [\n",
    "    [\"readiness\", \"give\", \"attention\"],\n",
    "    [\"quality\", \"causing\", \"attention\", \"given\"],\n",
    "    [\"activity\", \"that\", \"gives\", \"attention\"],\n",
    "    [\"advantage\", \"advancement\", \"favor\"],\n",
    "    [\"share\", \"company\", \"business\"],\n",
    "    [\"money\", \"paid\", \"money\"]\n",
    "]\n",
    "\n",
    "print(senses1)"
   ],
   "outputs": [
    {
     "name": "stdout",
     "output_type": "stream",
     "text": [
      "[['readiness', 'give', 'attention'], ['quality', 'causing', 'attention', 'given'], ['activity', 'that', 'gives', 'attention'], ['advantage', 'advancement', 'favor'], ['share', 'company', 'business'], ['money', 'paid', 'money']]\n"
     ]
    }
   ],
   "execution_count": 7
  },
  {
   "cell_type": "markdown",
   "metadata": {},
   "source": [
    "**1i.** En combinant les définitions obtenues aux points (4) et (5) ci-dessus, construisez une liste nommée `senses2` avec pour chacun des sens de *interest* une liste de **mots-clés** correspondants.  Vous pouvez concaténer les définitions, puis écrire des instructions en Python pour extraire les mots (uniques).  Respectez l'ordre des sens données par `README`, et à la fin affichez `senses2`."
   ]
  },
  {
   "cell_type": "code",
   "metadata": {
    "ExecuteTime": {
     "end_time": "2024-05-23T18:29:08.262540Z",
     "start_time": "2024-05-23T18:29:08.236208Z"
    }
   },
   "source": [
    "# Veuillez répondre ici à la question et créer la variable 'senses2' (liste de 6 listes de chaînes).\n",
    "senses_ldce = [\n",
    "    \"if you have an interest in something or someone, you want to know or learn more about them\",\n",
    "    \"a quality or feature of x§something that attracts your attention or makes you want to know more about it\",\n",
    "    \"an activity that you enjoy doing or a subject that you enjoy studying\",\n",
    "    \"the things that bring advantages to someone or something\",\n",
    "    \"if you have an interest in a particular company or industry, you own shares in it\",\n",
    "    \"the extra money that you must pay back when you borrow money\"\n",
    "]\n",
    "\n",
    "senses_wordnet = [\n",
    "    \"a sense of concern with and curiosity about someone or something\",\n",
    "    \"the power of attracting or holding one's attention (because it is unusual or exciting etc.)\",\n",
    "    \"a diversion that occupies one's time and thoughts (usually pleasantly)\",\n",
    "    \"a reason for wanting something done\",\n",
    "    \"(law) a right or legal share of something; a financial involvement with something\",\n",
    "    \"a fixed charge for borrowing money; usually a percentage of the amount borrowed\"\n",
    "]\n",
    "\n",
    "senses2 = []\n",
    "for i in range(min(len(senses_ldce), len(senses_wordnet))):\n",
    "    words = nltk.word_tokenize(senses_ldce[i] + \" \" + senses_wordnet[i])\n",
    "    words = [word for word in words if len(word) > 4]\n",
    "    words = list(set(words))\n",
    "    senses2.append(words)\n",
    "\n",
    "print(senses2)"
   ],
   "outputs": [
    {
     "name": "stdout",
     "output_type": "stream",
     "text": [
      "[['about', 'sense', 'curiosity', 'learn', 'someone', 'concern', 'interest', 'something'], ['x§something', 'quality', 'about', 'because', 'feature', 'attention', 'attracts', 'holding', 'unusual', 'exciting', 'makes', 'attracting', 'power'], ['pleasantly', 'occupies', 'doing', 'studying', 'thoughts', 'usually', 'enjoy', 'activity', 'subject', 'diversion'], ['bring', 'wanting', 'reason', 'someone', 'things', 'something', 'advantages'], ['shares', 'company', 'right', 'industry', 'legal', 'share', 'involvement', 'particular', 'financial', 'interest', 'something'], ['charge', 'amount', 'borrowed', 'borrow', 'percentage', 'usually', 'money', 'fixed', 'borrowing', 'extra']]\n"
     ]
    }
   ],
   "execution_count": 8
  },
  {
   "cell_type": "markdown",
   "metadata": {},
   "source": [
    "**1j.** Chargez les données depuis `interest-original.txt` dans une liste appelée `sentences` qui contient pour chaque phrase la liste des mots (sans les séparateurs *$$* et *===...*).  Ces phrases sont-elles déjà tokenisées en mots ?  Sinon, faites-le.  À ce stade, ne modifiez pas encore les occurrences annotées *interest(s)\\_X*.  Comptez le nombre total de phrases et affichez-en trois au hasard."
   ]
  },
  {
   "cell_type": "code",
   "metadata": {
    "ExecuteTime": {
     "end_time": "2024-05-23T18:29:08.294513Z",
     "start_time": "2024-05-23T18:29:08.263581Z"
    }
   },
   "source": [
    "# Veuillez répondre ici à la question.\n",
    "from nltk.tokenize import RegexpTokenizer \n",
    "\n",
    "#Nous avons retiré la ponctuation et les guillemets qui ne sont pas pertinents pour la désambiguïsation\n",
    "tokenizer = RegexpTokenizer(r\"\\w+(?:'\\w+)?|'\\w+\")\n",
    "sentences: list[list[str]] = []\n",
    "with open(\"./interest-corpus/interest-original.txt\", \"r\") as f:\n",
    "    for line in f:\n",
    "        if not line.startswith(\"$$\"):\n",
    "            words = tokenizer.tokenize(line)\n",
    "            sentences.append(words)\n",
    "        \n",
    "\n",
    "print(\"Il y a {} phrases.\\nEn voici 3 au hasard :\".format(len(sentences)))\n",
    "print(sentences[151:154])\n",
    "# print(sentences[73])"
   ],
   "outputs": [
    {
     "name": "stdout",
     "output_type": "stream",
     "text": [
      "Il y a 2368 phrases.\n",
      "En voici 3 au hasard :\n",
      "[['investor', 'interest_1', 'in', 'stock', 'funds', 'has', \"n't\", 'stalled', 'at', 'all', 'mr', 'hines', 'maintains'], ['it', 'is', 'in', 'the', 'western', 'interest_4', 'to', 'see', 'mr', 'gorbachev', 'succeed'], ['revco', 'insists', 'that', 'the', 'proposal', 'is', 'simply', 'an', 'expression', 'of', 'interest_1', 'because', 'under', 'chapter', '11', 'revco', 'has', 'exclusivity', 'rights', 'until', 'feb', '28']]\n"
     ]
    }
   ],
   "execution_count": 9
  },
  {
   "cell_type": "markdown",
   "metadata": {},
   "source": [
    "## 2. Algorithme de Lesk simplifié\n",
    "\n",
    "**2a.** Définissez une fonction `wsd_lesk(senses, sentence)` qui prend deux arguments : une liste de listes de mots-clés (comme `senses1` et `senses2` ci-dessus) et une phrase avec une occurrence annotée de *interest* ou *interests*, et qui retourne l'index du sens le plus probable (entre 1 et 6) selon l'algorithme de Lesk.  Cet algorithme choisit le sens qui a le maximum de mots en commun avec le contexte de *interest*.  Vous pouvez choisir vous-mêmes la taille de ce voisinage (`window_size`).  En cas d'égalité entre deux sens, tirer la réponse au sort."
   ]
  },
  {
   "cell_type": "code",
   "metadata": {
    "ExecuteTime": {
     "end_time": "2024-05-23T18:29:08.302163Z",
     "start_time": "2024-05-23T18:29:08.295526Z"
    }
   },
   "source": [
    "# Veuillez répondre ici à la question.\n",
    "WINDOW_SIZE = 8\n",
    "\n",
    "def get_neighboring_words(tokenized_sentence, window_size):\n",
    "    target_word_index = None\n",
    "    for i, word in enumerate(tokenized_sentence):\n",
    "        if word.startswith('interest_') or word.startswith('interests_'):\n",
    "            target_word_index = i\n",
    "            break\n",
    "    \n",
    "    if target_word_index is None:\n",
    "        return []  # Si aucun mot ne correspond au critère\n",
    "    \n",
    "    start_index = max(0, target_word_index - window_size)\n",
    "    end_index = min(len(tokenized_sentence), target_word_index + window_size + 1)\n",
    "    return tokenized_sentence[start_index:target_word_index] + tokenized_sentence[target_word_index+1:end_index]\n",
    "\n",
    "def wsd_lesk(senses, sentence):\n",
    "    best_sense = -1\n",
    "    best_overlap = 0\n",
    "    sentence = get_neighboring_words(sentence, WINDOW_SIZE)\n",
    "    \n",
    "    for i, sense in enumerate(senses):\n",
    "        overlap = len(set(sense) & set(sentence))\n",
    "        if overlap > best_overlap:\n",
    "            best_overlap = overlap\n",
    "            best_sense = i\n",
    "            \n",
    "    if best_sense == -1:\n",
    "        #Aucun sens n'a été trouvé. On en sélectionne 1 parmi les 6\n",
    "        return randrange(6) + 1\n",
    "            \n",
    "    best_senses = [i for i, sense in enumerate(senses) if len(set(sense) & set(sentence)) == best_overlap]\n",
    "    \n",
    "    if len(best_senses) > 1:\n",
    "        #Deux ou plusieurs sens ont le même score. On en sélectionne 1 au hasard\n",
    "        best_sense = best_senses[randrange(len(best_senses))]\n",
    "        \n",
    "    return best_sense + 1"
   ],
   "outputs": [],
   "execution_count": 10
  },
  {
   "cell_type": "markdown",
   "metadata": {},
   "source": [
    "**2b.** Définissez maintenant une fonction `evaluate_wsd(fct_name, senses, sentences)` qui prend en paramètre le nom de la méthode de similarité (pour commencer : `wsd_lesk`) ainsi que la liste des mots-clés par sens, et la liste de phrases, et qui retourne le score de la méthode de similarité.  Ce score sera tout simplement le pourcentage de réponses correctes (sens trouvé identique au sens annoté)."
   ]
  },
  {
   "cell_type": "code",
   "metadata": {
    "ExecuteTime": {
     "end_time": "2024-05-23T18:29:08.379545Z",
     "start_time": "2024-05-23T18:29:08.303169Z"
    }
   },
   "source": [
    "# Veuillez répondre ici à la question.\n",
    "import re\n",
    "\n",
    "# Extrait le numéro du sens du mot interest.\n",
    "def extract_sense_number(word_list):\n",
    "    interest_number = None\n",
    "    for word in word_list:\n",
    "        match = re.match(r'interests?_(\\d+)', word)\n",
    "        if match:\n",
    "            interest_number = int(match.group(1))\n",
    "            break\n",
    "    \n",
    "    return interest_number\n",
    "\n",
    "def evaluate_wsd(fct_name, senses, sentences):\n",
    "    correct = 0\n",
    "    for sentence in sentences:\n",
    "        sense = extract_sense_number(sentence)\n",
    "        if fct_name(senses, sentence) == sense:\n",
    "            correct += 1\n",
    "    return correct / len(sentences)\n",
    "\n",
    "print(\"Taille de la fenêtre: \", WINDOW_SIZE)\n",
    "print(\"Score avec sense1: \", evaluate_wsd(wsd_lesk, senses1, sentences))\n",
    "print(\"Score avec sense2: \", evaluate_wsd(wsd_lesk, senses2, sentences))"
   ],
   "outputs": [
    {
     "name": "stdout",
     "output_type": "stream",
     "text": [
      "Taille de la fenêtre:  8\n",
      "Score avec sense1:  0.17567567567567569\n",
      "Score avec sense2:  0.20819256756756757\n"
     ]
    }
   ],
   "execution_count": 11
  },
  {
   "cell_type": "markdown",
   "metadata": {},
   "source": [
    "**2c.** En fixant au mieux la taille de la fenêtre autour de *interest*, quel est le meilleur score de la méthode de Lesk simplifiée ?  Quelle liste de sens conduit à de meilleurs scores, `senses1` ou `senses2` ?"
   ]
  },
  {
   "cell_type": "code",
   "metadata": {
    "ExecuteTime": {
     "end_time": "2024-05-23T18:29:08.383497Z",
     "start_time": "2024-05-23T18:29:08.380625Z"
    }
   },
   "source": [
    "# Veuillez répondre ici à la question.\n",
    "# Le meilleur score obtenu est de l'ordre de 0.222\n",
    "# Le meilleur score est obtenu avec la liste de sense 2, ce qui semble logique étant donné qu'elle est plus fournie. Notons toutefois qu'avec notre implémentation, la taille des fenêtres n'a pas beaucoup d'intérêt à être de petite taille puisqu'elle s'applique par phrase et non pas sur le corpus total. À vrai dire, le problème principal de ce modèle est qu'une grande majorité d'attribution des sens se fait au hasard, ce qui est surtout visible avec sense1 qui a un score de ~1/6. En gardant cette valeur en tête, on peut dire que sense2 est à peine plus performant et que cette méthode n'est pas du tout adaptée à notre contexte."
   ],
   "outputs": [],
   "execution_count": 12
  },
  {
   "cell_type": "markdown",
   "metadata": {},
   "source": [
    "## 3. Utilisation de word2vec pour la similarité contexte vs. synset\n",
    "\n",
    "**3a.** En réutilisant une partie du code de `wsd_lesk`, veuillez maintenant définir une fonction `wsd_word2vec(senses, sentence)` qui choisit le sens en utilisant la similarité **word2vec** étudiée dans le labo précédent. \n",
    "* Vous pouvez chercher dans la [documentation des KeyedVectors](https://radimrehurek.com/gensim/models/keyedvectors.html) comment calculer directement la similarité entre deux listes de mots.\n",
    "* Comme `wsd_lesk`, la nouvelle fonction `wsd_word2vec` prend en argument une liste de listes de mots-clés par sens (comme `senses1` et `senses2` ci-dessus), et une phrase avec une occurrence annotée de *interest* ou *interests*.\n",
    "* La fonction retourne le numéro du sens le plus probable selon la similarité word2vec entre les mots du sens et ceux du voisinage de *interest*.  En cas d'égalité, tirer le sens au sort.\n",
    "* Vous pouvez régler la taille du voisinage (`window_size`) par l'expérimentation.  "
   ]
  },
  {
   "cell_type": "code",
   "metadata": {
    "ExecuteTime": {
     "end_time": "2024-05-23T18:29:24.991075Z",
     "start_time": "2024-05-23T18:29:08.384503Z"
    }
   },
   "source": [
    "import gensim\n",
    "path_to_model = \"./GoogleNews-vectors-negative300.bin\" # à adapter\n",
    "wv_model = gensim.models.KeyedVectors.load_word2vec_format(path_to_model, binary=True)  # C bin format"
   ],
   "outputs": [],
   "execution_count": 13
  },
  {
   "cell_type": "code",
   "metadata": {
    "ExecuteTime": {
     "end_time": "2024-05-23T18:29:25.024936Z",
     "start_time": "2024-05-23T18:29:24.992214Z"
    }
   },
   "source": [
    "# Veuillez répondre ici à la question.\n",
    "WINDOW_SIZE_W2V = 4\n",
    "\n",
    "def wsd_word2vec(senses, sentence):\n",
    "    best_sense = -1\n",
    "    best_similarity = 0\n",
    "    sentence = get_neighboring_words(sentence, WINDOW_SIZE_W2V)\n",
    "    \n",
    "    for i, sense in enumerate(senses):\n",
    "        similarity = wv_model.n_similarity(sense, sentence)\n",
    "        if similarity > best_similarity:\n",
    "            best_similarity = similarity\n",
    "            best_sense = i\n",
    "            \n",
    "    # Le cas où deux sens ont une similarité égale est quasi inexistant. Mais la consigne l'exige, alors voici la gestions dudit cas:        \n",
    "    if best_sense == -1:\n",
    "        #Aucun sens n'a été trouvé. On en sélectionne 1 parmi les 6\n",
    "        return randrange(6) + 1\n",
    "            \n",
    "    best_senses = [i for i, sense in enumerate(senses) if wv_model.n_similarity(sense, sentence) == best_similarity]\n",
    "    \n",
    "    if len(best_senses) > 1:\n",
    "        #Deux ou plusieurs sens ont le même score. On en sélectionne 1 au hasard\n",
    "        best_sense = best_senses[randrange(len(best_senses))]\n",
    "        \n",
    "    return best_sense + 1"
   ],
   "outputs": [],
   "execution_count": 14
  },
  {
   "cell_type": "markdown",
   "metadata": {},
   "source": [
    "**3b.** Appliquez maintenant la même méthode `evaluate_wsd` avec la fonction `wsd_word2vec` (en cherchant une bonne valeur de la taille de la fenêtre) et affichez le score de la similarité word2vec.  Comment se compare-t-il avec le score précédent (Lesk) ?"
   ]
  },
  {
   "cell_type": "code",
   "metadata": {
    "ExecuteTime": {
     "end_time": "2024-05-23T18:29:28.752983Z",
     "start_time": "2024-05-23T18:29:25.027420Z"
    }
   },
   "source": [
    "# Veuillez répondre ici à la question.\n",
    "print(\"Taille de la fenêtre: \", WINDOW_SIZE_W2V)\n",
    "print(\"Score avec sense1: \", evaluate_wsd(wsd_word2vec, senses1, sentences))\n",
    "print(\"Score avec sense2: \", evaluate_wsd(wsd_word2vec, senses2, sentences))\n",
    "\n",
    "# Contraitement au score de Lesk, la taille de la fenêtre est plus significative et le résultat de sense2 diminue au delà de 4 mots voisin. De plus, avec le calcul de similarité, nous ne rencontrons quasi jamais de cas où deux sens ont une similarité égale, annulant ainsi les résultats corrects obtenus uniquement par hasard. \n",
    "# Cette méthode garantit ainsi des résultats plus fiables et plus précis. Nous pouvons mieux statuer sur la réelle performance de ce modèle."
   ],
   "outputs": [
    {
     "name": "stdout",
     "output_type": "stream",
     "text": [
      "Taille de la fenêtre:  4\n",
      "Score avec sense1:  0.28969594594594594\n",
      "Score avec sense2:  0.5502533783783784\n"
     ]
    }
   ],
   "execution_count": 15
  },
  {
   "cell_type": "markdown",
   "metadata": {},
   "source": [
    "## 4. Classification supervisée avec des traits lexicaux\n",
    "Vous entraînerez maintenant des classifieurs pour prédire le sens d'une occurrence dans une phrase.  Le principal défi sera de transformer chaque phrase en un ensemble de traits (attributs, *features*), pour créer les données en vue des expériences de classification.\n",
    "\n",
    "Veuillez utiliser le classifieur `NaiveBayesClassifier` fourni par NLTK.  Le mode d'emploi se trouve dans le [Chapitre 6, sections 1.1-1.3](https://www.nltk.org/book/ch06.html) du livre NLTK.  Consultez-le attentivement pour trouver comment formater les données.  De plus, il faudra séparer les données en sous-ensembles d'entraînement et de test."
   ]
  },
  {
   "cell_type": "markdown",
   "metadata": {},
   "source": [
    "### 4.1. Attributs lexicaux positionnels\n",
    "\n",
    "Dans cette première représentation des attributs, vous les coderez comme `mot-2`, `mot-1`, `mot+1`, `mot+2`, etc. (fenêtre de taille `2*window_size` autour de *interest*) et vous leur donnerez les valeurs des mots observés aux emplacements respectifs, ou `NONE` si la fenêtre dépasse l'étendue de la phrase.  Vous ajouterez un attribut qui est le mot *interest* lui-même, qui peut être au singulier ou au pluriel.  Pour chaque occurrence de *interest*, vous devrez donc créer une représentation formelle, incluant un dictionnaire Python et le numéro du sens :\n",
    "```\n",
    "[{'word-1': 'in', 'word+1': 'rates', 'word-2': 'declines', 'word+2': 'NONE', 'word0': 'interest'}, 6]\n",
    "```\n",
    "Vous regrouperez toutes ces entrées dans une liste totale appelée `items_with_features_A`.  (Le numéro du sens servira à l'entraînement, puis il sera caché à l'évaluation, quand on comparera la prédiction du système au numéro correct.)  \n",
    "\n",
    "**4.1a.** En partant de la liste des phrases appelée `sentences`(préparée plus haut), veuillez générer ici cette liste totale, en vous aidant si nécessaire du livre NLTK."
   ]
  },
  {
   "cell_type": "code",
   "execution_count": 79,
   "metadata": {
    "ExecuteTime": {
     "end_time": "2024-05-23T19:24:45.120788Z",
     "start_time": "2024-05-23T19:24:45.105845Z"
    }
   },
   "outputs": [
    {
     "name": "stdout",
     "output_type": "stream",
     "text": [
      "[{'word-2': 'indicate', 'word-1': 'declining', 'word0': 'interest', 'word+1': 'rates', 'word+2': 'because'}, 6]\n",
      "[[{'word-2': 'be', 'word-1': 'of', 'word0': 'interest', 'word+1': 'to', 'word+2': 'cbs'}, 2], [{'word-2': 'NONE', 'word-1': 'but', 'word0': 'interest', 'word+1': 'instead', 'word+2': 'decreased'}, 1], [{'word-2': 'NONE', 'word-1': 'but', 'word0': 'interest', 'word+1': 'waned', 'word+2': 'as'}, 1]]\n"
     ]
    }
   ],
   "source": [
    "from typing import Iterable\n",
    "WINDOW_SIZE_NLTK = 2\n",
    "items_with_features_A =  []\n",
    "\n",
    "for sentence in sentences:\n",
    "    sentence_feature = [{}, 0]\n",
    "    length = len(sentence)\n",
    "    pos_needle = 0\n",
    "    # find the word's position in each sentence\n",
    "    for i in range(length):\n",
    "        if sentence[i].startswith(\"interest\"):\n",
    "            pos_needle = i\n",
    "            break\n",
    "        \n",
    "    # there are 4 words in the txt that are \"Interest\" but are not tagged. This seems like an error so we ignore them\n",
    "    if not sentence[pos_needle][-1].isdigit():\n",
    "        continue\n",
    "    sense_kind = int(sentence[pos_needle][-1])\n",
    "    sentence_feature[1] = sense_kind\n",
    "    \n",
    "    for pos in range(-WINDOW_SIZE_NLTK, WINDOW_SIZE_NLTK + 1):\n",
    "        word_pos = pos_needle + pos\n",
    "        sign = \"+\" if pos > 0 else \"\"\n",
    "        sentence_feature[0][f\"word{sign}{pos}\"] = \"NONE\" if word_pos < 0 or word_pos >= length else (sentence[word_pos][:-2] if pos == 0 else sentence[word_pos])\n",
    "        \n",
    "    items_with_features_A.append(sentence_feature)\n",
    "        \n",
    "print(items_with_features_A[1])\n",
    "print(items_with_features_A[151:154])"
   ]
  },
  {
   "cell_type": "markdown",
   "metadata": {},
   "source": [
    "**4.1b.** On souhaite maintenant entraîner un classifieur sur une partie des données, et le tester sur une autre.  Vous garderez 80% des données pour l'entraînement et utiliserez les 20% restants pour l'évaluation.  Veuillez faire cette division séparément pour chaque sens, pour que les deux ensembles contiennent les mêmes proportions de sens que l'ensemble de départ (\"stratification\"), et enregistrer les deux sous-ensembles de `items_with_features_A` sous les noms respectifs de `iwf_A_train` et `iwf_A_test`."
   ]
  },
  {
   "cell_type": "code",
   "execution_count": 80,
   "metadata": {
    "ExecuteTime": {
     "end_time": "2024-05-23T19:24:45.497150Z",
     "start_time": "2024-05-23T19:24:45.494143Z"
    }
   },
   "outputs": [],
   "source": [
    "from random import shuffle"
   ]
  },
  {
   "cell_type": "code",
   "execution_count": 89,
   "metadata": {
    "ExecuteTime": {
     "end_time": "2024-05-23T19:41:36.454509Z",
     "start_time": "2024-05-23T19:41:36.448005Z"
    }
   },
   "outputs": [
    {
     "name": "stdout",
     "output_type": "stream",
     "text": [
      "1852   465\n",
      "[[{'word-2': 'to', 'word-1': 'allow', 'word0': 'interest', 'word+1': 'rates', 'word+2': 'to'}, 6], [{'word-2': 'year', 'word-1': 'in', 'word0': 'interest', 'word+1': 'expense', 'word+2': 'NONE'}, 6]] [[{'word-2': 'in', 'word-1': 'national', 'word0': 'interest', 'word+1': 'because', 'word+2': 'both'}, 2], [{'word-2': 'is', 'word-1': 'of', 'word0': 'interest', 'word+1': 'to', 'word+2': 'the'}, 2]]\n",
      "Distribution dans l'ensemble d'entraînement: Counter({6: 988, 5: 385, 1: 284, 4: 135, 3: 52, 2: 8})\n",
      "Distribution dans l'ensemble de test: Counter({6: 247, 5: 97, 1: 71, 4: 34, 3: 13, 2: 3})\n"
     ]
    }
   ],
   "source": [
    "from random import shuffle\n",
    "from collections import defaultdict\n",
    "\n",
    "\n",
    "# Initialisation des listes pour l'entraînement et le test\n",
    "iwf_A_train = []\n",
    "iwf_A_test = []\n",
    "\n",
    "# Création d'un dictionnaire pour stocker les items par sens\n",
    "items_by_sense = defaultdict(list)\n",
    "\n",
    "# Regroupement des items par sens\n",
    "for item in items_with_features_A:\n",
    "    sense = item[1]\n",
    "    items_by_sense[sense].append(item)\n",
    "\n",
    "# Séparation des données en ensembles d'entraînement et de test\n",
    "for sense, items in items_by_sense.items():\n",
    "    shuffle(items)\n",
    "    split_point = int(0.8 * len(items))\n",
    "    iwf_A_train.extend(items[:split_point])\n",
    "    iwf_A_test.extend(items[split_point:])\n",
    "\n",
    "# Affichage des résultats\n",
    "print(len(iwf_A_train), ' ', len(iwf_A_test))\n",
    "print(iwf_A_test[:2], iwf_A_test[-2:])\n",
    "\n",
    "# Vérification des proportions\n",
    "from collections import Counter\n",
    "\n",
    "train_senses = [item[1] for item in iwf_A_train]\n",
    "test_senses = [item[1] for item in iwf_A_test]\n",
    "\n",
    "print(\"Distribution dans l'ensemble d'entraînement:\", Counter(train_senses))\n",
    "print(\"Distribution dans l'ensemble de test:\", Counter(test_senses))"
   ]
  },
  {
   "cell_type": "markdown",
   "metadata": {},
   "source": [
    "**4.1c.** Veuillez créer une instance de `NaiveBayesClassifier`, l'entraîner sur `iwf_A_train` et la tester sur `iwf_A_test` (voir la documentation NLTK).  En expérimentant avec différentes largeurs de fenêtres, quel est le meilleur score global que vous obtenez (avec la fonction `accuracy`), et comment se compare-t-il avec les précédents ?"
   ]
  },
  {
   "cell_type": "code",
   "execution_count": 83,
   "metadata": {
    "ExecuteTime": {
     "end_time": "2024-05-23T19:25:36.148427Z",
     "start_time": "2024-05-23T19:25:36.126572Z"
    }
   },
   "outputs": [
    {
     "name": "stdout",
     "output_type": "stream",
     "text": [
      "Accuracy: 0.8882\n"
     ]
    }
   ],
   "source": [
    "from nltk.classify import naivebayes\n",
    "from nltk.classify.util import accuracy\n",
    "\n",
    "classifier = naivebayes.NaiveBayesClassifier.train(iwf_A_train)\n",
    "test_accuracy = accuracy(classifier, iwf_A_test)\n",
    "print(f\"Accuracy: {test_accuracy:.4f}\")\n",
    " \n",
    "# On a une bien meilleure précisiion qu'auparavant. 0.88 est un bon score.\n",
    "# Avec une taille de 3 mots autour du mot d'intérêt, on a une amélioration de 0.005. C'est parfaitement négligeable.\n",
    "# Avec une taille de 1, on passe à 0.83.\n",
    "# Les valeurs supérieures à trois ne semblent pas non plus avoir des améliorations significatives. Une taille de deux semblent être correctes.\n",
    "\n",
    "\n"
   ]
  },
  {
   "cell_type": "markdown",
   "metadata": {},
   "source": [
    "**4.1d.** En utilisant la fonction `show_most_informative_features()`, veuillez afficher les attributs les plus informatifs et commenter le résultat."
   ]
  },
  {
   "cell_type": "code",
   "execution_count": 91,
   "metadata": {
    "ExecuteTime": {
     "end_time": "2024-05-23T19:54:39.526877Z",
     "start_time": "2024-05-23T19:54:39.523734Z"
    }
   },
   "outputs": [
    {
     "name": "stdout",
     "output_type": "stream",
     "text": [
      "Most Informative Features\n",
      "                  word+1 = 'in'                5 : 6      =     70.9 : 1.0\n",
      "                   word0 = 'interests'         3 : 1      =     63.8 : 1.0\n",
      "                  word-1 = 'other'             3 : 6      =     46.6 : 1.0\n",
      "                  word+1 = 'of'                4 : 6      =     28.6 : 1.0\n",
      "                  word+2 = 'and'               6 : 5      =     24.1 : 1.0\n",
      "                  word+2 = 'on'                6 : 5      =     19.8 : 1.0\n",
      "                  word-1 = 'in'                6 : 5      =     19.1 : 1.0\n",
      "                  word-2 = 'company'           5 : 6      =     16.8 : 1.0\n",
      "                  word-2 = 'NONE'              6 : 4      =     15.8 : 1.0\n",
      "                  word-1 = 'and'               6 : 5      =     15.8 : 1.0\n"
     ]
    }
   ],
   "source": [
    "classifier.show_most_informative_features()\n",
    "\n",
    "# Ce tableau est de la forme suivante : \n",
    "# [feature]  [sense 1 : sense 2] [ratio du sens 1 par rapport au sense 2]\n",
    "# Donc si le ratio du sense 1 par rapport au sense 2 est grand, il a donc plus de chance que si la feature \"word+n\" est \"x\" soit de sense 1 plutôt que de sense 2.\n",
    "\n",
    "# Ce qu'on peut observer de ce tableau:\n",
    "# - Les mots les plus importants sont les mots les plus proches.\n",
    "# - Lorsque \"interest\" est au pluriel, il y a  bien plus de chance que le sense de ce mot soit le troisième que le premier (et tous les autres après analyse du corpus). \n",
    "#   Par contre, au singulier, ce n'est pas le cas.\n",
    "# - Le mot \"in\" est plutôt important pour déterminer le sense\n",
    "\n",
    "\n",
    "\n"
   ]
  },
  {
   "cell_type": "markdown",
   "metadata": {},
   "source": [
    "### 4.2 Présence de mots indicateurs\n",
    "\n",
    "Une deuxième façon d'encoder les attributs lexicaux est de constituer un vocabulaire avec tous les mots qui apparaissent dans tous les voisinages de *interest* et de définir ces mots comme attributs.  Par conséquent, pour chaque occurrence de *interest*, on extrait la valeur de ces attributs sous la forme :\n",
    "```\n",
    "[{('rate' : True), ('in' : False), ...}, 1]\n",
    "```\n",
    "où *'rate'*, *'in'*, etc., sont les mots du vocabulaire, True/False indiquent leur présence/absence autour de l'occurrence de *interest* qui nous intéresse, et le dernier nombre est le sens, entre 1 et 6.\n",
    "\n",
    "**4.2a.** Pour commencer, en partant de `sentences` et en fixant la taille de la fenêtre, veuillez constituer la liste de tous les mots observés autour de tous les voisinages de toutes les occurrences de *interest*."
   ]
  },
  {
   "cell_type": "code",
   "execution_count": 131,
   "metadata": {
    "ExecuteTime": {
     "end_time": "2024-05-23T20:35:46.524691Z",
     "start_time": "2024-05-23T20:35:46.511574Z"
    }
   },
   "outputs": [
    {
     "name": "stdout",
     "output_type": "stream",
     "text": [
      "9449\n",
      "['declines', 'in', 'rates', 'indicate', 'declining', 'rates', 'because', 'short', 'term', 'rates', '83', '4', 'in', 'this', 'company', 'with', 'in', 'the', 'refunded', 'plus', 'set', 'the', 'rate', 'on', \"'s\", 'own', 'prompted', 'the', 'principal', 'and', 'is', 'the', 'increase', 'its', 'to', '70', 'the', 'strong', 'of', 'japanese', 'early', 'if', 'rates', 'decline', 'drop', 'in', 'rates', 'since', 'drop', 'in']\n"
     ]
    }
   ],
   "source": [
    "from collections import defaultdict\n",
    "WINDOW_SIZE_NLTK_2 = 2\n",
    "word_list = []\n",
    "\n",
    "for sentence in sentences:\n",
    "    for i, word in enumerate(sentence):\n",
    "        if word.startswith(\"interest\"):\n",
    "            start_index = max(0, i - WINDOW_SIZE_NLTK_2)\n",
    "            end_index = min(len(sentence), i + WINDOW_SIZE_NLTK_2 + 1)\n",
    "            context_words = sentence[start_index:i] + sentence[i+1:end_index]\n",
    "            word_list.extend(context_words)\n",
    "\n",
    "print(len(word_list))\n",
    "print(word_list[:50])"
   ]
  },
  {
   "cell_type": "markdown",
   "metadata": {},
   "source": [
    "**4.2b.** En utilisant par exemple un objet de type `nltk.FreqDist`, veuillez sélectioner les 500 mots les plus fréquents (vous pourrez aussi optimiser ce nombre), dans une liste appelée `vocabulary`.  À votre avis, est-ce une bonne idée d'enlever les *stopwords* de cette liste pour construire les traits ?"
   ]
  },
  {
   "cell_type": "code",
   "execution_count": 145,
   "metadata": {
    "ExecuteTime": {
     "end_time": "2024-05-23T20:36:25.503080Z",
     "start_time": "2024-05-23T20:36:25.495774Z"
    }
   },
   "outputs": [
    {
     "name": "stdout",
     "output_type": "stream",
     "text": [
      "[('in', 722), ('rates', 638), ('the', 459), ('and', 309), ('of', 281), ('to', 231), ('a', 167), ('on', 156), ('rate', 155), ('short', 108), ('its', 106), ('payments', 106), (\"'s\", 105), ('an', 84), ('lower', 74), ('with', 72), ('has', 68), ('that', 68), ('for', 66), ('by', 58), ('is', 56), ('high', 54), ('are', 53), ('annual', 51), ('term', 50), ('u', 50), ('from', 50), ('will', 47), ('foreign', 45), ('have', 45), ('minority', 44), ('or', 43), ('their', 43), ('income', 43), ('higher', 42), ('at', 40), ('s', 39), ('as', 38), ('below', 37), ('other', 36), ('net', 35), ('buying', 35), ('bonds', 34), ('pay', 33), ('which', 31), ('accrued', 28), ('current', 28), ('investor', 27), ('plus', 26), ('but', 25)]\n"
     ]
    }
   ],
   "source": [
    "# Veuillez répondre ici à la question.\n",
    "vocabulary = nltk.FreqDist(word_list).most_common(800)\n",
    "print(vocabulary[:50])\n",
    "\n",
    "# Ce n'est pas une bonne idée car les stopword peuvent changer le sense du mot interest.\n",
    "# Exemple en français mais peut s'appliquer ici aussi : \"une équivalence\" pourrait désigner la reconnaissance d'un diplôme étranger. Ce sens est possible grâce aux déterminants qui seraient, en temps normal, considérés comme un stop word \n"
   ]
  },
  {
   "cell_type": "markdown",
   "metadata": {},
   "source": [
    "**4.2c.** Veuillez maintenant créer l'ensemble total de données formatées, en convertissant chaque phrase contenant une occurrence de *interest* à un dictionnaire de traits/valeurs (suivi du numéro du sens), comme exemplifié au début de cette section 4.2.  Cet ensemble sera appelé `items_with_features_B`."
   ]
  },
  {
   "cell_type": "code",
   "execution_count": 146,
   "metadata": {
    "ExecuteTime": {
     "end_time": "2024-05-23T20:36:26.099103Z",
     "start_time": "2024-05-23T20:36:25.820440Z"
    }
   },
   "outputs": [
    {
     "name": "stdout",
     "output_type": "stream",
     "text": [
      "2317\n"
     ]
    }
   ],
   "source": [
    "items_with_features_B = []\n",
    "# [{('rate' : True), ('in' : False), ...}, 1]\n",
    "# Veuillez répondre ici à la question.\n",
    "for sentence in sentences:\n",
    "    sentence_feature = [{}, 0]\n",
    "    length = len(sentence)\n",
    "    pos_needle = 0\n",
    "    # find the word's position in each sentence\n",
    "    for i in range(length):\n",
    "        if sentence[i].startswith(\"interest\"):\n",
    "            pos_needle = i\n",
    "            break\n",
    "\n",
    "    # there are 4 words in the txt that are \"Interest\" but are not tagged. This seems like an error so we ignore them\n",
    "    if not sentence[pos_needle][-1].isdigit():\n",
    "        continue\n",
    "        \n",
    "    sense_kind = int(sentence[pos_needle][-1])\n",
    "    sentence_feature[1] = sense_kind\n",
    "\n",
    "    lower = max(0, pos_needle - WINDOW_SIZE_NLTK)\n",
    "    upper = min(length - 1, pos_needle + WINDOW_SIZE_NLTK)\n",
    "\n",
    "    bordering_words = sentence[lower:upper + 1]\n",
    "\n",
    "    for word, _ in vocabulary:\n",
    "        sentence_feature[0][word] = word in bordering_words\n",
    "    \n",
    "    items_with_features_B.append(sentence_feature)\n",
    "print(len(items_with_features_B))"
   ]
  },
  {
   "cell_type": "markdown",
   "metadata": {},
   "source": [
    "**4.2d.** Comme dans la section 4.1, veuillez créer maintenant deux sous-ensembles de `items_with_features_B` appelés `iwf_B_train` (80% des items) et `iwf_B_test` (20% des items), avec une sélection aléatoire mais stratifiée."
   ]
  },
  {
   "cell_type": "code",
   "execution_count": 147,
   "metadata": {
    "ExecuteTime": {
     "end_time": "2024-05-23T20:36:26.614233Z",
     "start_time": "2024-05-23T20:36:26.589547Z"
    }
   },
   "outputs": [
    {
     "name": "stdout",
     "output_type": "stream",
     "text": [
      "1852   465\n"
     ]
    }
   ],
   "source": [
    "from random import shuffle\n",
    "from collections import defaultdict\n",
    "\n",
    "\n",
    "# Initialisation des listes pour l'entraînement et le test\n",
    "iwf_B_train = []\n",
    "iwf_B_test = []\n",
    "\n",
    "# Création d'un dictionnaire pour stocker les items par sens\n",
    "items_by_sense = defaultdict(list)\n",
    "\n",
    "# Regroupement des items par sens\n",
    "for item in items_with_features_B:\n",
    "    sense = item[1]\n",
    "    items_by_sense[sense].append(item)\n",
    "\n",
    "# Séparation des données en ensembles d'entraînement et de test\n",
    "for sense, items in items_by_sense.items():\n",
    "    shuffle(items)\n",
    "    split_point = int(0.8 * len(items))\n",
    "    iwf_B_train.extend(items[:split_point])\n",
    "    iwf_B_test.extend(items[split_point:])\n",
    "\n",
    "print(len(iwf_B_train), ' ', len(iwf_B_test))"
   ]
  },
  {
   "cell_type": "markdown",
   "metadata": {},
   "source": [
    "**4.2e.** Comme dans la section 4.1, veuillez créer une instance de `NaiveBayesClassifier`, l'entraîner sur `iwf_B_train` et la tester sur `iwf_B_test`.  En expérimentant avec différentes largeurs de fenêtres et tailles du vocabulaire, quel est le meilleur score que vous obtenez, et comment se compare-t-il avec les précédents ?"
   ]
  },
  {
   "cell_type": "code",
   "execution_count": 148,
   "metadata": {
    "ExecuteTime": {
     "end_time": "2024-05-23T20:36:29.404036Z",
     "start_time": "2024-05-23T20:36:27.436266Z"
    }
   },
   "outputs": [
    {
     "name": "stdout",
     "output_type": "stream",
     "text": [
      "Accuracy: 0.9032\n"
     ]
    }
   ],
   "source": [
    "classifier = naivebayes.NaiveBayesClassifier.train(iwf_B_train)\n",
    "test_accuracy = accuracy(classifier, iwf_B_test)\n",
    "print(f\"Accuracy: {test_accuracy:.4f}\")\n"
   ]
  },
  {
   "cell_type": "markdown",
   "metadata": {},
   "source": [
    "**4.2f.** Quels sont les attributs les plus informatifs ?"
   ]
  },
  {
   "cell_type": "code",
   "execution_count": 149,
   "metadata": {
    "ExecuteTime": {
     "end_time": "2024-05-23T20:36:33.602686Z",
     "start_time": "2024-05-23T20:36:33.592479Z"
    }
   },
   "outputs": [
    {
     "name": "stdout",
     "output_type": "stream",
     "text": [
      "Most Informative Features\n",
      "                    home = True                2 : 6      =    109.9 : 1.0\n",
      "                business = True                3 : 6      =     93.3 : 1.0\n",
      "                    some = True                2 : 6      =     65.9 : 1.0\n",
      "                 because = True                2 : 5      =     42.9 : 1.0\n",
      "                    both = True                2 : 5      =     42.9 : 1.0\n",
      "                 general = True                2 : 5      =     42.9 : 1.0\n",
      "                   other = True                3 : 1      =     41.9 : 1.0\n",
      "                      be = True                2 : 1      =     31.7 : 1.0\n",
      "              especially = True                2 : 1      =     31.7 : 1.0\n",
      "                national = True                2 : 1      =     31.7 : 1.0\n",
      "                     can = True                3 : 6      =     31.1 : 1.0\n",
      "                     our = True                3 : 6      =     31.1 : 1.0\n",
      "                      on = True                6 : 5      =     27.7 : 1.0\n",
      "                      to = True                2 : 1      =     24.6 : 1.0\n",
      "                 capital = True                3 : 6      =     18.7 : 1.0\n",
      "                  exempt = True                3 : 6      =     18.7 : 1.0\n",
      "                    like = True                3 : 6      =     18.7 : 1.0\n",
      "                    move = True                3 : 6      =     18.7 : 1.0\n",
      "                research = True                3 : 6      =     18.7 : 1.0\n",
      "                    from = True                2 : 5      =     18.4 : 1.0\n"
     ]
    }
   ],
   "source": [
    "classifier.show_most_informative_features(20)"
   ]
  },
  {
   "cell_type": "markdown",
   "metadata": {},
   "source": [
    "## 5. Conclusion\n",
    "\n",
    "Veuillez recopier ci-dessous, en guise de conclusion, les scores des quatre expériences réalisées, pour pouvoir les comparer d'un coup d'oeil.  Quel est le meilleur score obtenu?"
   ]
  },
  {
   "cell_type": "code",
   "execution_count": null,
   "metadata": {},
   "outputs": [],
   "source": []
  },
  {
   "cell_type": "markdown",
   "metadata": {},
   "source": [
    "## Fin du laboratoire\n",
    "\n",
    "Merci de nettoyer votre feuille, sauvegarder le résultat, et soumettre le *notebook* sur Cyberlearn."
   ]
  },
  {
   "cell_type": "code",
   "execution_count": null,
   "metadata": {},
   "outputs": [],
   "source": []
  }
 ],
 "metadata": {
  "kernelspec": {
   "display_name": "Python 3 (ipykernel)",
   "language": "python",
   "name": "python3"
  },
  "language_info": {
   "codemirror_mode": {
    "name": "ipython",
    "version": 3
   },
   "file_extension": ".py",
   "mimetype": "text/x-python",
   "name": "python",
   "nbconvert_exporter": "python",
   "pygments_lexer": "ipython3",
   "version": "3.10.13"
  }
 },
 "nbformat": 4,
 "nbformat_minor": 4
}
