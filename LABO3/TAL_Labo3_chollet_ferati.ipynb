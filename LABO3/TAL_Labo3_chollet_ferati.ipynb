{
 "cells": [
  {
   "cell_type": "markdown",
   "metadata": {},
   "source": [
    "<img src=\"https://heig-vd.ch/docs/default-source/doc-global-newsletter/2020-slim.svg\" alt=\"HEIG-VD Logo\" width=\"100\" align=\"right\" /> \n",
    "\n",
    "# Cours TAL - Laboratoire 3<br/>*Depedency parser* pour le français dans spaCy\n",
    "\n",
    "**Objectif**\n",
    "\n",
    "Évaluer l'analyseur syntaxique en dépendances fourni par spaCy dans le modèle `fr_core_news_sm`, puis le comparer avec un analyseur entraîné par vous-mêmes.  Les données sont les mêmes qu'au Labo 2 et la démarche du labo est similaire aussi."
   ]
  },
  {
   "cell_type": "markdown",
   "metadata": {},
   "source": [
    "## 1. Prise en main de l'analyseur de spaCy"
   ]
  },
  {
   "cell_type": "code",
   "execution_count": 1,
   "metadata": {
    "ExecuteTime": {
     "end_time": "2024-04-05T12:20:51.967341600Z",
     "start_time": "2024-04-05T12:20:45.314274700Z"
    }
   },
   "outputs": [],
   "source": [
    "import spacy\n",
    "nlp = spacy.load(\"fr_core_news_sm\") # charge la pipeline"
   ]
  },
  {
   "cell_type": "markdown",
   "metadata": {},
   "source": [
    "**1a.** Pour la pipeline `fr_core_news_sm`, veuillez afficher les traitements disponibles, puis désactiver tous les traitements sauf `tok2vec`, `morphologizer` et `parser`, puis vérifiez que la désactivation a bien fonctionné."
   ]
  },
  {
   "cell_type": "code",
   "execution_count": 2,
   "metadata": {
    "ExecuteTime": {
     "end_time": "2024-04-05T12:21:49.439700900Z",
     "start_time": "2024-04-05T12:21:49.398976100Z"
    }
   },
   "outputs": [
    {
     "name": "stdout",
     "output_type": "stream",
     "text": [
      "Traitements disponibles : tok2vec,morphologizer,parser,attribute_ruler,lemmatizer,ner\n",
      "Traitements disponibles : tok2vec,morphologizer,parser\n"
     ]
    }
   ],
   "source": [
    "# Veuillez écrire votre code ici.\n",
    "print(\"Traitements disponibles : \" + \",\".join(nlp.pipe_names))\n",
    "nlp.disable_pipes(\"attribute_ruler\", \"lemmatizer\", \"ner\")\n",
    "print(\"Traitements disponibles : \" + \",\".join(nlp.pipe_names))"
   ]
  },
  {
   "cell_type": "code",
   "execution_count": 3,
   "metadata": {
    "ExecuteTime": {
     "end_time": "2024-04-05T12:22:10.690904500Z",
     "start_time": "2024-04-05T12:22:10.668308900Z"
    }
   },
   "outputs": [],
   "source": [
    "from spacy.lang.fr.examples import sentences\n",
    "s1 = sentences[2] # prenons la 3e phrase comme exemple"
   ]
  },
  {
   "cell_type": "markdown",
   "metadata": {},
   "source": [
    "**1b.** Veuillez analyser `s1` avec la pipeline `nlp` puis afficher chaque token, son POS tag, et son étiquette indiquant la relation de dépendance (entre crochets, après le token).  Quelle information essentielle manque dans cette représentation ?\n",
    "\n",
    "Note : le *morphologizer* fournit aussi les POS tags.  La liste des tags possibles est [fournie par spaCy](https://spacy.io/models/fr#fr_core_news_md-labels).  "
   ]
  },
  {
   "cell_type": "code",
   "execution_count": 12,
   "metadata": {
    "ExecuteTime": {
     "end_time": "2024-04-05T12:31:09.553162400Z",
     "start_time": "2024-04-05T12:31:09.501050400Z"
    }
   },
   "outputs": [
    {
     "name": "stdout",
     "output_type": "stream",
     "text": [
      "San [DET] [det]\n",
      "Francisco [PROPN] [nsubj]\n",
      "envisage [VERB] [ROOT]\n",
      "d' [ADP] [case]\n",
      "interdire [NOUN] [xcomp]\n",
      "les [DET] [det]\n",
      "robots [NOUN] [obj]\n",
      "coursiers [ADJ] [amod]\n",
      "sur [ADP] [case]\n",
      "les [DET] [det]\n",
      "trottoirs [NOUN] [obl:mod]\n"
     ]
    }
   ],
   "source": [
    "# Veuillez écrire votre code ici.\n",
    "doc = nlp(s1)\n",
    "for token in doc:\n",
    "    print(f\"{token} [{token.pos_}] [{token.dep_}]\")\n",
    "    \n",
    "# Quelle information essentielle manque dans cette représentation ?\n",
    "# On ne voit pas le sens de la dépendance. On ne voit pas où est la tête et quel est le mot dépendant."
   ]
  },
  {
   "cell_type": "markdown",
   "metadata": {},
   "source": [
    "**1c.** Veuillez afficher tous les groupes de mots qui sont soit des `nsubj` soit des `obj` dans la phrase `s1` (c'est à dire les sujets et les objets du verbe).   Indication : le sous-arbre d'un token *t* est accessible comme `t.subtree`. "
   ]
  },
  {
   "cell_type": "code",
   "execution_count": 13,
   "metadata": {
    "ExecuteTime": {
     "end_time": "2024-04-05T12:42:07.703331800Z",
     "start_time": "2024-04-05T12:42:07.683071300Z"
    }
   },
   "outputs": [
    {
     "name": "stdout",
     "output_type": "stream",
     "text": [
      "San Francisco\n",
      "les robots coursiers\n"
     ]
    }
   ],
   "source": [
    "# Veuillez écrire votre code ici.\n",
    "for token in doc:\n",
    "    if token.dep_ in [\"nsubj\", \"obj\"]:\n",
    "        print(\" \".join([t.text for t in token.subtree]))"
   ]
  },
  {
   "cell_type": "markdown",
   "metadata": {},
   "source": [
    "## 2. Évaluation quantitative de l'analyseur sur une phrase \n",
    "\n",
    "Les données sont les mêmes que celles du Labo 2.  Vous les avez déjà transformées au Labo 2 dans un format utilisable par spaCy, dans un dossier nommé `Labo2/spacy_data` que vous allez réutiliser.  Les trois fichiers contiennent des phrases en français annotées aussi avec les arbres de dépendance.  Le fichier `fr-ud-train.conllu` est destiné à l'entraînement, `fr-ud-dev.conllu` au réglage des paramètres, et `fr-ud-test.conllu` à l'évaluation finale.\n",
    "\n",
    "**2a.** En inspectant un des fichiers d'origine avec un éditeur texte, veuillez indiquer dans quelles colonnes se trouvent les informations sur les relations de dépendance, et comment elles sont représentées."
   ]
  },
  {
   "cell_type": "code",
   "execution_count": null,
   "metadata": {},
   "outputs": [],
   "source": [
    "# Veuillez écrire votre réponse dans cette cellule.\n",
    "# Les relations de dépendance sont dans la 8e colonne (en comptant la première donnant le numéro de ligne du paragraphe). Elles sont représentées par du texte indiquant la nature du token."
   ]
  },
  {
   "cell_type": "code",
   "execution_count": 14,
   "metadata": {
    "ExecuteTime": {
     "end_time": "2024-04-05T12:56:26.185578200Z",
     "start_time": "2024-04-05T12:56:26.023576300Z"
    }
   },
   "outputs": [
    {
     "name": "stdout",
     "output_type": "stream",
     "text": [
      "Je sens qu'entre ça et les films de médecins et scientifiques fous que nous avons déjà vus, nous pourrions emprunter un autre chemin pour l'origine.\n",
      "On pourra toujours parler à propos d'Averroès de \"décentrement dele Sujet\".\n",
      "« Il a été largement démontré que la population civile dele territoire non autonome dele Sahara occidental est l'objet de diverses atteintes àles droits humains, comme la détention arbitraire, les coups et les tortures », écrit l'ONG internationale, implantée dans 35 pays, citée par l'agence de presse sahraouie.\n",
      "1er : début de la présidence lituanienne de l'Organisation pour la Sécurité et la Coopération en Europe (OSCE) (jusqu'àle 31 décembre), avant l'Irlande (2012) et l'Ukraine (2013).\n",
      "Et pourtant, lors de sa première visite en Afrique subsaharienne, l'été 2007, il montre les dents dans un discours humiliant pour les Africains, prononcé à l'Université Cheikh Anta Diop de Dakar.\n",
      "Les spéculations autour dele match sont à leur paroxysme.\n",
      "Ils ne citent pas son nom, parce que depuis les institutions on n'attaque pas un membre de la famille royale, mais c'est à lui qu'ils s'en prennent.\n",
      "Il y en a qui croient toujours qu'ils peuvent jouir de la vie en toute tranquillité de conscience et commettre telle ou telle indélicatesse, telle ou telle grossièreté, en toute sécurité, parce que leur coeur serait comme les montres : 100% Waterproof.\n",
      "Son discours, inspiré d'une pensée dele Moyen-âge, a trouvé preneur.\n",
      "Pour lui, je crois vraiment que l'essentiel est ailleurs, dans cette contribution à la déstabilisation de l'autorité spirituelle dele pape que vous évoquez.\n",
      "Est-ce le fait dele hasard ou d'une malédiction que toute la zone comprise entre le Soudan et la Mauritanie soit instable ?\n",
      "Maintenant, avec un peu de bonne volonté vous observerez que l'on peut être traditionaliste ET intégriste, mais que les intégristes n'ont pas le monopole dele traditionalisme, et réciproquement.\n",
      "Royale donc, cette voie de communication est aussi vouée à être préservée, développée et modernisée.\n",
      "Pour pouvoir mener à bien sa politique dictatoriale, le régime marocain a besoin de stabilité interne pour affronter les \"risques externes\" engendrés par le conflit dele Sahara Occidental.\n",
      "Belle, grande, claire, séduisante à souhait, elle est pourtant déjà à la retraite.\n",
      "Et si officiellement le Maroc n'a pas de relations diplomatiques « ouvertes » avec Israël, cela n'a jamais empêché des ministres de se rendre àle royaume chérifien.\n",
      "Trois ans plus tard, il tient un discours sur la crise.\n",
      "Je suis déchirée.\n",
      "Selon lui, cette période sera mise à profit pour étudier les conséquences de l'accord sur les ressources de poisson, \"ainsi que l'impact régional\" deles fonds versés par l'Union européenne, sur la base notamment deles informations fournies par les autorités marocaines.\n",
      "Le 20 juin, le Secrétaire général de l'Elysée Claude Guéant a été reçu à Alger par le président Bouteflika et le Premier ministre Ahmed Ouyahia.\n",
      "Ce qui transparaît dans tous ces textes est l'espoir et les rêves d'un peuple et de ses enfants.\n",
      "En ce sens, la mort de Mouammar el-Kadhafi ouvre une période d'irakisation ou de somalisation de la Libye.\n",
      "promulgation de loi « anti-hérétiques ».\n",
      "Ne pas rester seul ou en couple dans une zone isolée.\n",
      "Autant dire dans un désert médiatique pour la mort d'un poète.\n",
      "Les lendemains de lynchage sont pleins d'incertitudes.\n",
      "Pour cela, ils affirment que le premier mandat de Wade ne rentre pas sous le nouveau texte constitutionnel et, pour autant, ne compte pas dans l'application de la nouvelle loi.\n",
      "N'hésitez-pas à la faire circuler largement autour de vous !\n",
      "Il y a un an naissait Gdem Izik.\n",
      "iii) La taxe foncière ;\n",
      "Il est 20h45 en territoire algérien.\n",
      "Car le gouvernement marocain regrette le temps béni où la manne financière apportée par les touristes algériens qui affluaient par centaines de milliers faisait vivre toute cette région et bien au-delà.\n",
      "Le royaume s'est amélioré, mais pas dans le sens voulu par l'UE.\n",
      "Même si la DGSE (Direction générale de la sécurité extérieure), est en quête de « bons intermédiaires » pour « négocier ».\n",
      "Son destin est-il la Poussière ?\n",
      "C'est un sourire de Dieu.\n",
      "Comme dans toutes les campagnes présidentielles, celui qui imprimera sa marque, fixera l'agenda, sera le probable vainqueur en mai.\n",
      "Combien de fois ne célébrons-nous que nous-mêmes, et ne prenons-nous même pas conscience de sa présence ?\n",
      "Tout cela est présent dans sa passion.\n",
      "Plus, l'AQMI tente de nouer des rapports avec les mouvements subversifs dans le delta dele Nigéria, autant qu'avec des sectes d'inspiration religieuse àle nord dele pays.\n",
      "àle regard dele droit international, la question dele Sahara Occidental est très claire.\n",
      "La justice française n'a fait qu'obéir et se déjuger.\n",
      "En effet, la contre attaque a été massive et a touché pas moins de 174 sites appartenant pour la plupart àle gouvernement et à des entreprises dele royaume marocain.\n",
      "Personne ne place aucune forme d'espérance dans la raison politique...\n",
      "Mais la réalité est que la Mauritanie n'est pas le Maroc ou l'Algérie.\n",
      "En Arabie, on a l'impression que le fondamentalisme a toujours été là, qu'il se maintient et n'aura aucun mal à perdurer.\n",
      "Y a-t-il un risque de voir les choses tourner mal en Syrie ?\n",
      "C'est simple, il y a de tout.\n",
      "Renommée par Warner France sous le nom de \"La Ligue deles Justiciers : La Nouvelle Génération\", les 8 premiers épisodes de la série animée seront disponibles dès le 30 novembre prochain.\n",
      "Lors du dernier rapport publié par le ministère de l'écologie, il s'avère que l'état de nos cours d'eau ne soit pas si brillant que ça.\n",
      "Retenu àle « Forum » de la Berlinale, Territoire perdu s'inscrit pleinement dans l'esprit de cette section « expérimentale, avantgardiste et politiquement engagée ».\n",
      "Arrêtez la lecture, si cela vous suffit pour aujourd'hui.\n",
      "Elle était dans la petite cour dele garage, capot ouvert.\n",
      "19h15.\n",
      "Les jeunes sahraouis participant à cette université ont lancé un appel à tous les acteurs politiques, dans la scène régionale et internationale, à se mobiliser pour défendre les droits sahraouis, notamment dans la région colonisée et mettre un terme à toutes les violations exercées contre le droit dele peuple sahraouie à l'autodétermination, exhortant les Nations unies à organiser un référendum d'autodétermination libre et à mettre un terme à la dilapidation, par le Maroc, deles richesses naturelles dele Sahara Occidental.\n",
      "Il se passe de commentaires : « Je comprends très bien votre préoccupation par rapport à ma participation à la rencontre d'Assise.\n",
      "Dans les sixties, ce n'était pas comme aujourd'hui.\n",
      "Sidi M'hamed Deddeche et Amgid Sidi Ahmed, deux activistes pacifistes deles territoires occupés comme Mme Haïder, s'étaient-ils fait arrêter mercredi dernier à l'entrée de Smara, la capitale spirituelle dele Sahara occidental, parce qu'ils étaient des séquestrés qui s'étaient évadés deles camps de Tindouf, sans documents de voyage ?\n",
      "A chaque fois qu'il sent la pression, le Makhzen appelle quelqu'un à son secours.\n",
      "Les observateurs espagnols, Carlos Sanchez et Mar Figueras, ont été arrêtés.\n",
      "Qui a donné l'exemple ?\n",
      "La version 2010 intègre ainsi une case \"RSA\", car si le Revenu de solidarité active est bien exonéré d'impôt sur le revenu, le montant versé àle titre d'un complément d'activité doit être déduit de la prime pour l'emploi (PPE).\n",
      "N'étant pas préparés pour recevoir plus de dix quinze mille personnes, les autorités, qui font tout ce qu'elles peuvent pour nourrir ce flux ininterrompu, craignent que la situation ne dégénère si l'aide internationale ne pointe pas plus vite le bout de son nez.\n",
      "Ces sympathisants de différentes nationalités (Italiens, Espagnols, Britanniques, Allemands, Argentins, Norvégiens, Cubains, Sud-Africains, Vénézuéliens, etc.)\n",
      "C'est à Dakhla, où ceux qui font office de « colons » se sont permis de les traiter en tant qu'« indigènes », en les agressant à propos d'un match de football maroco-sahraoui, que des affrontements ont eu lieu.\n",
      "Ont également assisté à cette occasion, des représentants dele corps diplomatique accrédité en Algérie, notamment d'Afrique dele sud, de Cuba, dele Venezuela, d'Angola et dele Congo.\n",
      "Attention : même la conversion n'est pas un changement total, encore moins un reniement de ce que nous avons été.\n",
      "Et cet homme d'affaires particulier est partout, il contrôle la plus grande banque dele pays, il contrôle l'un deles trois opérateurs télécoms, il est actif dans le business dele sucre, de l'énergie, il contrôle les centrales laitières et il est associé àle groupe Danone.\n",
      "Vous m'accusez de \"subjectivisme\".\n",
      "De nombreux Marocains le pensent en n'hésitant pas à l'accuser, en tant que premier opérateur dele pays, d'abandonner des pans entiers de l'économie marocaine entre les mains deles réseaux affairistes et deles milieux de la corruption et à grossir les rangs deles mécontents.\n",
      "Mgr Velasio de Paolis n'est pas là pour aggraver une situation déjà très lourde.\n",
      "Dès lors que le peuple décide de regagner sa liberté il devient instantanément et de facto, libre.\n",
      "Que dit l'Eglise sur ce point délicat ?\n",
      "Mais elle guette, oui, elle guette.\n",
      "En nous livrant les clefs de l'histoire de ce projet industriel, il nous invite à tirer les leçons dele passé pour mieux appréhender les perspectives énergétiques dele Maghreb aujourd'hui.\n",
      "En application de ce principe, les articles 166 et 167 dele Code Général deles Impôts français (CGI) fixent les règles d'imposition en cas de transfert de domicile entre la France et l'étranger.\n",
      "Consacrant, lui, l'essentiel de son temps et de son énérgie exclusivement àles grands chantiers économiques destinés à procurer du travail àles jeunes générations.\n",
      "Après avoir examiné l'état deles relations bilatérales, les deux chefs d'Etat ont réitéré leur volonté d'œuvrer à leur renforcement et à leur diversification.\n",
      "C'est de cette façon que des conditions socio-économiques radicalement nouvelles (néolibéralisme) ont été imposées durant les années 1980 à 1990.\n",
      "Je me demande s'il y a une loi chez nous qui peut condamner des citoyens pour des rêves illégaux ?\n",
      "Tout en estimant que « le Maroc est sous protectorat français », àle vu deles aides militaires de cette puissance àle colonialisme marocain, il a rappelé la position de la France àle Conseil de sécurité de l'ONU, en opposant son Veto à l'élargissement deles missions de la Minurso pour englober la surveillance et le contrôle deles droits de l'homme dans les territoires sahraouis.\n",
      "Faire une part à l'éblouissement, savoir se lâcher dans l'admiration de ce qui n'est pas soi, céder à ce savoir immédiat dele beau et dele bien qui nous transporte, voilà le lyrisme.\n",
      "c'est-à-dire--poursuit-il son argument--, \" avant, le Maroc pensait que les indépendantistes étaient tout àle mieux un 5%, les militants, mais quand on nous a vus tous unis, main dans la main, on n'en revenait pas ;\n",
      "Selon ce discours--maintenant bien rodé--, avec la mort d'Hassan II et l'arrivée àle pouvoir de Mohammed VI, les choses auraient évolué àle Maroc.\n",
      "Pour rappel, le Sahara Occidental a été envahi par le Maroc en 1975 et 1979 suite àle retrait espagnol dele territoire.\n",
      "Toutefois, dans des camps de réfugiés, la cause politique importe plus que la cause humaine.\n",
      "Il me l'a dit à la Haye ».\n",
      "Le président de l'Égypte, Hosni Moubarak, éprouve, selon un diplomate basé àle Caire « une haine viscérale pour la République islamique ».\n",
      "L'acteur espagnol Alex Angulo a attribué \"La Camella blanca\" àles réalisateurs dele film, qui ont souligné que ce travail leur a permis d'observer l'état de l'esprit \"courageux, pacifique, mais aussi combatif\" dele peuple sahraoui.\n",
      "Tenue trois mois après la précédente réunion informelle de la Valette (Malte), cette nouvelle rencontre se déroule sous les auspices de l'envoyé personnel dele secrétaire général deles Nations unies pour le Sahara occidental, M. Christopher Ross, en présence deles délégations deles deux parties et des représentants deles deux pays observateurs, l'Algérie et la Mauritanie.\n",
      "Le ras-le-bol fut général, la mobilisation inédite.\n",
      "A aucun moment, dele jour ou de la nuit s'il le faut.\n",
      "Il a en outre exprimé la volonté de son pays de renforcer et consolider les relations bilatérales entre les deux pays dans l'avenir.\n",
      "Pour rappel, l'Opep dele gaz ou Forum deles pays exportateurs de gaz (FPEG) est né à Oran, en avril 2010.\n",
      "N'hésitez pas à m'envoyer actualités et libres tribunes à l'adresse suivante : criticusleblog@gmail.com.\n",
      "Jusqu'à quand la France officielle maintiendra-t-elle sa préférence pour la protection deles agresseurs deles droits de l'homme ?\n",
      "Il n'y en a point.\n",
      "M. Ross réussira-t-il à faire valoir le droit international dans ces négociations, Rabat bénéficiant dele soutien, entre autres, d'un membre permanent dele Conseil de sécurité de l'ONU, la France en l'occurrence.\n",
      "Quand vous avez l'opportunité de camper un personnage plusieurs fois, vous développez une relation très profonde avec lui.\n",
      "La préfecture de Police de Paris déconseille àles automobilistes de se déplacer.\n",
      "Ce résultat provient à hauteur de 18,5 ME de la progression de la rentabilité de l'habitat de loisirs qui dégage une marge opérationnelle de 9,5% contre 8,5% l'année passée.\n",
      "Moi plus je vois des vidéos de ce jeu, plus je me dis que Battlefield 3 sera THE GAME pour les vrais soldats qui en ont dans le slip.\n",
      "La gestion et l'exploitation de la salle de concert Wagram, récemment rénovée, sera assurée par Eurosites, leader en France de la location de salles.\n",
      "Maintenant, si des supporters veulent aider le club àle travers d'une souscription pour faire revenir Djibril à l'AJA, qu'ils nous le fassent savoir. \"\n",
      "Elle se remarie et un autre fils va naître, Serge.\n",
      "Outre ses aspects fantasy dans un environnement moderne et actuel, la plupart deles jeunes personnages de l'intrigue sont représentés en kemonomimi, soit avec des oreilles et des queues de chat, Ces attributs physiques marquent le jeune âge, mais aussi l'innocence et la virginité ;\n",
      "À l'aide de leurs résultats, ils en viennent à la conclusion que si les 32 États qui n'avaient pas une limite de 80 mg/100 ml le 1er janvier 2000 avaient adopté une telle politique, 947 vies auraient été sauvées.\n",
      "Créé en 1999, le show \"Mamma Mia !\"\n",
      "dele Vatican, dont le voile posé sur la vie privée dele Cavaliere ne tient plus.\n",
      "Le message, bien que feutré, est clair : « nous vous avons accueilli longtemps, il est temps de nous rendre nos bienfaits ».\n",
      "Après-midi libre de détente (piscine).\n",
      "Des visites commentées permettront àle public de découvrir les collections, avec aussi différentes animations.\n",
      "Selon lui, l'approche Eclipse, créé pour lutter contre les gangs de rue en 2006, est inutile.\n",
      "Mais nous ne bougeront pas tant que nos revendications n'auront pas été acceptées \", a assuré l'un d'eux.\n",
      "Après M. Karoubi, bloqué chez lui depuis jeudi par la police, c'est M. Moussavi qui a vu lundi matin son domicile encerclé et ses téléphones coupés, selon son site internet.\n",
      "Un timbre a été émis en Israël pour marquer le 150e anniversaire de la naissance de Théodore Herzl, journaliste, écrivain et fondateur dele mouvement sioniste, le 2 mai 1860 à Budapest.\n",
      "àle sein de cette équipe professionnelle, chacun est important et a son rôle à jouer pour contribuer àle rayonnement de la ville de Bayonne et de la culture basque.\n",
      "L'Inter, champion d'Europe en titre, est logiquement favori contre Schalke 04 et son effectif plus limité, chez lui, en match aller deles quarts de finale de la Ligue deles champions, mais déplore quelques blessures, àle corps comme à l'âme.\n",
      "Quatre jours plus tard, ceux-ci pourront se retrouver à l'occasion de la finale dele 200m (9 août).\n",
      "Chaque grande entreprise possède son centre de téléphonistes, ce qui équivaut àle Québec à des milliers de centres d'appels.\n",
      "Prenant la parole, Charles Mwando Nsimba a sollicité un délai supplémentaire avant de répondre àles préoccupations soulevées, estimant que des éléments nouveaux y avaient été introduits.\n",
      "Ce mercredi soir, il s'est installé dans un logement situé à TriBeCa, un quartier dele sud-ouest de Manhattan.\n",
      "Depuis le début de l'affaire, la candidate à la primaire dele PS, en congé de ses fonctions de première secrétaire dele parti, louvoie pourtant entre soutien et prise de distance (lire la synthèse sur le sujet : \"Affaire DSK : comment la position d'Aubry a évolué\").\n",
      "Cette élection \"n'est pas seulement la plus disputée depuis l'indépendance, elle est aussi la plus stimulante, avec les citoyens + Facebookant et Tweetant + avec passion, tout en participant en nombre record àles meetings traditionnels\", écrit samedi le Straits Times, principal quotidien dele pays, considéré comme favorable àle PAP.\n",
      "Odeurs, saveurs, couleurs... tout se mélange pour le plus grand plaisir deles gourmands et amateurs de produits de qualité.\n",
      "Il faut savoir que les appareils de la dernière génération exposent la couche supérieure de la main à 40°C et que les couches plus profondes atteindront la température de 60°C, il est donc normal de ressentir un peu de douleur.\n",
      "Sean David Morton qui se fait appeler \"le prophète de l'Amérique\", a levé six millions de dollars en faisant croire àles investisseurs qu'il pouvait prédire l'évolution de la Bourse !\n",
      "De quoi inciter à une certaine prudence.\n",
      "L'excédent brut d'exploitation atteint 47,4 millions d'euros, en rebond de 6,7%, et le résultat opérationnel courant affiche une hausse de 3,8%, à 29,8 millions d'euros.\n",
      "Pour autant, nous avions tranché.\n",
      "Sa moyenne de 0,54 but par match est la meilleure parmi les joueurs ayant disputé àle moins 20 matches cette saison, a indiqué la MLS.\n",
      "L'attaquant dele Bayern Munich demande aussi, et surtout, que le livre soit retiré de la vente.\n",
      "Troisième temps, Andrea Dovizioso (Honda) s'en est approché (2:00.531), comme Ben Spies et Jorge Lorenzo, tous deux sur Yamaha M1 et distancés de moins de 8/10e de seconde dele leader.\n",
      "En tous cas, la réorientation dele géant deles réseaux IP ne constitue pas une bonne nouvelle pour les adeptes dele Wimax, qui perdent de plus en plus pied face àle LTE.\n",
      "Il y a un personnage très absent tout àle long dele roman, le \"peuple\".\n",
      "Retrouver notre inspiration.\n",
      "Si Moody's estime que leur note ne devrait pas baisser de plus d'un cran, la situation n'est pas la même pour la Société Générale, dont la dégradation pourrait atteindre deux crans.\n",
      "Nombre d'investisseurs qui, auparavant, voyaient d'un mauvais œil l'accumulation de liquidités par les entreprises reconnaissent maintenant les avantages de la constitution de réserves de liquidités importantes.\n",
      "Ca énerve beaucoup de personnes, mais pour l'utilisateur final, c'est rassurant dans 80% deles cas.\n",
      "C'est un caillou blanc.\n",
      "Ainsi, ces cadres, de par leur clarté et leur crédibilité, ont accru la portée deles actions de la Banque.\n",
      "Il s'agit deles importateurs utilisés par le Comité Fal pour établir le baromètre dele passage àle port.\n",
      "On s'était dit : \"Quand on aura un premier pas de fait, on s'éclatera un peu plus\", a expliqué Véronique.\n",
      "Il faut toutefois noter qu'il est alors de bon ton pour tout homme jouissant d'une aisance financière, de posséder une ou plusieurs maîtresses.\n",
      "Qu'est-ce que 1.000 emplois quand on en détruit et qu'on en créé 20.000 tous les jours en France ?\n",
      "De 10h à 12h et 14h à 17h office de tourisme.\n",
      "En 2004, a-t-il indiqué, nous avons appliqué ce concept en Afrique après avoir constaté le caractère désastreux dele système d'éclairage àle kérosène.\n",
      "Ce dimanche 30, à Pleumeur-Bodou, sur le site de Cosmopolis.\n",
      "Là, on saura qui est le coupable et qui est la victime », a prévenu le patron de la FAF.\n",
      "Comment repoussez vous les bateaux d'immigrés dans les eaux internationales ?\n",
      "Le Football Atlantique Rochelais (FAR) organise aujourd'hui un tournoi réunissant les moins de 15 ans deles centres de formation.\n",
      "Ce sera l'ultime étape de coupe de France pour les catégories espoirs, la revanche deles championnats de France chez les vétérans, de plus en plus motivés par la compétition et quelques jours plus tard l'incontournable épreuve internationale qui cette année se déroulera en open.\n",
      "Lourdement endetté (160 milliards d'euros fin 2010), le Portugal a fini l'année 2010 en récession avec un déficit public à 9,1% dele PIB et un chômage à plus de 11%.\n",
      "Certes la France peut se consoler avec les piètres performances de son voisin italien, une deles lanternes noires de l'Europe sur le classement dele Wef (74e).\n",
      "La Nouvelle-Zélande a remporté la deuxième Coupe dele Monde de rugby de son histoire, 24 ans après son premier sacre en 1987, en battant le XV de France 8 à 7 (mi-temps : 5-0) en finale dimanche à l'Eden Park d'Auckland.\n",
      "Elle a affirmé l'obligation de faire \"un match parfait pour se qualifier\".\n",
      "De son côté, l'agence de sûreté nucléaire japonaise n'a pas relevé le classement de l'accident de la centrale de Fukushima àle niveau 6.\n",
      "Comme chaque soir à 18h40, il tranche, malmène et détourne l'actualité.\n",
      "Côté organisation, la municipalité va apporter son soutien logistique àle président de la Boule Canéjanaise, Richard Juzanx, tandis que les 80 bénévoles canéjanais sont en plein dans les préparatifs et s'apprêtent à vivre un moment exceptionnel dans l'histoire dele club.\n",
      "Même dele fond de l'enfer, Dany Laferrière reste un réaliste heureux.\n",
      "Faut-il éviter de se rendre dans les pays dele sous-continent indien ?\n",
      "Celle-ci a également perdu dele terrain sur l'euro, l'EUR/GBP prenant 0.27% pour se hisser à 0.8647.\n",
      "\" J'ai senti, àle cours de mon déplacement à Prague, que les Tchèques étaient probablement les plus ouverts.\n",
      "Fini les vacances pour le jeune Pascal Haupais qui fait sa rentrée en classe de CM1.\n",
      "Plus de 20 personnes ont en outre été blessées, dont une grièvement, lors d'affrontements survenus dans des villages chiites deles environs de la capitale, Manama, selon ces témoins.\n",
      "Puis, à l'école, deux autres délégués sont intervenus pour parler àles élèves mais aussi parents.\n",
      "Sur place vente de livres consacrés à Jean Ferrat\n",
      "En tout, ce sont près d'une centaine de conteneurs qui ont été utilisés pour créer ces logements étudiants.\n",
      "Le ton a d'ailleurs été donné hier par le général Michel Aoun àle cours de sa conférence de presse hebdomadaire après la réunion dele bloc parlementaire dele Changement et de la Réforme, lorsqu'il a affirmé que nul n'a parlé de démission.\n",
      "De plus, on pourra aussi trouver une nouveauté avec le Salon dele jeu en bois.\n",
      "À son bord, deux frères de 25 et 23 ans demeurant à Bourg-Argental (Loire).\n",
      "Ça va forcément me rappeler des souvenirs.\n",
      "Grâce à une plate-forme logicielle intégrée àles capacités reconnues dans la gestion deles emails et la fusion entrant/sortant, les équipes marketing accroissent rapidement leur efficacité et leur impact sur le chiffre d'affaires.\n",
      "Chaque site propose des coupons de réductions (avec des réductions allant de 50 à 90% en moyenne) sur plusieurs sortes d'activité.\n",
      "M. Di Rupo, dont le parti avait remporté les élections de juin en Wallonie francophone, a émis l'espoir lundi \"que la raison finira par l'emporter\".\n",
      "Les problèmes deles Etats très endettés sont bien réels, mais ils se limitent selon nous àles frontières de l'Europe, et concernent moins le reste dele monde. \"\n",
      "\"C'est la panique totale sur le marché, et la chute dele cours suit le risque souverain\", explique Nuria Alvarez, analyste chez Renta 4.\n",
      "Quel est le coût d'un tel projet ?\n",
      "Cette loi, qui contrôle l'établissement de nouvelles unités de production ou l'agrandissement deles sites existants, a ainsi fait tomber le seuil de 250 UA à 75 UA.\n",
      "Pour souligner les 35 ans dele Théâtre dele Trillium, la directrice artistique Anne-Marie White a décidé de faire éclater le quatrième mur entre les artistes et le public.\n",
      "Mardi midi, l'automobiliste était toujours en garde à vue.\n",
      "En d'autres mots, la pandémie a été un peu moins mortelle que les pires saisons grippales.\n",
      "Cependant, vous êtes invités à respecter un certain nombre de critères.\n",
      "On a le droit \"d'être contre\".\n",
      "Selon People, la jeune femme a très rapidement engagé un avocat très en vue de Las Vegas pour assurer sa défense.\n",
      "« Les changements d'horaire, c'est plutôt une bonne chose pour moi, je gagne deux minutes sur mon temps d'attente, sourit-elle.\n",
      "Annoncé hier matin--dans les colonnes de L'Indépendant--comme un postulant sérieux à la succession de Franck Azéma qui s'apprête à rejoindre Clermont àle terme de l'exercice actuel, il souligne dans un premier temps : \" Il y a bien de la fumée, mais c'est sans feu !\n",
      "Envoyez le mot \"DARGAUD\" suivi de vos coordonnées àle 6 20 30 (0.35 cts d'euro + coût dele SMS) et répondez àle quiz.\n",
      "Barack Obama s'est baigné samedi dans une station balnéaire de Floride affirmant que toutes les plages dele golfe dele Mexique sont praticables et essayant de montrer l'exemple après la marée noire provoquée par BP.\n",
      "Peut-être serait-il plus libérateur de crier bien fort : OUACHE !...\n",
      "Une marge nette d'intérêts solide et le contrôle deles coûts ont permis àle groupe, malgré la crise, de faire croître son bénéfice net de 0,7% en 2009 à 8,943 milliards d'euros, malgré 9,484 milliards de provisions pour créances douteuses.\n",
      "200 vols ont été annulés samedi, et ce malgré la déclaration dele porte-parole de la compagnie àle premier jour de la gréve.\n",
      "« Il n'y a pas de problème de banlieue et la banlieue, je ne sais pas ce que c'est », n'a cessé de répéter cet animateur passé par Radio Nova.\n",
      "Chicago (41-41) coiffe ainsi àle poteau Toronto (40-42), dont la victoire à New York (131-113) n'a servi à rien.\n",
      "Et côté coloration, Miss France n'est pas à son coup d'essai.\n",
      "Hormis ce professeur d'anglais, àle lycée, qui, quand elle le voyait sourire, pensait qu'il se moquait d'elle.\n",
      "Pendant que le Chef d'Etat Major Soumaila Bagayoko fustigeait le comportement deles éléments incontrôlés deles Frci dans le camp de la Garde Républicaine de Treichville, le jeudi dernier, Huit (8) militaires armés jusqu'àles dents attaquaient un bureau de change appartenant à notre compatriote Sacko Souleymane, à quelques centaines de mètres de là.\n",
      "« Oui on le sait, mais je dirai qu'il la faut.\n",
      "La 18e édition deles Victoires de la musique classique se tient cette année à Nantes.\n",
      "-Le tout saupoudré d'un niveau gustatif plus que moyen En gros, je ne saurai que déconseiller en tout cas pour plus de 5 personnes !\n",
      "A 5 minutes à pieds dele métro.\n",
      "Accueil amical de Benoit qui propose de très bonnes tapas et des plats à tendance hispanique accompagnés de vins espagnols, le tout sans chichis et à des prix très doux.\n",
      "Allez-y.\n",
      "Alors je retournes souvent àle Campuchea, son hote est toujours là pour vous aider à trouver votre bonheur, la cuisine est vraiment excellente et vous passez toujours un bon moment, essayez et vous y retournerez...\n",
      "Anjou Sol'Art, est une entreprise dont les compétences en matière de solaire et solaire photovoltaïque ne sont plus à prouver.\n",
      "Après quelques séances de massage, je suis bien relaxé et surtout je n'ai plus mal à mon poignet anciennement foulé.\n",
      "àle menu, en entrée, du pas grand chose, avec beaucoup de salade autour, et une giclée de vinaigre balsamique.\n",
      "àle sortir d'une séance de cinéma, nous avons découvert dans un quartier vivant, une adresse à retenir.\n",
      "Aussitôt après le dessert on nous passe la serpillère entre les jambes, pour nous faire comprendre qu'il était temps de quitter l'endroit.\n",
      "Avec plus de 40000 références, on est assuré d'une livraison rapide dans toute la France.\n",
      "Bon, allez, je suis connue pour être pinailleuse et difficile alors\n",
      "Bonjour, Nous avons fait l'acquisition d'un O'Hara modèle 2010.\n",
      "Boutique bobo chic mais il manque l'essentiel : le professionnalisme !\n",
      "Bref, la rue deles maréchaux de nancy vous permettra sans doute de trouver bien mieux !\n",
      "Bref, à déconseiller !\n",
      "Bémol : le refus deles cartes de paiement !\n",
      "C'est l'adresse de l'hôtel de ville de Faches Thumesnil\n",
      "C'est tellement rare de pouvoir dîner àle coin dele feu !\n",
      "C'est un lieu incontournable, car il permet de sentir la vie d'une famille qui respirait la sainteté.\n",
      "Cà oui, on peut dire que c'était à la fois futuriste et romantique, comme diner avec ma moitié.\n",
      "Car l'on peut trouver très aisément des préservatifs usagés sur les matelas.\n",
      "Cela fait 10 ans que je fais du déplacement professionnel et c'est la 1ère fois que je tombe sur un hôtel aussi pourri.\n",
      "Cette école est très bien sérieuse et aide beaucoup\n",
      "Elles donnent à toucher, fabriquer, débattre, inventer, grâce à un matériel pédagogique spécifique.\n",
      "Emplacement génial pour qui veut aller chercher quelqu'un à la Gare !\n",
      "En 2 séances (maillot et aisselles) je vois déjà la différence.\n",
      "En espérant que ce genre de salon sérieux et pro survivra face àles autres qui fleurissent à chaque coin de rue en cette période.\n",
      "En plus il est gentil, à l'écoute et on voit qu'il aime vraiment les animaux.\n",
      "Enfin, arrive la douloureuse qui est parfaitement justifiée par la qualité deles prestations servies.\n",
      "Enfin un bar à Paris où l'on peut trouver du mezcal et des bières mexicaines qui ne sont pas hors de prix.\n",
      "Et la qualité dele service est trés trés trés... bonne.\n",
      "Et un jacuzzi minuscule.\n",
      "Fini les plats décevants !\n",
      "Génial, et en plus c'est rapide.\n",
      "Ici c'est très professionnelle.\n",
      "Il sont formés à vous arnaquer.\n",
      "Il vaut mieux réserver car ce petit coin de Naples est bien connu.\n",
      "Il y a même un café avec des pingouins !\n",
      "Ils enregistrent ma demande d'annulation, et communiquent l'annulation à leur fournisseur.\n",
      "Ils m'ont dit que c'est un système de sécurité quand tu tournes le volant àle maximum.... N'importe quoi... Par contre, ils sont excellent pour 'bullshitter'.\n",
      "Ils ont réalisé un excellent travail\n",
      "Ils sont sur Cherbourg depuis 2007.\n",
      "J'y vais très souvent, car comme on dit on change pas une équipe qui gagne.\n",
      "J'adore la bouffe et le style.\n",
      "J'ai donc choisi de ne faire qu'une coupe + balayage.\n",
      "J'ai installé une chaudière à condensation dans ma maison, initialement chauffée par des radiateurs électriques.\n",
      "J'ai rencontré par hasard Lionel en cherchant sur Google un coiffeur à domicile... le hasard fait bien les choses !\n",
      "J'y suis allé 2 fois à une semaine d'intervalle et je n'ai pas été déçu.\n",
      "Je recommande vivement ce magasin à tous ceux qui veulent faire de réelles économies !\n",
      "Je suis élève de Sreemati depuis 5 ans, et dès qu'elle m'a parlé d'ouvrir un centre consacré àle Yoga authentique et àles techniques corporelles (ayurvéda, rdanse indienne, kalaripayat), j'ai voulu l'aider.\n",
      "Je veux bien que cela soit une chambre économique (50 euro la nuitée tout de même) mais je pense que les économies ne doivent pas être faites sur l'hygiène (l'aspirateur n'avait même pas été passé derrière la porte.\n",
      "La carte regorge de trésors tant en crêpes qu'en galettes.\n",
      "La différence entre les grandes et les petites doivent être d'environs 2cm de plus sur le diamètre, ce qui ne vaut pas les 2 € plus cher d'ailleurs.\n",
      "La paroisse Marie-Reine-des-Coeurs est située àle : 5905, rue Turenne Montréal (Québec) H1M 1N4\n",
      "Le cadre est très joli, mais l'ambiance n'est pas à la hauteur de celle d'un Pub anglais, par manque de musique adaptée.\n",
      "Le patron semble avoir à cœur de ne pas négliger les plats àle profit deles vins.\n",
      "Le signe qui ne trompe pas, ce midi là... les clients à table n'étaient que des habitués, et la salle était pleine.\n",
      "Les patientes habituées savent qu'il a beaucoup de retard et prennent leurs precautions.\n",
      "Les prix sont abordables pour la qualité deles produits et le service en salle.\n",
      "Les prix sont beaucoup plus élevés que dans d'autres boutiques mais c'est la seule ouverte le lundi.\n",
      "Les terrains de tennis ferment à 18h !\n",
      "Leur chocolat chaud est divin !\n",
      "Madame Tellier est une excellente comptable que je recommande vivement !\n",
      "Magasin de chaussures pour enfants/adolescents très convivial.\n",
      "Mais à souligner que jamais la musique ne prend le pas sur nos conversations.\n",
      "Merci beaucoup à lui !\n",
      "Nos plats étaient globalement bons (saumon vapeur/tagliatelles et filet de rouget) mais restaient simples dans la présentation et le raffinement.\n",
      "Notre expérience dans le domaine dele destockage vous assure la réalisation de vos invendus dans les meilleures conditions financières tout en préservant votre image et votre réseau de distribution.\n",
      "Nous avons dépensé avec ma femme 145 € pour une entrée, un plat et un dessert (sans alcool) !\n",
      "Nous avons pris possesion de 2 chambres cabines ayant les toilettes en commun : poussière et saleté étaient àle rendez-vous !\n",
      "On y retourne cet été !\n",
      "Par contre, si vous êtes nombreux passez votre chemin c'est relativement étroit !\n",
      "Par contre l'accueil est impeccable et très chaleureux, la propreté parfaite et le petit jardin très reposant...\n",
      "Petits coups de vin à boire àle verre, pour 2-4 €, bière dele Montblanc accompagne un repas succulent qui se déguste aussi à la carte.\n",
      "Pour couronner le tout, les personnes de la réception ne sont pas aimable, ni compétent... je dirais même totalement antipathiques.\n",
      "Pour la première fois, j'avais besoin d'une paire de lunette et j'ai été ainsi que mon ami ravi de trouver dans une seule et même boutique des montures tendance dans les plus grandes marque ou de petits créateurs moins connu mais très fashion et aussi pour mon ami quelque chose d'un peu plus classique.\n",
      "Pour terminer ils disent qu'ils ont internet gratuit, mais il ne marche pratiquement jamais.\n",
      "Produits super sympa et qui rendent bien sur mon mur.\n",
      "Ps : l'année prochaine on y retourne d'office....\n",
      "Qu'on se le dise !\n",
      "Que rechercher de plus lorsqu'on a paisiblement séjourné dans une chambre aussi confortable et bien décorée... !\n",
      "Que ce soit à titre professionnel (pour ma société) ou à titre personnel pour moi, je vais chez Bureau Vallée Toulouse Montaudran.\n",
      "Si vous avez le malheur d'y déjeuner lorsque les patrons sont absents vous aurez droit àle pire dele pire.\n",
      "Si vous souhaitez régaler \"vos papilles\" n'hésitez surtout pas !\n",
      "Son dirigeant est disponible et à l'écoute de ses clients.\n",
      "Temps d'attente un peu long mais peut-être qu'avec les nouveaux travaux cela va s'arranger\n",
      "Trop cher, il y a des pizzeria meilleure et moins cher ;)\n",
      "Un endroit simple, propre et bien entretenu, une équipe sympa, un cocktail idéal pour des vacances en famille.\n",
      "Voila, j'espère que ce commentaire pourra prouver un peu que Mendes est un lycée où on travaille, où on apprend mais surtout un lycée où on découvre.\n",
      "Vous repartirez très déçu...\n",
      "j'ai appelé, croyant dans ma grande naîveté qu'un service serait proposé.\n",
      "j'ai eu besoin de faire rénover mes serrures à la fois à titre particulier et professionel, et \"Actif Dépannage\" a, dans les deux cas été à la hauteur.\n",
      "je ne vais rien oublier de cette soirée àle MH.\n",
      "plus de 80 euros 2 menus à pas cher deux kirs une bouteille.\n",
      "pour mettre àles normes l'installation électrique de mon appart, j'ai fait appel à eux car les avis semblaient bons.\n",
      "très bon accueil les chambres sont très agréables et spacieuses bon rapport qualité prix\n",
      "un café 17 euros !\n",
      "Ça donne le goût d'avoir une \"bedaine\"..\n",
      "Il a notamment gagné une étape dele Tour d'Italie 2010, une étape dele Tour d'Espagne 2008 et terminé troisième de Gand-Wevelgem la même année.\n",
      "Les autres principaux représentants de ce mouvement sont Guido Gozzano et Aldo Palazzeschi.\n",
      "Bud Collyer est un acteur américain né le 18 juin 1908 à New York, New York (États-Unis), décédé le 8 septembre 1969 à Greenwich (Connecticut).\n",
      "La colonisation d'un territoire immense à partir deles côtes explique également cette structure : c'est bien sûr le cas deles États-Unis d'Amérique, mais aussi dele Brésil et de l'Australie.\n",
      "RADSL signifie « Rate-Adaptive Digital Subscriber Line » soit en français : « ligne d'abonné numérique à débit adaptable ».\n",
      "Dans cette même perspective et pour accélérer la diffusion deles connaissances dans le pays, les pouvoirs publics ivoiriens ont introduit dans les années 70 la télévision éducative dans l'enseignement primaire.\n",
      "Les produits échangés sont essentiellement du sel, de l'ambre, de l'huile, des céréales, du vin et de la viande salée.\n",
      "Cet article décrit les critères administratifs pour qu'une otite consécutive à un barotraumatisme soit reconnue comme maladie professionnelle en France.\n",
      "Cela fut nécessaire jusqu'à l'arrivée de l'Open Firmware.\n",
      "Le 6 mai 2011, il met un terme à sa carrière sportive.\n",
      "Aller dans ce restaurant est tout simplement un grand plaisir !\n",
      "Chen Xitong (né en juin 1930 dans le disctict d'Anyue, Sichuan--) est un homme politique de la République populaire de Chine, qui fut l'un deles hauts dirigeants dele Parti communiste chinois avant de connaître la disgrâce, et fut maire de Pékin de 1983 à 1993.\n",
      "Vedel fut consulté à de nombreuses reprises par des gouvernements français (de la IV et de la V) de toute obédience ainsi que par un certain nombre de gouvernements étrangers.\n",
      "Un taux de zéro n'exclut pas des changements importants dans la distribution deles âges et/ou dans les taux de natalité, d'immigration ou de mortalité.\n",
      "Les étoiles fixes reposaient sur la sphère la plus extérieure, dite « sphère deles fixes ».\n",
      "On décide d'abandonner les matériaux coûteux, comme le magnésium qui est devenu introuvable.\n",
      "La station a été lancée le 7 septembre 1986 àle canal 49, et a été déplacée àle canal 34 en 2001 afin d'agrandir son territoire.\n",
      "Elle a été impliquée dans plusieurs accidents aériens.\n",
      "Il s'agit donc d'un thyréophore basal, proche de l'ancêtre commun àles stégosauriens et ankylosauriens.\n",
      "La ligne Wallace, qui passe entre les îles de Bornéo et Sulawesi, et entre celles de Bali et Lombok, sépare ces deux écozones.\n",
      "Un homme avec un téléphone sans fil à la main est entré et il m'a demandé : « qu'est ce que tu as ? ».\n",
      "Eglise Saint Denis (XIIIe, XIVe, XVIe, XVIIIe siècles).\n",
      "Latour se tourne ensuite vers des travaux plus théoriques et programmatiques.\n",
      "Tam joue depuis la saison 2007-2008 avec les Remparts de Québec de la Ligue de hockey junior majeur dele Québec.\n",
      "L'association deles producteurs de fruits de Saverne et environs organise un cours de taille d'arbres fruitiers et d'ornement.\n",
      "Si l'organisation est libre, Mgr Lebrun insiste sur « deux piliers : la prière avec la Parole et la charité ».\n",
      "On peut arriver à Verrès aussi par la route nationale 26 de la Vallée d'Aoste (dele col dele Petit-Saint-Bernard).\n",
      "Si, ce qui est probable, le Premier ministre grec va àle bout de sa décision et que ses compatriotes rejettent le plan de sauvetage financier européen, la sortie de leur pays de la zone Euro en sera inéluctable et, par effet induit, l'éclatement de celle-ci.\n",
      "Le conseil général dele Haut-Rhin lui a confié la réalisation de sa signalisation.\n",
      "Simon Kessler (né le 14 mars 1975 à Johannesburg) est un coureur cycliste professionnel sud-africain.\n",
      "\"St. Anger\" est le premier single dele 8ème album studio de Metallica dele même nom.\n",
      "Idem pour l'achèvement de l'autoroute Est-Ouest qui relie la frontière dele Maroc à celle de la Tunisie.\n",
      "àle milieu dele VIIIe siècle, un prédicateur de Bassora, Abdullah bin Yahya, parvient en Hadramaout, établit le rite Ibadhi.\n",
      "Pour Pokémon, il en faut exactement 60.\n",
      "Son coût (en investissements seulement) est chiffré à 21,4 milliards d'euros par M. Blanc.\n",
      "Retrouvez également des sondages, des vidéos et photos de vos people préférés.\n",
      "La pratique combinée de ces trois points a pour effet de diminuer l'emprise deles cinq kleśa (afflictions).\n",
      "La pièce est retirée de l'affiche après 17 représentations (1935).\n",
      "En demi-finale, le Japonais Hidetoshi Nakata marque le seul but dele match contre l'Australie sur un coup franc deles 18 mètres tiré à raz de terre.\n",
      "Il écrit des articles libéraux en faveur de Lafayette, notamment dans la Revue américaine (1826-1827) et la Revue encyclopédique (février 1830).\n",
      "Les armes de Grenoble sont d'or àles trois roses de gueules.\n",
      "Les pierres de calcaire de la Champagne mancelle et les roches granitiques très dures, un peu rougeâtres, deles environs (grès roussard) fournissent le matériau nécessaire à la construction, lui donnant une teinte sombre qui ajoute à l'austérité dele lieu.\n",
      "En 1945, le destroyer de l'US Navy USS O'Hare (DD-889) fut baptisé en son honneur.\n",
      "Il devient joueur autonome à l'automne.\n",
      "Saint Agile de Rebais, ou saint Aile, a été le premier abbé de Rebais, àle diocèse de Meaux.\n",
      "Le Marché commun dele Golfe, devant déboucher vers la mise en place d'une monnaie commune, connaît aujourd'hui des retards en raison, entre autres deles divergences nées entre Ryadh et Abou Dhabi, principalement àle sujet dele siège de la future Banque centrale.\n",
      "Ainsi, bien que TiVo réponde àles clauses de la GPL 2 en redistribuant le code source modifié, aucune modification de ce code source ne peut fonctionner sur le matériel distribué par TiVo.\n",
      "En 1784 il fut anobli et s'appela désormais « von Auenbrugg ».\n",
      "Ainsi, le général français Philippe Morillon, qui commandait les forces de l'ONU sur place, accuse :.\n",
      "Le village de Saint-Léonard n'est desservie que par des voies communales depuis Avilly, Courteuil (RD 924) et Saint-Nicolas-d'Acy (RD 924).\n",
      "Il a aussi écrit en vers le Tiếng địch sông Ô (Le son d'une flute sur la Rivière Ô), une tragédie qui s'est jouée en deux fois : la première fois en deux soirées 4 et 5 mai 1946 àle Théâtre municipal de Hà Nội et les deux autres soirées, 23 et 24 mai 1940 àle Théâtre provincial de Hà Tĩnh.\n",
      "La première version de ce jeu, Crown 602 fabriquée par Taito, est apparue àle Japon en 1965.\n",
      "Il est fortement bridé sur la version routière, de façon à ne pas afficher de performances beaucoup plus flatteuses que celles de la M3 CSL.\n",
      "Il est souvent victime de petites arnaques de la part de l'équipe et chaque fois qu'ils veulent éviter de payer leur addition.\n",
      "Son seul souvenir, c'est cette mélodie envoutante, jouée sur cette scène.\n",
      "Conséquence : la moitié deles entreprises ayant obtenu un prêt ont dû apporter une garantie, et, dans les trois quarts deles cas, ce sont les dirigeants qui se sont portés garants.\n",
      "Ainsi le mot populisme contient dans la définition qu'on lui prête tous les préjugés de classe, tout le mépris pour le peuple.\n",
      "Le groupe est composé de Phil Hartley (chant), Mike Bryson (basse), Mark McQuaid (guitare) et Tristan King (batterie).\n",
      "Le téléphone avait un défaut de fabrication et il m'a été changé àle magasin dès que j'y suis retourné.\n",
      "Ce stage se déroule dele lundi 4 àle vendredi 8 juillet.\n",
      "Abraham est né à Dantzig, Allemagne (maintenant Gdańsk en Pologne) dans une famille de marchands juifs.\n",
      "Il tente d'empêcher des chasseurs de trésor de s'aventurer sur ces territoires interdits.\n",
      "Prédisant un duo avec le chanteur, le public s'attendait à un titre bouillonnant mais il s'agit finalement d'un morceau usuel parmi les chansons autobiographique que Madonna estime plus adultes.\n",
      "Les Nations Unies mènent une campagne mondiale « Scellons l'accord !\n",
      "On possède un grand nombre d'attestations anciennes dele nom sous diverses formes :\n",
      "Il est servi dans un pot en verre, contenant une crème àle Kirsch et un biscuit rose de Reims mouillé àle Champagne, le tout surmonté de gariguettes et de crème chantilly.\n",
      "Le chef a ramené de ses années àle Japon une cuisine extrêmement audacieuse tout en respectant parfaitement des produits de qualité, sans esbroufe ni artifices.\n",
      "Les activités de protestation ont été conduites par l'Association dele mouvement contre les centrales nucléaires de Youngkwang.\n",
      "Le dessous deles ailes varie dele blanc àle gris selon les sous-espèces.\n",
      "Elle a été découverte à 1000 m d'altitude dans les monts deles Cardamomes.\n",
      "Le coureur de l'équipe BBox Bouygues Telecom Damien Gaudin a notamment remporté trois titres àle cours de ces championnats.\n",
      "De nombreux gouvernements et associations deles droits de l'Homme, comme Amnesty international, demandent l'extension dele mandat de la Mission spéciale de l'ONU (Minurso) à la protection deles droits de l'Homme àle Sahara occidental.\n",
      "Le français est utilisé àle travail par 50,8% deles travailleurs et l'anglais par 41,7% alors que 2,3% deles travailleurs utilisent les deux langues officielles.\n",
      "L'Académie Équestre a été dans la sélection de 2012 pour organiser les Championnats dele Monde de Voltige.\n",
      "Candidat malheureux à l'élection présidentielle d'août 2007, Marcus Stephen remporte néanmoins la présidence de la République le 19 décembre 2007 lorsque son prédécesseur Ludwig Scotty est écarté de cette fonction par une motion de censure parlementaire.\n",
      "Ils n'avaient pas de casquettes et leurs cheveux blonds brillaient àle soleil.\n",
      "En outre, il a été décidé de faire Freddy un pédophile, par opposition à son milieu traditionnel d'un tueur d'enfants.\n",
      "Lorsqu'on y réfléchit, jamais Jean Paul II n'a abordé de front le problème de la liberté de conscience.\n",
      "Ce cabinet d'ostéopathie est vraiment très bien.\n",
      "Elle est organisée par \"Poesia-2 Ottobre\", une association à but non lucratif qui œuvre en faveur de la poésie, conçue comme vecteur privilégié de dialogue interculturel et de diffusion deles valeurs humanistes.\n",
      "Elle n'est pas très douée pour montrer ses émotions, dire ce qu'elle ressent vraiment et ses désires comme le fait qu'elle aimerait être comme son frère Justin.\n",
      "Leland Stanford posa un clou d'or (le Golden Spike) qui symbolise l'achèvement dele premier transcontinental, aujourd'hui conservé àle musée de l'université Stanford en Californie.\n",
      "Mais l'eau elle-même, est un bien commun qui ne se vend pas sur un marché.\n",
      "La fraise de Cachoubie est réputée plus savoureuse (73%) et plus sucrée (68%) que les autres fraises.\n",
      "Dans les facultés de pharmacie, les assistants étaient des fonctionnaires, soumis à une période de stage de trois ans.\n",
      "Han s'engage finalement dans la bataille, couvre Luke et met Vador hors course.\n",
      "Quelques années plus tard, il préconise d'appeler l'auteur de ballet un choréauteur, afin de sortir les termes chorégraphie et chorégraphe de leur ambiguïté.\n",
      "« Le ministère de l'Intérieur affirme que des mesures décisives seront prises pour faire face à de telles actions, en conformité avec la loi », indique un communiqué.\n",
      "Le récit dans lequel John explique certaines deles transformations que subit son enseignement en tant que Jésus fait référence à L'Antéchrist de Nietzsche, dans lequel le philosophe soutient la thèse que le christianisme était en fait à l'origine un mouvement similaire àle bouddhisme et que le christ n'enseignait rien à propos de l'au-delà et de Dieu, mais parlait simplement dele bien réalisable en ce monde.\n",
      "En effet, dans le cadre de la théorie néoclassique, l'agent économique cherche à maximiser son utilité et lorsqu'il est amené à faire un arbitrage entre consommation et épargne, il va considérer ce que lui rapportera l'épargne, autrement dit, il va considérer le taux d'intérêt.\n",
      "Le fonctionnement de la famille immigrée et les relations existantes entre les parents, porteurs de mémoire, et les descendants, héritiers de celle-ci, créent des conditions de transferts mémoriels originales.\n",
      "Il est l'ancien directeur de l'hebdomadaire francophone Le Journal Hebdomadaire et son confrère arabophone Assahifa Al Ousbouiya.\n",
      "En 1992, ils sont éliminés par le club congolais d'Elecsport Bouansa dès le premier tour (0-2, 1-0).\n",
      "Dame Blanche Nord ou cité deles peintres, surnom dû à ses rues àles noms de peintres célébres, est un quartier situé dans le nord de la ville de Garges-lès-Gonesse, en banlieue parisienne.\n",
      "De nombreuses espèces devenues rares ou menacées survivent dans la zone boréale (dele nunavik à l'Alaska pour l'Amérique dele Nord).\n",
      "N'arrivez surtout pas quelques minutes en retard !\n",
      "Charles Monginot (1825-1900) est un peintre français.\n",
      "Licencié en histoire et géographie, il enseigna à l'université Yale àles États-Unis.\n",
      "À l'issue deles élections municipales de juin 2008, Gheorghe Tirifon (PNL) a été élu maire de la commune.\n",
      "Le conseil général, propriétaire dele bâtiment de l'ancienne gare de Signy-le-Petit, a conclu un bail commercial avec une entreprise de communication, dont l'installation génère à court terme trois emplois.\n",
      "Les papillons sont visibles entre mai et juin dans les zones de faibles altitudes tandis qu'àle dessus de 1 000 mètres, les papillons sont visibles vers le début juillet.\n",
      "Le pré salé dans son dernier méandre avant l'océan fait l'objet d'un inventaire ZNIEFF de type 1 en 1990.\n",
      "Les transactions se font essentiellement en espèces.\n",
      "Equipe de professionnels avec des années d'expérience.\n",
      "Il forme ainsi des générations de chartistes jusqu'à sa retraite en 1953.\n",
      "Robert Royer découvre également des foyers de l'âge dele bronze et des éléments de la vie quotidienne deles Gaulois, attestant l'existence d'une ferme.\n",
      "En outre, les revendications infondées dele Maroc sur le territoire ont été rejetées par la Cour Internationale de Justice.\n",
      "Bien qu'il ait eu un fils, Damien, Satan est homosexuel et a eu de nombreuses relations avec Saddam Hussein (dans South Park, le film : Plus long, plus grand et pas coupé et dans le story arc Les handicapés vont-ils en enfer ?/Probablement !).\n",
      "Il étudie sous la direction de photographes reconnus et publie en collaboration avec d'autres médecins un traité intitulé Iconographie photographique appliquée à l'ophtalmologie en 1881.\n",
      "Le Concert d'Astrée est un ensemble musical français de musique baroque.\n",
      "En 1931, l'A établit son siège à côté de la maison deles étudiants.\n",
      "Comme en 2007, le club local d'Arsenal remporte le trophée.\n",
      "Les CRES ne fédèrent donc pas de manière directe les structures de base, celles-ci en sont membres par le biais deles structures fédératives que se sont données les acteurs de terrain.\n",
      "Pour les chrétiens hellénistiques, la notion d'éros est complémentaire ou s'oppose (c'est selon) à l'agapè.\n",
      "Ces illusions ont été particulièrement étudiées par John Chowning (pionnier de la synthèse numérique deles sons) http://brahms.ircam.fr/textes/c00000018/index.html puis par Jean-Claude Risset, chercheurs et compositeurs, qui, à l'aide de l'ordinateur ont créé plusieurs formes d'illusions intégrées dans leurs œuvres.\n",
      "L'élection dele 24 octobre 1999 est la première élection présidentielle pluraliste (trois candidats), quoique le président Ben Ali ait été réélu avec un score (99,44%) comparable àles élections précédentes.\n",
      "Une réunion dele conseil national dele syndicat deles communaux sera organisée à l'issue de la grève pour faire le bilan dele mouvement et surtout décider des prochaines actions à entreprendre.\n",
      "Anne-Sophie Mathis, née le 13 juin 1977 à Nancy, est une boxeuse française.\n"
     ]
    }
   ],
   "source": [
    "from spacy.tokens import DocBin, Doc\n",
    "test_data = DocBin().from_disk(\"../LABO2/spacy_data/fr-ud-test.spacy\")\n",
    "for doc in test_data.get_docs(nlp.vocab):  # exemple\n",
    "    for sent in doc.sents:\n",
    "        print(sent)"
   ]
  },
  {
   "cell_type": "markdown",
   "metadata": {},
   "source": [
    "**2b**. On rapplle que les données des fichiers convertis peuvent être chargées dans un objet de type `DocBin`.  Ici, un tel objet contient un ensemble de documents, chacun contenant 10 phrases.  Chaque document est un objet de type `Doc`.  Le code donné ci-dessous vous permet de charger les données de test et vous montre comment les afficher.\n",
    "\n",
    "* Veuillez stocker la *7e phrase du 2e document des données de test* dans une variable nommée `s2`.\n",
    "* Veuillez afficher cette phrase (elle commence par \"Trois ans\")."
   ]
  },
  {
   "cell_type": "code",
   "execution_count": 35,
   "metadata": {
    "ExecuteTime": {
     "end_time": "2024-04-05T13:08:28.738613Z",
     "start_time": "2024-04-05T13:08:28.720616200Z"
    }
   },
   "outputs": [
    {
     "name": "stdout",
     "output_type": "stream",
     "text": [
      "Trois ans plus tard, il tient un discours sur la crise.\n"
     ]
    }
   ],
   "source": [
    "# Veuillez écrire votre code ici.\n",
    "docs = list(test_data.get_docs(nlp.vocab))\n",
    "s2 = list(docs[1].sents)[6]\n",
    "print(s2)"
   ]
  },
  {
   "cell_type": "markdown",
   "metadata": {},
   "source": [
    "**2c.** En utilisant `displaCy` comme expliqué [ici](https://spacy.io/usage/visualizers) veuillez afficher graphiquement l'arbre de dépendances de la phrase `s2` tel qu'il est fourni dans les données.  Pour être affichée, la phrase doit être transformée en objet `Doc`."
   ]
  },
  {
   "cell_type": "code",
   "execution_count": 36,
   "metadata": {
    "ExecuteTime": {
     "end_time": "2024-04-05T13:08:40.110826600Z",
     "start_time": "2024-04-05T13:08:40.102735800Z"
    }
   },
   "outputs": [
    {
     "data": {
      "text/plain": "<IPython.core.display.HTML object>",
      "text/html": "<span class=\"tex2jax_ignore\"><svg xmlns=\"http://www.w3.org/2000/svg\" xmlns:xlink=\"http://www.w3.org/1999/xlink\" xml:lang=\"fr\" id=\"415dc323d6034c059a72d7fb6ce459a5-0\" class=\"displacy\" width=\"1943\" height=\"399.5\" direction=\"ltr\" style=\"max-width: none; height: 399.5px; color: #000000; background: #ffffff; font-family: Arial; direction: ltr\">\n<text class=\"displacy-token\" fill=\"currentColor\" text-anchor=\"middle\" y=\"309.5\">\n    <tspan class=\"displacy-word\" fill=\"currentColor\" x=\"18\">Trois</tspan>\n    <tspan class=\"displacy-tag\" dy=\"2em\" fill=\"currentColor\" x=\"18\">NUM</tspan>\n</text>\n\n<text class=\"displacy-token\" fill=\"currentColor\" text-anchor=\"middle\" y=\"309.5\">\n    <tspan class=\"displacy-word\" fill=\"currentColor\" x=\"193\">ans</tspan>\n    <tspan class=\"displacy-tag\" dy=\"2em\" fill=\"currentColor\" x=\"193\">NOUN</tspan>\n</text>\n\n<text class=\"displacy-token\" fill=\"currentColor\" text-anchor=\"middle\" y=\"309.5\">\n    <tspan class=\"displacy-word\" fill=\"currentColor\" x=\"368\">plus</tspan>\n    <tspan class=\"displacy-tag\" dy=\"2em\" fill=\"currentColor\" x=\"368\">ADV</tspan>\n</text>\n\n<text class=\"displacy-token\" fill=\"currentColor\" text-anchor=\"middle\" y=\"309.5\">\n    <tspan class=\"displacy-word\" fill=\"currentColor\" x=\"543\">tard,</tspan>\n    <tspan class=\"displacy-tag\" dy=\"2em\" fill=\"currentColor\" x=\"543\">ADV</tspan>\n</text>\n\n<text class=\"displacy-token\" fill=\"currentColor\" text-anchor=\"middle\" y=\"309.5\">\n    <tspan class=\"displacy-word\" fill=\"currentColor\" x=\"718\">il</tspan>\n    <tspan class=\"displacy-tag\" dy=\"2em\" fill=\"currentColor\" x=\"718\">PRON</tspan>\n</text>\n\n<text class=\"displacy-token\" fill=\"currentColor\" text-anchor=\"middle\" y=\"309.5\">\n    <tspan class=\"displacy-word\" fill=\"currentColor\" x=\"893\">tient</tspan>\n    <tspan class=\"displacy-tag\" dy=\"2em\" fill=\"currentColor\" x=\"893\">VERB</tspan>\n</text>\n\n<text class=\"displacy-token\" fill=\"currentColor\" text-anchor=\"middle\" y=\"309.5\">\n    <tspan class=\"displacy-word\" fill=\"currentColor\" x=\"1068\">un</tspan>\n    <tspan class=\"displacy-tag\" dy=\"2em\" fill=\"currentColor\" x=\"1068\">DET</tspan>\n</text>\n\n<text class=\"displacy-token\" fill=\"currentColor\" text-anchor=\"middle\" y=\"309.5\">\n    <tspan class=\"displacy-word\" fill=\"currentColor\" x=\"1243\">discours</tspan>\n    <tspan class=\"displacy-tag\" dy=\"2em\" fill=\"currentColor\" x=\"1243\">NOUN</tspan>\n</text>\n\n<text class=\"displacy-token\" fill=\"currentColor\" text-anchor=\"middle\" y=\"309.5\">\n    <tspan class=\"displacy-word\" fill=\"currentColor\" x=\"1418\">sur</tspan>\n    <tspan class=\"displacy-tag\" dy=\"2em\" fill=\"currentColor\" x=\"1418\">ADP</tspan>\n</text>\n\n<text class=\"displacy-token\" fill=\"currentColor\" text-anchor=\"middle\" y=\"309.5\">\n    <tspan class=\"displacy-word\" fill=\"currentColor\" x=\"1593\">la</tspan>\n    <tspan class=\"displacy-tag\" dy=\"2em\" fill=\"currentColor\" x=\"1593\">DET</tspan>\n</text>\n\n<text class=\"displacy-token\" fill=\"currentColor\" text-anchor=\"middle\" y=\"309.5\">\n    <tspan class=\"displacy-word\" fill=\"currentColor\" x=\"1768\">crise.</tspan>\n    <tspan class=\"displacy-tag\" dy=\"2em\" fill=\"currentColor\" x=\"1768\">NOUN</tspan>\n</text>\n\n<g class=\"displacy-arrow\">\n    <path class=\"displacy-arc\" id=\"arrow-415dc323d6034c059a72d7fb6ce459a5-0-0\" stroke-width=\"2px\" d=\"M38,264.5 C38,177.0 183.0,177.0 183.0,264.5\" fill=\"none\" stroke=\"currentColor\"/>\n    <text dy=\"1.25em\" style=\"font-size: 0.8em; letter-spacing: 1px\">\n        <textPath xlink:href=\"#arrow-415dc323d6034c059a72d7fb6ce459a5-0-0\" class=\"displacy-label\" startOffset=\"50%\" side=\"left\" fill=\"currentColor\" text-anchor=\"middle\">nummod</textPath>\n    </text>\n    <path class=\"displacy-arrowhead\" d=\"M38,266.5 L30,254.5 46,254.5\" fill=\"currentColor\"/>\n</g>\n\n<g class=\"displacy-arrow\">\n    <path class=\"displacy-arc\" id=\"arrow-415dc323d6034c059a72d7fb6ce459a5-0-1\" stroke-width=\"2px\" d=\"M213,264.5 C213,2.0 893.0,2.0 893.0,264.5\" fill=\"none\" stroke=\"currentColor\"/>\n    <text dy=\"1.25em\" style=\"font-size: 0.8em; letter-spacing: 1px\">\n        <textPath xlink:href=\"#arrow-415dc323d6034c059a72d7fb6ce459a5-0-1\" class=\"displacy-label\" startOffset=\"50%\" side=\"left\" fill=\"currentColor\" text-anchor=\"middle\">obl</textPath>\n    </text>\n    <path class=\"displacy-arrowhead\" d=\"M213,266.5 L205,254.5 221,254.5\" fill=\"currentColor\"/>\n</g>\n\n<g class=\"displacy-arrow\">\n    <path class=\"displacy-arc\" id=\"arrow-415dc323d6034c059a72d7fb6ce459a5-0-2\" stroke-width=\"2px\" d=\"M388,264.5 C388,177.0 533.0,177.0 533.0,264.5\" fill=\"none\" stroke=\"currentColor\"/>\n    <text dy=\"1.25em\" style=\"font-size: 0.8em; letter-spacing: 1px\">\n        <textPath xlink:href=\"#arrow-415dc323d6034c059a72d7fb6ce459a5-0-2\" class=\"displacy-label\" startOffset=\"50%\" side=\"left\" fill=\"currentColor\" text-anchor=\"middle\">advmod</textPath>\n    </text>\n    <path class=\"displacy-arrowhead\" d=\"M388,266.5 L380,254.5 396,254.5\" fill=\"currentColor\"/>\n</g>\n\n<g class=\"displacy-arrow\">\n    <path class=\"displacy-arc\" id=\"arrow-415dc323d6034c059a72d7fb6ce459a5-0-3\" stroke-width=\"2px\" d=\"M213,264.5 C213,89.5 538.0,89.5 538.0,264.5\" fill=\"none\" stroke=\"currentColor\"/>\n    <text dy=\"1.25em\" style=\"font-size: 0.8em; letter-spacing: 1px\">\n        <textPath xlink:href=\"#arrow-415dc323d6034c059a72d7fb6ce459a5-0-3\" class=\"displacy-label\" startOffset=\"50%\" side=\"left\" fill=\"currentColor\" text-anchor=\"middle\">advmod</textPath>\n    </text>\n    <path class=\"displacy-arrowhead\" d=\"M538.0,266.5 L546.0,254.5 530.0,254.5\" fill=\"currentColor\"/>\n</g>\n\n<g class=\"displacy-arrow\">\n    <path class=\"displacy-arc\" id=\"arrow-415dc323d6034c059a72d7fb6ce459a5-0-4\" stroke-width=\"2px\" d=\"M738,264.5 C738,177.0 883.0,177.0 883.0,264.5\" fill=\"none\" stroke=\"currentColor\"/>\n    <text dy=\"1.25em\" style=\"font-size: 0.8em; letter-spacing: 1px\">\n        <textPath xlink:href=\"#arrow-415dc323d6034c059a72d7fb6ce459a5-0-4\" class=\"displacy-label\" startOffset=\"50%\" side=\"left\" fill=\"currentColor\" text-anchor=\"middle\">nsubj</textPath>\n    </text>\n    <path class=\"displacy-arrowhead\" d=\"M738,266.5 L730,254.5 746,254.5\" fill=\"currentColor\"/>\n</g>\n\n<g class=\"displacy-arrow\">\n    <path class=\"displacy-arc\" id=\"arrow-415dc323d6034c059a72d7fb6ce459a5-0-5\" stroke-width=\"2px\" d=\"M1088,264.5 C1088,177.0 1233.0,177.0 1233.0,264.5\" fill=\"none\" stroke=\"currentColor\"/>\n    <text dy=\"1.25em\" style=\"font-size: 0.8em; letter-spacing: 1px\">\n        <textPath xlink:href=\"#arrow-415dc323d6034c059a72d7fb6ce459a5-0-5\" class=\"displacy-label\" startOffset=\"50%\" side=\"left\" fill=\"currentColor\" text-anchor=\"middle\">det</textPath>\n    </text>\n    <path class=\"displacy-arrowhead\" d=\"M1088,266.5 L1080,254.5 1096,254.5\" fill=\"currentColor\"/>\n</g>\n\n<g class=\"displacy-arrow\">\n    <path class=\"displacy-arc\" id=\"arrow-415dc323d6034c059a72d7fb6ce459a5-0-6\" stroke-width=\"2px\" d=\"M913,264.5 C913,89.5 1238.0,89.5 1238.0,264.5\" fill=\"none\" stroke=\"currentColor\"/>\n    <text dy=\"1.25em\" style=\"font-size: 0.8em; letter-spacing: 1px\">\n        <textPath xlink:href=\"#arrow-415dc323d6034c059a72d7fb6ce459a5-0-6\" class=\"displacy-label\" startOffset=\"50%\" side=\"left\" fill=\"currentColor\" text-anchor=\"middle\">obj</textPath>\n    </text>\n    <path class=\"displacy-arrowhead\" d=\"M1238.0,266.5 L1246.0,254.5 1230.0,254.5\" fill=\"currentColor\"/>\n</g>\n\n<g class=\"displacy-arrow\">\n    <path class=\"displacy-arc\" id=\"arrow-415dc323d6034c059a72d7fb6ce459a5-0-7\" stroke-width=\"2px\" d=\"M1438,264.5 C1438,89.5 1763.0,89.5 1763.0,264.5\" fill=\"none\" stroke=\"currentColor\"/>\n    <text dy=\"1.25em\" style=\"font-size: 0.8em; letter-spacing: 1px\">\n        <textPath xlink:href=\"#arrow-415dc323d6034c059a72d7fb6ce459a5-0-7\" class=\"displacy-label\" startOffset=\"50%\" side=\"left\" fill=\"currentColor\" text-anchor=\"middle\">case</textPath>\n    </text>\n    <path class=\"displacy-arrowhead\" d=\"M1438,266.5 L1430,254.5 1446,254.5\" fill=\"currentColor\"/>\n</g>\n\n<g class=\"displacy-arrow\">\n    <path class=\"displacy-arc\" id=\"arrow-415dc323d6034c059a72d7fb6ce459a5-0-8\" stroke-width=\"2px\" d=\"M1613,264.5 C1613,177.0 1758.0,177.0 1758.0,264.5\" fill=\"none\" stroke=\"currentColor\"/>\n    <text dy=\"1.25em\" style=\"font-size: 0.8em; letter-spacing: 1px\">\n        <textPath xlink:href=\"#arrow-415dc323d6034c059a72d7fb6ce459a5-0-8\" class=\"displacy-label\" startOffset=\"50%\" side=\"left\" fill=\"currentColor\" text-anchor=\"middle\">det</textPath>\n    </text>\n    <path class=\"displacy-arrowhead\" d=\"M1613,266.5 L1605,254.5 1621,254.5\" fill=\"currentColor\"/>\n</g>\n\n<g class=\"displacy-arrow\">\n    <path class=\"displacy-arc\" id=\"arrow-415dc323d6034c059a72d7fb6ce459a5-0-9\" stroke-width=\"2px\" d=\"M1263,264.5 C1263,2.0 1768.0,2.0 1768.0,264.5\" fill=\"none\" stroke=\"currentColor\"/>\n    <text dy=\"1.25em\" style=\"font-size: 0.8em; letter-spacing: 1px\">\n        <textPath xlink:href=\"#arrow-415dc323d6034c059a72d7fb6ce459a5-0-9\" class=\"displacy-label\" startOffset=\"50%\" side=\"left\" fill=\"currentColor\" text-anchor=\"middle\">nmod</textPath>\n    </text>\n    <path class=\"displacy-arrowhead\" d=\"M1768.0,266.5 L1776.0,254.5 1760.0,254.5\" fill=\"currentColor\"/>\n</g>\n</svg></span>"
     },
     "metadata": {},
     "output_type": "display_data"
    }
   ],
   "source": [
    "# Veuillez écrire votre code ici.\n",
    "from spacy import displacy\n",
    "doc = s2.as_doc()\n",
    "displacy.render(doc, style=\"dep\", options={\"offset_x\": 18})"
   ]
  },
  {
   "cell_type": "markdown",
   "metadata": {},
   "source": [
    "**2d.** En utilisant `displaCy`, veuillez également afficher l'arbre de dépendances calculé par la pipeline `nlp` pour cette même phrase `s2`.  Pour être analysée et affichée, la phrase doit être transformée en objet `Doc`."
   ]
  },
  {
   "cell_type": "code",
   "execution_count": 37,
   "metadata": {
    "ExecuteTime": {
     "end_time": "2024-04-05T13:09:43.300677500Z",
     "start_time": "2024-04-05T13:09:43.273494300Z"
    }
   },
   "outputs": [
    {
     "data": {
      "text/plain": "<IPython.core.display.HTML object>",
      "text/html": "<span class=\"tex2jax_ignore\"><svg xmlns=\"http://www.w3.org/2000/svg\" xmlns:xlink=\"http://www.w3.org/1999/xlink\" xml:lang=\"fr\" id=\"2c0cdc32d5d84d2ab329d536e55867bd-0\" class=\"displacy\" width=\"1943\" height=\"399.5\" direction=\"ltr\" style=\"max-width: none; height: 399.5px; color: #000000; background: #ffffff; font-family: Arial; direction: ltr\">\n<text class=\"displacy-token\" fill=\"currentColor\" text-anchor=\"middle\" y=\"309.5\">\n    <tspan class=\"displacy-word\" fill=\"currentColor\" x=\"18\">Trois</tspan>\n    <tspan class=\"displacy-tag\" dy=\"2em\" fill=\"currentColor\" x=\"18\">NUM</tspan>\n</text>\n\n<text class=\"displacy-token\" fill=\"currentColor\" text-anchor=\"middle\" y=\"309.5\">\n    <tspan class=\"displacy-word\" fill=\"currentColor\" x=\"193\">ans</tspan>\n    <tspan class=\"displacy-tag\" dy=\"2em\" fill=\"currentColor\" x=\"193\">NOUN</tspan>\n</text>\n\n<text class=\"displacy-token\" fill=\"currentColor\" text-anchor=\"middle\" y=\"309.5\">\n    <tspan class=\"displacy-word\" fill=\"currentColor\" x=\"368\">plus</tspan>\n    <tspan class=\"displacy-tag\" dy=\"2em\" fill=\"currentColor\" x=\"368\">ADV</tspan>\n</text>\n\n<text class=\"displacy-token\" fill=\"currentColor\" text-anchor=\"middle\" y=\"309.5\">\n    <tspan class=\"displacy-word\" fill=\"currentColor\" x=\"543\">tard,</tspan>\n    <tspan class=\"displacy-tag\" dy=\"2em\" fill=\"currentColor\" x=\"543\">ADV</tspan>\n</text>\n\n<text class=\"displacy-token\" fill=\"currentColor\" text-anchor=\"middle\" y=\"309.5\">\n    <tspan class=\"displacy-word\" fill=\"currentColor\" x=\"718\">il</tspan>\n    <tspan class=\"displacy-tag\" dy=\"2em\" fill=\"currentColor\" x=\"718\">PRON</tspan>\n</text>\n\n<text class=\"displacy-token\" fill=\"currentColor\" text-anchor=\"middle\" y=\"309.5\">\n    <tspan class=\"displacy-word\" fill=\"currentColor\" x=\"893\">tient</tspan>\n    <tspan class=\"displacy-tag\" dy=\"2em\" fill=\"currentColor\" x=\"893\">VERB</tspan>\n</text>\n\n<text class=\"displacy-token\" fill=\"currentColor\" text-anchor=\"middle\" y=\"309.5\">\n    <tspan class=\"displacy-word\" fill=\"currentColor\" x=\"1068\">un</tspan>\n    <tspan class=\"displacy-tag\" dy=\"2em\" fill=\"currentColor\" x=\"1068\">DET</tspan>\n</text>\n\n<text class=\"displacy-token\" fill=\"currentColor\" text-anchor=\"middle\" y=\"309.5\">\n    <tspan class=\"displacy-word\" fill=\"currentColor\" x=\"1243\">discours</tspan>\n    <tspan class=\"displacy-tag\" dy=\"2em\" fill=\"currentColor\" x=\"1243\">NOUN</tspan>\n</text>\n\n<text class=\"displacy-token\" fill=\"currentColor\" text-anchor=\"middle\" y=\"309.5\">\n    <tspan class=\"displacy-word\" fill=\"currentColor\" x=\"1418\">sur</tspan>\n    <tspan class=\"displacy-tag\" dy=\"2em\" fill=\"currentColor\" x=\"1418\">ADP</tspan>\n</text>\n\n<text class=\"displacy-token\" fill=\"currentColor\" text-anchor=\"middle\" y=\"309.5\">\n    <tspan class=\"displacy-word\" fill=\"currentColor\" x=\"1593\">la</tspan>\n    <tspan class=\"displacy-tag\" dy=\"2em\" fill=\"currentColor\" x=\"1593\">DET</tspan>\n</text>\n\n<text class=\"displacy-token\" fill=\"currentColor\" text-anchor=\"middle\" y=\"309.5\">\n    <tspan class=\"displacy-word\" fill=\"currentColor\" x=\"1768\">crise.</tspan>\n    <tspan class=\"displacy-tag\" dy=\"2em\" fill=\"currentColor\" x=\"1768\">NOUN</tspan>\n</text>\n\n<g class=\"displacy-arrow\">\n    <path class=\"displacy-arc\" id=\"arrow-2c0cdc32d5d84d2ab329d536e55867bd-0-0\" stroke-width=\"2px\" d=\"M38,264.5 C38,177.0 183.0,177.0 183.0,264.5\" fill=\"none\" stroke=\"currentColor\"/>\n    <text dy=\"1.25em\" style=\"font-size: 0.8em; letter-spacing: 1px\">\n        <textPath xlink:href=\"#arrow-2c0cdc32d5d84d2ab329d536e55867bd-0-0\" class=\"displacy-label\" startOffset=\"50%\" side=\"left\" fill=\"currentColor\" text-anchor=\"middle\">nummod</textPath>\n    </text>\n    <path class=\"displacy-arrowhead\" d=\"M38,266.5 L30,254.5 46,254.5\" fill=\"currentColor\"/>\n</g>\n\n<g class=\"displacy-arrow\">\n    <path class=\"displacy-arc\" id=\"arrow-2c0cdc32d5d84d2ab329d536e55867bd-0-1\" stroke-width=\"2px\" d=\"M213,264.5 C213,177.0 358.0,177.0 358.0,264.5\" fill=\"none\" stroke=\"currentColor\"/>\n    <text dy=\"1.25em\" style=\"font-size: 0.8em; letter-spacing: 1px\">\n        <textPath xlink:href=\"#arrow-2c0cdc32d5d84d2ab329d536e55867bd-0-1\" class=\"displacy-label\" startOffset=\"50%\" side=\"left\" fill=\"currentColor\" text-anchor=\"middle\">obl:mod</textPath>\n    </text>\n    <path class=\"displacy-arrowhead\" d=\"M213,266.5 L205,254.5 221,254.5\" fill=\"currentColor\"/>\n</g>\n\n<g class=\"displacy-arrow\">\n    <path class=\"displacy-arc\" id=\"arrow-2c0cdc32d5d84d2ab329d536e55867bd-0-2\" stroke-width=\"2px\" d=\"M388,264.5 C388,177.0 533.0,177.0 533.0,264.5\" fill=\"none\" stroke=\"currentColor\"/>\n    <text dy=\"1.25em\" style=\"font-size: 0.8em; letter-spacing: 1px\">\n        <textPath xlink:href=\"#arrow-2c0cdc32d5d84d2ab329d536e55867bd-0-2\" class=\"displacy-label\" startOffset=\"50%\" side=\"left\" fill=\"currentColor\" text-anchor=\"middle\">advmod</textPath>\n    </text>\n    <path class=\"displacy-arrowhead\" d=\"M388,266.5 L380,254.5 396,254.5\" fill=\"currentColor\"/>\n</g>\n\n<g class=\"displacy-arrow\">\n    <path class=\"displacy-arc\" id=\"arrow-2c0cdc32d5d84d2ab329d536e55867bd-0-3\" stroke-width=\"2px\" d=\"M563,264.5 C563,89.5 888.0,89.5 888.0,264.5\" fill=\"none\" stroke=\"currentColor\"/>\n    <text dy=\"1.25em\" style=\"font-size: 0.8em; letter-spacing: 1px\">\n        <textPath xlink:href=\"#arrow-2c0cdc32d5d84d2ab329d536e55867bd-0-3\" class=\"displacy-label\" startOffset=\"50%\" side=\"left\" fill=\"currentColor\" text-anchor=\"middle\">advmod</textPath>\n    </text>\n    <path class=\"displacy-arrowhead\" d=\"M563,266.5 L555,254.5 571,254.5\" fill=\"currentColor\"/>\n</g>\n\n<g class=\"displacy-arrow\">\n    <path class=\"displacy-arc\" id=\"arrow-2c0cdc32d5d84d2ab329d536e55867bd-0-4\" stroke-width=\"2px\" d=\"M738,264.5 C738,177.0 883.0,177.0 883.0,264.5\" fill=\"none\" stroke=\"currentColor\"/>\n    <text dy=\"1.25em\" style=\"font-size: 0.8em; letter-spacing: 1px\">\n        <textPath xlink:href=\"#arrow-2c0cdc32d5d84d2ab329d536e55867bd-0-4\" class=\"displacy-label\" startOffset=\"50%\" side=\"left\" fill=\"currentColor\" text-anchor=\"middle\">nsubj</textPath>\n    </text>\n    <path class=\"displacy-arrowhead\" d=\"M738,266.5 L730,254.5 746,254.5\" fill=\"currentColor\"/>\n</g>\n\n<g class=\"displacy-arrow\">\n    <path class=\"displacy-arc\" id=\"arrow-2c0cdc32d5d84d2ab329d536e55867bd-0-5\" stroke-width=\"2px\" d=\"M1088,264.5 C1088,177.0 1233.0,177.0 1233.0,264.5\" fill=\"none\" stroke=\"currentColor\"/>\n    <text dy=\"1.25em\" style=\"font-size: 0.8em; letter-spacing: 1px\">\n        <textPath xlink:href=\"#arrow-2c0cdc32d5d84d2ab329d536e55867bd-0-5\" class=\"displacy-label\" startOffset=\"50%\" side=\"left\" fill=\"currentColor\" text-anchor=\"middle\">det</textPath>\n    </text>\n    <path class=\"displacy-arrowhead\" d=\"M1088,266.5 L1080,254.5 1096,254.5\" fill=\"currentColor\"/>\n</g>\n\n<g class=\"displacy-arrow\">\n    <path class=\"displacy-arc\" id=\"arrow-2c0cdc32d5d84d2ab329d536e55867bd-0-6\" stroke-width=\"2px\" d=\"M913,264.5 C913,89.5 1238.0,89.5 1238.0,264.5\" fill=\"none\" stroke=\"currentColor\"/>\n    <text dy=\"1.25em\" style=\"font-size: 0.8em; letter-spacing: 1px\">\n        <textPath xlink:href=\"#arrow-2c0cdc32d5d84d2ab329d536e55867bd-0-6\" class=\"displacy-label\" startOffset=\"50%\" side=\"left\" fill=\"currentColor\" text-anchor=\"middle\">obj</textPath>\n    </text>\n    <path class=\"displacy-arrowhead\" d=\"M1238.0,266.5 L1246.0,254.5 1230.0,254.5\" fill=\"currentColor\"/>\n</g>\n\n<g class=\"displacy-arrow\">\n    <path class=\"displacy-arc\" id=\"arrow-2c0cdc32d5d84d2ab329d536e55867bd-0-7\" stroke-width=\"2px\" d=\"M1438,264.5 C1438,89.5 1763.0,89.5 1763.0,264.5\" fill=\"none\" stroke=\"currentColor\"/>\n    <text dy=\"1.25em\" style=\"font-size: 0.8em; letter-spacing: 1px\">\n        <textPath xlink:href=\"#arrow-2c0cdc32d5d84d2ab329d536e55867bd-0-7\" class=\"displacy-label\" startOffset=\"50%\" side=\"left\" fill=\"currentColor\" text-anchor=\"middle\">case</textPath>\n    </text>\n    <path class=\"displacy-arrowhead\" d=\"M1438,266.5 L1430,254.5 1446,254.5\" fill=\"currentColor\"/>\n</g>\n\n<g class=\"displacy-arrow\">\n    <path class=\"displacy-arc\" id=\"arrow-2c0cdc32d5d84d2ab329d536e55867bd-0-8\" stroke-width=\"2px\" d=\"M1613,264.5 C1613,177.0 1758.0,177.0 1758.0,264.5\" fill=\"none\" stroke=\"currentColor\"/>\n    <text dy=\"1.25em\" style=\"font-size: 0.8em; letter-spacing: 1px\">\n        <textPath xlink:href=\"#arrow-2c0cdc32d5d84d2ab329d536e55867bd-0-8\" class=\"displacy-label\" startOffset=\"50%\" side=\"left\" fill=\"currentColor\" text-anchor=\"middle\">det</textPath>\n    </text>\n    <path class=\"displacy-arrowhead\" d=\"M1613,266.5 L1605,254.5 1621,254.5\" fill=\"currentColor\"/>\n</g>\n\n<g class=\"displacy-arrow\">\n    <path class=\"displacy-arc\" id=\"arrow-2c0cdc32d5d84d2ab329d536e55867bd-0-9\" stroke-width=\"2px\" d=\"M1263,264.5 C1263,2.0 1768.0,2.0 1768.0,264.5\" fill=\"none\" stroke=\"currentColor\"/>\n    <text dy=\"1.25em\" style=\"font-size: 0.8em; letter-spacing: 1px\">\n        <textPath xlink:href=\"#arrow-2c0cdc32d5d84d2ab329d536e55867bd-0-9\" class=\"displacy-label\" startOffset=\"50%\" side=\"left\" fill=\"currentColor\" text-anchor=\"middle\">nmod</textPath>\n    </text>\n    <path class=\"displacy-arrowhead\" d=\"M1768.0,266.5 L1776.0,254.5 1760.0,254.5\" fill=\"currentColor\"/>\n</g>\n</svg></span>"
     },
     "metadata": {},
     "output_type": "display_data"
    }
   ],
   "source": [
    "# Veuillez écrire votre code ici.\n",
    "doc = nlp(s2.as_doc())\n",
    "displacy.render(doc, style=\"dep\", options={\"offset_x\": 18})"
   ]
  },
  {
   "cell_type": "markdown",
   "metadata": {},
   "source": [
    "**2e.** Veuillez comparer les deux arbres de dépendances et indiquer ici les différences.  Quel est le taux de correction de la pipeline `nlp` sur cette phrase ?\n",
    "\n",
    "Suggestion : il peut être utile de sauvegarder les deux arbres dans des images SVG, en écrivant dans un fichier le résultat retourné par `displacy.render` avec l'option `jupyter = False`."
   ]
  },
  {
   "cell_type": "code",
   "execution_count": 39,
   "metadata": {
    "ExecuteTime": {
     "end_time": "2024-04-05T13:16:59.014227Z",
     "start_time": "2024-04-05T13:16:59.001099500Z"
    }
   },
   "outputs": [],
   "source": [
    "# Veuillez écrire votre réponse ici.\n",
    "# Les deux arbres graphes sont similaires, à quelques détails près. Avec la pipeline, \"ans\" est dépendant de \"plus\" (obl:mod) au lieu de \"tient\" (obl), et \"tard,\" dépend de \"tient\" (advmod) au lieu de \"ans\" (advmod). Le taux de correction est de 80% (2 corrections sur une phrase de 10 mots).  "
   ]
  },
  {
   "cell_type": "markdown",
   "metadata": {},
   "source": [
    "**2f.**  Veuillez appliquer le `Scorer` de spaCy (voir Labo 2) et afficher les deux scores qu'il produit pour l'analyse en dépendances (avec trois décimales après la virgule).  Retrouvez-vous les scores de la question précédente ? Pourquoi ?"
   ]
  },
  {
   "cell_type": "code",
   "execution_count": 40,
   "metadata": {
    "ExecuteTime": {
     "end_time": "2024-04-05T13:25:03.870378Z",
     "start_time": "2024-04-05T13:25:03.861246400Z"
    }
   },
   "outputs": [],
   "source": [
    "from spacy.scorer import Scorer\n",
    "from spacy.training import Example"
   ]
  },
  {
   "cell_type": "code",
   "execution_count": 48,
   "metadata": {
    "ExecuteTime": {
     "end_time": "2024-04-05T13:38:48.812650400Z",
     "start_time": "2024-04-05T13:38:48.682714100Z"
    }
   },
   "outputs": [
    {
     "name": "stdout",
     "output_type": "stream",
     "text": [
      "Precision : 0.818\n"
     ]
    }
   ],
   "source": [
    "# Veuillez écrire votre code et votre réponse ici.\n",
    "scorer = Scorer()\n",
    "examples = Example(nlp(s2.as_doc()), s2.as_doc())\n",
    "score = scorer.score(examples=[examples])\n",
    "print(f\"Precision : {score['dep_las']:.3f}\") # las = labeled attachment score -> dépendance correcte avec label de la dépendance correct\n",
    "\n",
    "# Retrouvez-vous les scores de la question précédente ? Pourquoi ?\n",
    "# Il est légèrement plus élevé ici car le scorer prend en compte la relation de dépendance ET le label associé à cette dépendance. Dans la phrase s2, Deux dépendances sont fausses, mais seul un label est incorrect, ce qui pourrait expliquer la différence."
   ]
  },
  {
   "cell_type": "markdown",
   "metadata": {},
   "source": [
    "## 3. Évaluation du *dependency parser* de `fr_core_news_sm` sur l'ensemble des phrases test"
   ]
  },
  {
   "cell_type": "markdown",
   "metadata": {},
   "source": [
    "**3a.** Veuillez calculer les deux scores qui caractérisent l'analyseur en dépendances de la pipeline `nlp` sur toutes les données de test présentes dans `test_data`.  Comment se comparent ces scores avec ceux mentionnés [dans la documentation de fr_core_news_sm](https://spacy.io/models/fr#fr_core_news_sm) ?"
   ]
  },
  {
   "cell_type": "code",
   "execution_count": null,
   "metadata": {},
   "outputs": [],
   "source": [
    "# Veuillez écrire votre code ici.\n"
   ]
  },
  {
   "cell_type": "markdown",
   "metadata": {},
   "source": [
    "**3b.** Le *scorer* fournit également des scores détaillés pour chaque type de relation de dépendances.  Veuillez afficher ces valeurs dans un tableau proprement formaté, trié par score F1 décroissant, avec trois décimales."
   ]
  },
  {
   "cell_type": "code",
   "execution_count": null,
   "metadata": {},
   "outputs": [],
   "source": [
    "# Veuillez écrire votre code ici.\n"
   ]
  },
  {
   "cell_type": "markdown",
   "metadata": {},
   "source": [
    "## 4. Entraîner puis évaluer un nouveau *parser* français dans spaCy\n",
    "\n",
    "Le but de cette partie est d'entraîner une pipeline spaCy pour le français sur les données de `fr-ud-train.conllu`, puis de comparer le modèle obtenu avec le modèle prêt-à-l'emploi testé au point précédent (voir le Labo 2 et les [instructions de spaCy](https://spacy.io/usage/training#quickstart)).\n",
    "\n",
    "**4a.** Paramétrage de l'entraînement :\n",
    "* générez un fichier de départ grâce à [l'interface web](https://spacy.io/usage/training#quickstart), en indiquant que vous gardez seulement les composants `morphologizer` et `parser` dans la pipeline ;\n",
    "* sauvegardez le code généré par spaCy dans un fichier local `base_config.cfg` ;\n",
    "* générez un fichier `config.cfg` sur votre ordinateur en exécutant la ligne de commande suivante. "
   ]
  },
  {
   "cell_type": "code",
   "execution_count": null,
   "metadata": {},
   "outputs": [],
   "source": [
    "!python -m spacy init fill-config base_config.cfg config.cfg"
   ]
  },
  {
   "cell_type": "markdown",
   "metadata": {},
   "source": [
    "Veuillez effectuer l'entraînement avec la ligne de commande suivante.  Faites plusieurs essais, d'abord avec un petit nombre d'époques (*à indiquer dans config.cfg*), pour estimer le temps nécessaire et observer les messages affichés.  Augmentez progressivement le nombre d'époques, jusqu'à ce que les scores sur le jeu de validation n'augmentent plus (si vous avez le temps).  Pendant combien d'époques entraînez-vous au final ?"
   ]
  },
  {
   "cell_type": "code",
   "execution_count": null,
   "metadata": {},
   "outputs": [],
   "source": [
    "# Note : il vaut mieux exécuter cela directement dans une fenêtre de commande, pour voir les logs en temps réel.\n",
    "!python -m spacy train config.cfg \\\n",
    "  --output ./myDEPparser1 \\\n",
    "  --paths.train ../Labo2/spacy_data/fr-ud-train.spacy \\\n",
    "  --paths.dev ../Labo2/spacy_data/fr-ud-dev.spacy \\\n",
    "  --verbose"
   ]
  },
  {
   "cell_type": "code",
   "execution_count": null,
   "metadata": {},
   "outputs": [],
   "source": [
    "# Veuillez indiquer ici le nombre d'époques final.\n"
   ]
  },
  {
   "cell_type": "markdown",
   "metadata": {},
   "source": [
    "**4b.**  Veuillez charger le meilleur modèle (pipeline) dans la variable `nlp2` et afficher ses scores sur les données de test.  Comment se comparent les résultats avec les précédents ?"
   ]
  },
  {
   "cell_type": "code",
   "execution_count": null,
   "metadata": {},
   "outputs": [],
   "source": [
    "# Veuillez écrire votre code ici.\n"
   ]
  },
  {
   "cell_type": "markdown",
   "metadata": {},
   "source": [
    "**4c.** Veuillez afficher les scores détaillés pour chaque type de relation de dépendances, dans un tableau formaté comme au 3b."
   ]
  },
  {
   "cell_type": "code",
   "execution_count": null,
   "metadata": {},
   "outputs": [],
   "source": [
    "# Veuillez écrire votre code ici.\n"
   ]
  },
  {
   "cell_type": "markdown",
   "metadata": {},
   "source": [
    "**4d.** Quels changements observez-vous en haut (3 premiers labels) et en bas du classement ?  Voyez-vous un label pour lequel les scores n'augmentent pas avec le parser entraîné ?"
   ]
  },
  {
   "cell_type": "code",
   "execution_count": null,
   "metadata": {},
   "outputs": [],
   "source": []
  },
  {
   "cell_type": "markdown",
   "metadata": {},
   "source": [
    "**Fin du Labo.** Veuillez nettoyer ce notebook en gardant seulement les résultats désirés, l'enregistrer, et le soumettre comme devoir sur Cyberlearn."
   ]
  }
 ],
 "metadata": {
  "kernelspec": {
   "name": "python3",
   "language": "python",
   "display_name": "Python 3 (ipykernel)"
  },
  "language_info": {
   "codemirror_mode": {
    "name": "ipython",
    "version": 3
   },
   "file_extension": ".py",
   "mimetype": "text/x-python",
   "name": "python",
   "nbconvert_exporter": "python",
   "pygments_lexer": "ipython3",
   "version": "3.10.13"
  }
 },
 "nbformat": 4,
 "nbformat_minor": 4
}
