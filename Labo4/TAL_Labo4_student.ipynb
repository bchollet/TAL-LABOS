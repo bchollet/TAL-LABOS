{
 "cells": [
  {
   "cell_type": "markdown",
   "metadata": {},
   "source": [
    "<img src=\"https://heig-vd.ch/docs/default-source/doc-global-newsletter/2020-slim.svg\" alt=\"HEIG-VD Logo\" width=\"100\" align=\"right\" /> \n",
    "\n",
    "# Cours TAL - Laboratoire 4<br/>Reconnaissance des entités nommées\n",
    "\n",
    "**Objectif**\n",
    "\n",
    "L'objectif de ce labo est de comparer la reconnaissance des entités nommées (*named entity recognition*, NER) faite par spaCy avec celle faite par NLTK, sur des données en anglais fournies sur Cyberlearn.  Veuillez fournir les scores de rappel, précision et F1-score pour chacun des tags présents dans les données de test.  Veuillez comparer deux modèles de spaCy, 'en_core_web_sm' et 'en_core_web_lg'.\n",
    "\n",
    "Vous pouvez concevoir l'ensemble du projet par vous-mêmes, ou suivre les indications suivantes."
   ]
  },
  {
   "cell_type": "markdown",
   "metadata": {},
   "source": [
    "## 1. NER avec spaCy et NLTK sur un texte court"
   ]
  },
  {
   "cell_type": "code",
   "execution_count": 1,
   "metadata": {
    "ExecuteTime": {
     "end_time": "2024-04-27T16:32:20.608018Z",
     "start_time": "2024-04-27T16:31:56.997471Z"
    }
   },
   "outputs": [],
   "source": [
    "import spacy\n",
    "from spacy.tokens import Doc"
   ]
  },
  {
   "cell_type": "code",
   "execution_count": 2,
   "metadata": {
    "ExecuteTime": {
     "end_time": "2024-04-27T16:32:20.626693Z",
     "start_time": "2024-04-27T16:32:20.619370Z"
    }
   },
   "outputs": [],
   "source": [
    "#!python -m spacy download en_core_web_sm \n",
    "# exécuter la ligne ci-dessus une fois, si nécessaire"
   ]
  },
  {
   "cell_type": "code",
   "execution_count": 3,
   "metadata": {
    "ExecuteTime": {
     "end_time": "2024-04-27T16:32:21.982719Z",
     "start_time": "2024-04-27T16:32:20.629242Z"
    }
   },
   "outputs": [],
   "source": [
    "nlp = spacy.load(\"en_core_web_sm\")"
   ]
  },
  {
   "cell_type": "code",
   "execution_count": 4,
   "metadata": {
    "ExecuteTime": {
     "end_time": "2024-04-27T16:32:21.991530Z",
     "start_time": "2024-04-27T16:32:21.984730Z"
    }
   },
   "outputs": [],
   "source": [
    "raw_text = \"Reinhold Messner made a solo ascent of Mount Everest and was later a member of the European Parliament.\" "
   ]
  },
  {
   "cell_type": "markdown",
   "metadata": {},
   "source": [
    "**1a.** Veuillez traiter ce texte avec la pipeline 'nlp', et pour chaque entité nommée trouvée veuillez afficher les mots qui la composent et son type."
   ]
  },
  {
   "cell_type": "code",
   "execution_count": 5,
   "metadata": {
    "ExecuteTime": {
     "end_time": "2024-04-27T16:32:22.029499Z",
     "start_time": "2024-04-27T16:32:21.996050Z"
    }
   },
   "outputs": [
    {
     "name": "stdout",
     "output_type": "stream",
     "text": [
      "Reinhold Messner [PERSON]\n",
      "Mount Everest [LOC]\n",
      "the European Parliament [ORG]\n"
     ]
    }
   ],
   "source": [
    "doc = nlp(raw_text)\n",
    "for entity in doc.ents:\n",
    "    print(f\"{entity.text} [{entity.label_}]\")"
   ]
  },
  {
   "cell_type": "code",
   "execution_count": 6,
   "metadata": {
    "ExecuteTime": {
     "end_time": "2024-04-27T16:32:26.887622Z",
     "start_time": "2024-04-27T16:32:22.031511Z"
    }
   },
   "outputs": [],
   "source": [
    "import nltk\n",
    "#nltk.download('maxent_ne_chunker') \n",
    "#nltk.download('words') \n",
    "# exécuter les deux lignes ci-dessus une fois, si nécessaire"
   ]
  },
  {
   "cell_type": "markdown",
   "metadata": {},
   "source": [
    "**1b.** Veuillez effectuer avec NLTK la tokenization, le POS tagging et le *NE chunking* (voir la [documentation NLTK](https://www.nltk.org/api/nltk.chunk.ne_chunk.html#nltk.chunk.ne_chunk)).  Veuillez afficher le résultat et indiquer son type."
   ]
  },
  {
   "cell_type": "code",
   "execution_count": 7,
   "metadata": {
    "ExecuteTime": {
     "end_time": "2024-04-27T16:32:26.894644Z",
     "start_time": "2024-04-27T16:32:26.889630Z"
    }
   },
   "outputs": [],
   "source": [
    "from nltk.tokenize import word_tokenize\n",
    "from nltk.tag import pos_tag\n",
    "from nltk.chunk import ne_chunk\n",
    "#nltk.download('averaged_perceptron_tagger')\n",
    "\n"
   ]
  },
  {
   "cell_type": "code",
   "outputs": [
    {
     "name": "stdout",
     "output_type": "stream",
     "text": [
      "(S\n",
      "  (PERSON Reinhold/NNP)\n",
      "  (PERSON Messner/NNP)\n",
      "  made/VBD\n",
      "  a/DT\n",
      "  solo/JJ\n",
      "  ascent/NN\n",
      "  of/IN\n",
      "  (PERSON Mount/NNP Everest/NNP)\n",
      "  and/CC\n",
      "  was/VBD\n",
      "  later/RB\n",
      "  a/DT\n",
      "  member/NN\n",
      "  of/IN\n",
      "  the/DT\n",
      "  (ORGANIZATION European/NNP Parliament/NNP)\n",
      "  ./.)\n",
      "(S\n",
      "  (PERSON Reinhold/NNP)\n",
      "  (PERSON Messner/NNP)\n",
      "  made/VBD\n",
      "  a/DT\n",
      "  solo/JJ\n",
      "  ascent/NN\n",
      "  of/IN\n",
      "  (PERSON Mount/NNP Everest/NNP)\n",
      "  and/CC\n",
      "  was/VBD\n",
      "  later/RB\n",
      "  a/DT\n",
      "  member/NN\n",
      "  of/IN\n",
      "  the/DT\n",
      "  (ORGANIZATION European/NNP Parliament/NNP)\n",
      "  ./.)\n"
     ]
    }
   ],
   "source": [
    "\n",
    "tokens = word_tokenize(raw_text)\n",
    "pos_tags = pos_tag(tokens)\n",
    "ne_chunks = ne_chunk(pos_tags)\n",
    "\n",
    "# Afficher le résultat et son type\n",
    "print(ne_chunks)"
   ],
   "metadata": {
    "collapsed": false,
    "ExecuteTime": {
     "end_time": "2024-04-27T18:36:48.044976Z",
     "start_time": "2024-04-27T18:36:48.036629Z"
    }
   },
   "execution_count": 206
  },
  {
   "cell_type": "markdown",
   "metadata": {},
   "source": [
    "**1c.** Veuillez afficher, pour chaque entité nommée, les mots qui la composent et son type.  Vous pouvez parcourir le résultat précédent avec une boucle for, et déterminer si un noeud a une étiquette avec la fonction `hasattr(noeud, 'label')`."
   ]
  },
  {
   "cell_type": "code",
   "execution_count": 207,
   "metadata": {
    "ExecuteTime": {
     "end_time": "2024-04-27T18:37:20.333405Z",
     "start_time": "2024-04-27T18:37:20.329512Z"
    }
   },
   "outputs": [
    {
     "name": "stdout",
     "output_type": "stream",
     "text": [
      "Mots: Reinhold\n",
      "Type: PERSON\n",
      "Mots: Messner\n",
      "Type: PERSON\n",
      "Mots: Mount Everest\n",
      "Type: PERSON\n",
      "Mots: European Parliament\n",
      "Type: ORGANIZATION\n"
     ]
    }
   ],
   "source": [
    " for c in ne_chunks:\n",
    "    if hasattr(c, 'label'):\n",
    "        words = [word for word, tag in c.leaves()]\n",
    "        ne_type = c.label()\n",
    "        print(\"Mots:\", \" \".join(words))\n",
    "        print(\"Type:\", ne_type)\n",
    "        "
   ]
  },
  {
   "cell_type": "markdown",
   "metadata": {},
   "source": [
    "**1d.** À ce stade, que pensez-vous de la qualité des résultats de chaque système ?"
   ]
  },
  {
   "cell_type": "code",
   "execution_count": 10,
   "metadata": {
    "ExecuteTime": {
     "end_time": "2024-04-27T16:32:27.229377Z",
     "start_time": "2024-04-27T16:32:27.222864Z"
    }
   },
   "outputs": [],
   "source": [
    "# Spacy donne des résultats correctes et à correctement identifier les entités nommées. Cependant, NLTK indique que \"Reinhold Messner\" sont deux personnes distinctes et que le Mont Everest est une personne. IL semble, à ce stade, moins efficace que Spacy."
   ]
  },
  {
   "cell_type": "markdown",
   "metadata": {},
   "source": [
    "## 2. Prise en main des données de test\n",
    "\n",
    "**2a.** Quel est le format du fichier `eng.test.a.conll` ?  Quelle information contient chaque colonne ?  Quel est le format des tags NE ?\n",
    "\n",
    "Note : ce fichier fait partie des données de test pour la NER sur l'anglais de la conférence [CoNLL](https://www.clips.uantwerpen.be/pages/past-workshops) 2003. On peut lire [ici](https://www.clips.uantwerpen.be/conll2003/ner/) la description de la tâche et les scores obtenus.  On peut trouver une copie des données [ici](https://sourceforge.net/p/text-analysis/svn/1243/tree/text-analysis/trunk/Corpora/CoNLL/2003/) ou [ici](https://github.com/synalp/NER/tree/master/corpus/CoNLL-2003).  Les textes proviennent du [corpus Reuters](http://trec.nist.gov/data/reuters/reuters.html)."
   ]
  },
  {
   "cell_type": "code",
   "execution_count": 11,
   "metadata": {
    "ExecuteTime": {
     "end_time": "2024-04-27T16:32:27.239115Z",
     "start_time": "2024-04-27T16:32:27.232387Z"
    }
   },
   "outputs": [],
   "source": [
    "# Le fichier consiste en plusieurs documents, séparés par un -DOCSTART-. Chaque document consiste en une série de phrase, séparée par deux retours à la ligne.\n",
    "# Chaque ligne d'une phrase est le mot de la phrase. Chaque ligne suit la structure suivante :\n",
    "# [mot] [POS Tag] [Chunk] [Tag d'entité nommée: I|O]\n",
    "# Si le dernier tag est O : ce n'est pas une entitée nommée. Si c'est I, le tag indique le type d'entitée nommé (ORG, PER, LOC, ...)"
   ]
  },
  {
   "cell_type": "markdown",
   "metadata": {},
   "source": [
    "**2b.** Veuillez charger les données de `eng.test.a.conll` grâce à la classe `ConllCorpusReader` de NLTK vue dans les labos précédents (voir [documentation](https://www.nltk.org/api/nltk.corpus.reader.conll.html#nltk.corpus.reader.conll.ConllCorpusReader)). Veuillez lire les colonnes qui contiennent les tokens ('words'), les POS tags ('pos') et les informations sur les entités nommées ('chunk') et afficher les trois premières phrases, accessibles via la méthode `.iob_sents()`."
   ]
  },
  {
   "cell_type": "code",
   "execution_count": 239,
   "metadata": {
    "ExecuteTime": {
     "end_time": "2024-04-27T19:21:16.626892Z",
     "start_time": "2024-04-27T19:21:16.547534Z"
    }
   },
   "outputs": [
    {
     "name": "stdout",
     "output_type": "stream",
     "text": [
      "WORD POS CHUNK\n",
      "==============\n",
      "CRICKET NNP I-NP\n",
      "- : O\n",
      "LEICESTERSHIRE NNP I-NP\n",
      "TAKE NNP I-NP\n",
      "OVER IN I-PP\n",
      "AT NNP I-NP\n",
      "TOP NNP I-NP\n",
      "AFTER NNP I-NP\n",
      "INNINGS NNP I-NP\n",
      "VICTORY NN I-NP\n",
      ". . O\n",
      "\n",
      "LONDON NNP I-NP\n",
      "1996-08-30 CD I-NP\n",
      "\n",
      "West NNP I-NP\n",
      "Indian NNP I-NP\n",
      "all-rounder NN I-NP\n",
      "Phil NNP I-NP\n",
      "Simmons NNP I-NP\n",
      "took VBD I-VP\n",
      "four CD I-NP\n",
      "for IN I-PP\n",
      "38 CD I-NP\n",
      "on IN I-PP\n",
      "Friday NNP I-NP\n",
      "as IN I-PP\n",
      "Leicestershire NNP I-NP\n",
      "beat VBD I-VP\n",
      "Somerset NNP I-NP\n",
      "by IN I-PP\n",
      "an DT I-NP\n",
      "innings NN I-NP\n",
      "and CC O\n",
      "39 CD I-NP\n",
      "runs NNS I-NP\n",
      "in IN I-PP\n",
      "two CD I-NP\n",
      "days NNS I-NP\n",
      "to TO I-VP\n",
      "take VB I-VP\n",
      "over IN I-PP\n",
      "at IN B-PP\n",
      "the DT I-NP\n",
      "head NN I-NP\n",
      "of IN I-PP\n",
      "the DT I-NP\n",
      "county NN I-NP\n",
      "championship NN I-NP\n",
      ". . O\n"
     ]
    }
   ],
   "source": [
    "from nltk.corpus.reader.conll import ConllCorpusReader\n",
    "\n",
    "conll_reader = ConllCorpusReader('.', '.*\\.conll', columntypes=['words', 'pos', 'chunk', 'ne'], separator=' ')\n",
    "sentences = conll_reader.iob_sents(\"./eng.test.a.conll\")[1:]\n",
    "print(\"WORD POS CHUNK\")\n",
    "print(\"==============\")\n",
    "for sentence in sentences[:3]:\n",
    "    for tagged_word in sentence:\n",
    "        print(f\"{tagged_word[0]} {tagged_word[1]} {tagged_word[2]}\")\n",
    "    print()\n",
    "\n",
    "\n"
   ]
  },
  {
   "cell_type": "markdown",
   "metadata": {},
   "source": [
    "**2c.** Veuillez préparer les données pour le test, en ne gardant que les phrases ayant au moins trois (3) tokens (pas 0, 1, 2) :\n",
    "\n",
    "* une variable `test_tokens` contiendra les tokens groupés par phrase (liste de listes de strings)\n",
    "* une variable `test_tags` contiendra les tags NE en une seule liste (en vue de l'évaluation)"
   ]
  },
  {
   "cell_type": "code",
   "execution_count": 193,
   "metadata": {
    "ExecuteTime": {
     "end_time": "2024-04-27T18:32:07.889400Z",
     "start_time": "2024-04-27T18:32:07.796205Z"
    }
   },
   "outputs": [],
   "source": [
    "# grids: [sentence][words][column]\n",
    "grids = conll_reader._grids(\"./eng.test.a.conll\")\n",
    "filtered_sentences = [sentence for sentence in grids if (len(sentence) >= 3)]\n",
    "test_tokens = [[word for word, _, _, _ in sentence] for sentence in filtered_sentences]\n",
    "test_tags = []\n",
    "for sentence in filtered_sentences:\n",
    "    for word in sentence:\n",
    "        test_tags.append(word[3])\n",
    "\n"
   ]
  },
  {
   "cell_type": "markdown",
   "metadata": {},
   "source": [
    "**2d.** Combien d'occurrences de tags contient `test_tags`?  Combien de tags différents y a-t-il, et lesquels sont-ils ?  Combien il y a d'occurrences de tags de chaque type ?  Combien de phrases y a-t-il dans `test_tokens` ?"
   ]
  },
  {
   "cell_type": "code",
   "execution_count": 194,
   "metadata": {
    "ExecuteTime": {
     "end_time": "2024-04-27T18:32:24.158667Z",
     "start_time": "2024-04-27T18:32:24.151631Z"
    }
   },
   "outputs": [
    {
     "name": "stdout",
     "output_type": "stream",
     "text": [
      "Nombre de tag : 50817\n",
      "Nbre de tags différents : 5\n",
      "Tags différents : {'I-ORG', 'I-MISC', 'O', 'I-PER', 'I-LOC'}\n",
      "Occurences de tags par type: {'I-ORG': 2080, 'I-MISC': 1228, 'O': 42474, 'I-PER': 3097, 'I-LOC': 1938}\n",
      "Nombre de phrases dans test_tokens: 2970\n"
     ]
    }
   ],
   "source": [
    "# Combien d'occurrences de tags contient test_tags?\n",
    "print(\"Nombre de tag :\", len(test_tags))\n",
    "\n",
    "# Combien de tags différents y a-t-il, et lesquels sont-ils ?\n",
    "unique_tags = set(test_tags)\n",
    "print(\"Nbre de tags différents :\", len(unique_tags))\n",
    "print(\"Tags différents :\", unique_tags)\n",
    "\n",
    "# Combien il y a d'occurrences de tags de chaque type ?\n",
    "occurrences_per_tag = {tag: test_tags.count(tag) for tag in unique_tags}\n",
    "print(\"Occurences de tags par type:\", occurrences_per_tag)\n",
    "\n",
    "# Combien de phrases y a-t-il dans test_tokens ?\n",
    "print(\"Nombre de phrases dans test_tokens:\", len(test_tokens))\n",
    "\n",
    "# Il semble y avoir une erreur dans le fichier connl : un 'o', qui devrait être 'O'. Le fichier a été corrigé.\n",
    "\n"
   ]
  },
  {
   "cell_type": "markdown",
   "metadata": {},
   "source": [
    "## 3. Performances de NLTK pour la NER\n",
    "\n",
    "**3a.** Le NER de NLTK a un jeu de tags différents de celui des données de test.  Veuillez chercher les informations pour compléter la fonction suivante qui convertir chaque tag du NER de NLTK dans le tag correspondant pour les données de test.  Attention à la logique des conversions. "
   ]
  },
  {
   "cell_type": "code",
   "execution_count": 195,
   "metadata": {
    "ExecuteTime": {
     "end_time": "2024-04-27T18:32:25.984395Z",
     "start_time": "2024-04-27T18:32:25.980676Z"
    }
   },
   "outputs": [],
   "source": [
    "\n",
    "# src : https://www.nltk.org/book/ch07.html\n",
    "def convert_nltk_conll(tag):\n",
    "    corresp = {\n",
    "        'O': 'O',  # Pas une entité nommée\n",
    "        'ORGANIZATION': 'I-ORG',  # Organisation\n",
    "        'PERSON': 'I-PER',  # Personne\n",
    "        'LOCATION' : 'I-LOC'\n",
    "    }\n",
    "\n",
    "    return corresp.get(tag, 'I-MISC')\n"
   ]
  },
  {
   "cell_type": "markdown",
   "metadata": {},
   "source": [
    "**3b.** Veuillez exécuter la NER de NLTK sur chacune des phrases de `test_tokens`, ce qui assure que NLTK aura la même tokenisation que les données de référence.  Veuillez stocker les tags dans une liste unique appelée `nltk_tags`."
   ]
  },
  {
   "cell_type": "code",
   "execution_count": 212,
   "metadata": {
    "ExecuteTime": {
     "end_time": "2024-04-27T18:43:23.468500Z",
     "start_time": "2024-04-27T18:43:14.581870Z"
    }
   },
   "outputs": [],
   "source": [
    "nltk_tags = []\n",
    "for sentence in test_tokens:\n",
    "    chunks = ne_chunk(pos_tag(sentence))\n",
    "    for chunk in chunks:\n",
    "        if hasattr(chunk, \"label\"):\n",
    "            # Répète l'ajout autant de tag qu'il y a de mot dans l'entité denommé\n",
    "            for _ in chunk.leaves():\n",
    "                nltk_tags.append(chunk.label())\n",
    "        else:\n",
    "            nltk_tags.append(\"O\")\n",
    "            \n"
   ]
  },
  {
   "cell_type": "markdown",
   "metadata": {},
   "source": [
    "**3c.** Veuillez convertir les tags de `nltk_tags` grâce à la fonction précédente, dans une liste appelée `nltk_tags_conv`.  Veuillez afficher le nombre total de tags et les dix premiers.  Vous pouvez plusieurs essais en changeant la fonction, pour aboutir à la conversion qui maximise le score."
   ]
  },
  {
   "cell_type": "code",
   "execution_count": 211,
   "metadata": {
    "ExecuteTime": {
     "end_time": "2024-04-27T18:40:14.121444Z",
     "start_time": "2024-04-27T18:40:14.111571Z"
    }
   },
   "outputs": [
    {
     "name": "stdout",
     "output_type": "stream",
     "text": [
      "Nombre de tags :  50817\n",
      "Dix premiers tags :  ['I-MISC', 'O', 'I-ORG', 'O', 'O', 'O', 'I-ORG', 'O', 'I-ORG', 'O']\n"
     ]
    }
   ],
   "source": [
    "nltk_tags_conv = [convert_nltk_conll(tag) for tag in nltk_tags]\n",
    "print(\"Nombre de tags : \", len(nltk_tags_conv))\n",
    "\n",
    "print(\"Dix premiers tags : \", nltk_tags_conv[0:10])\n",
    "\n"
   ]
  },
  {
   "cell_type": "markdown",
   "metadata": {},
   "source": [
    "**3d.** Veuillez afficher le rapport d'évaluation de classification obtenu de Scikit-learn et la matrice de confusion pour tous les types de tags apparaissant dans les données de test."
   ]
  },
  {
   "cell_type": "code",
   "execution_count": 230,
   "metadata": {
    "ExecuteTime": {
     "end_time": "2024-04-27T18:53:12.176346Z",
     "start_time": "2024-04-27T18:53:12.172993Z"
    }
   },
   "outputs": [],
   "source": [
    "from sklearn.metrics import classification_report, confusion_matrix, ConfusionMatrixDisplay\n",
    "import matplotlib.pyplot as plt\n",
    "import numpy as np\n",
    "unique_tags = list(unique_tags)\n"
   ]
  },
  {
   "cell_type": "code",
   "execution_count": 236,
   "metadata": {
    "ExecuteTime": {
     "end_time": "2024-04-27T18:57:33.393567Z",
     "start_time": "2024-04-27T18:57:33.185691Z"
    }
   },
   "outputs": [
    {
     "data": {
      "text/plain": "[]"
     },
     "execution_count": 236,
     "metadata": {},
     "output_type": "execute_result"
    },
    {
     "data": {
      "text/plain": "<Figure size 1000x800 with 0 Axes>"
     },
     "metadata": {},
     "output_type": "display_data"
    },
    {
     "data": {
      "text/plain": "<Figure size 640x480 with 2 Axes>",
      "image/png": "[encoded data removed]"
     },
     "metadata": {},
     "output_type": "display_data"
    }
   ],
   "source": [
    "\n",
    "conf_matrix = confusion_matrix(test_tags, nltk_tags_conv, labels=unique_tags)\n",
    "plt.figure(figsize=(10, 8))\n",
    "\n",
    "disp = ConfusionMatrixDisplay(confusion_matrix=conf_matrix, display_labels=unique_tags)\n",
    "disp.plot()\n",
    "\n",
    "plt.title('Matrice de confusion')\n",
    "plt.xlabel('Ground truth')\n",
    "plt.ylabel('Prédiction (NLTK)')\n",
    "plt.yticks(rotation=45)\n",
    "plt.grid(False)\n",
    "plt.plot()"
   ]
  },
  {
   "cell_type": "code",
   "execution_count": 238,
   "metadata": {
    "ExecuteTime": {
     "end_time": "2024-04-27T18:58:34.992312Z",
     "start_time": "2024-04-27T18:58:34.946314Z"
    }
   },
   "outputs": [
    {
     "name": "stdout",
     "output_type": "stream",
     "text": [
      "              precision    recall  f1-score   support\n",
      "\n",
      "       I-ORG       0.35      0.51      0.41      1429\n",
      "      I-MISC       0.41      0.20      0.27      2544\n",
      "           O       0.99      0.96      0.97     43776\n",
      "       I-PER       0.74      0.77      0.76      3006\n",
      "       I-LOC       0.02      0.61      0.04        62\n",
      "\n",
      "    accuracy                           0.90     50817\n",
      "   macro avg       0.50      0.61      0.49     50817\n",
      "weighted avg       0.93      0.90      0.91     50817\n"
     ]
    }
   ],
   "source": [
    "# Créer un rapport d'évaluation de classification\n",
    "class_report = classification_report(nltk_indices, test_indices, target_names=unique_tags)\n",
    "\n",
    "# Afficher le rapport d'évaluation de classification\n",
    "print(class_report)"
   ]
  },
  {
   "cell_type": "markdown",
   "metadata": {},
   "source": [
    "\n",
    "## 4. Performances de spaCy pour la NER\n",
    "\n",
    "**4a.** Le NER de spaCy a aussi un jeu de tags différents de celui des données de test.  Veuillez chercher les informations pour compléter la fonction suivante qui convertir chaque tag du NER de spaCy dans le tag correspondant pour les données de test.  Attention à la logique des conversions. "
   ]
  },
  {
   "cell_type": "code",
   "execution_count": null,
   "metadata": {},
   "outputs": [],
   "source": [
    "# def convert_spacy_conll(spacy_tag):\n"
   ]
  },
  {
   "cell_type": "markdown",
   "metadata": {},
   "source": [
    "**4b.** Veuillez exécuter la NER de spaCy sur chacune des phrases de `test_tokens`, ce qui assure que spaCy aura la même tokenisation que les données de référence.  Veuillez stocker les tags dans une liste unique appelée `spacy_tags`."
   ]
  },
  {
   "cell_type": "code",
   "execution_count": null,
   "metadata": {},
   "outputs": [],
   "source": []
  },
  {
   "cell_type": "markdown",
   "metadata": {},
   "source": [
    "**4c.** Veuillez convertir les tags de `spacy_tags` grâce à la fonction précédente, dans une liste appelée `spacy_tags_conv`.  Veuillez afficher le nombre total de tags et les dix premiers.  Vous pouvez plusieurs essais en changeant la fonction, pour aboutir à la conversion qui maximise le score."
   ]
  },
  {
   "cell_type": "code",
   "execution_count": null,
   "metadata": {},
   "outputs": [],
   "source": []
  },
  {
   "cell_type": "markdown",
   "metadata": {},
   "source": [
    "**4d.** Veuillez afficher le rapport d'évaluation de classification obtenu de Scikit-learn et la matrice de confusion pour tous les types de tags apparaissant dans les données de test."
   ]
  },
  {
   "cell_type": "code",
   "execution_count": null,
   "metadata": {},
   "outputs": [],
   "source": []
  },
  {
   "cell_type": "markdown",
   "metadata": {},
   "source": [
    "**4e.** Veuillez exécuter également le modèle 'en_core_web_lg' de spacy et afficher le rapport d'évaluation (mais pas la matrice de confusion).  Vous pouvez recopier ici le minimum de code nécessaire à l'obtention des résultats, avec une nouvelle pipeline spaCy appelée 'nlp2'."
   ]
  },
  {
   "cell_type": "code",
   "execution_count": null,
   "metadata": {},
   "outputs": [],
   "source": []
  },
  {
   "cell_type": "markdown",
   "metadata": {},
   "source": [
    "## 5. Discussion finale\n",
    "\n",
    "Veuillez comparer les scores des trois modèles testés, en termes de **macro avg**.  Pourquoi ce score est-il le plus informatif ?  Veuillez indiquer également la taille des modèles spaCy évalués."
   ]
  },
  {
   "cell_type": "code",
   "execution_count": null,
   "metadata": {},
   "outputs": [],
   "source": []
  },
  {
   "cell_type": "markdown",
   "metadata": {},
   "source": [
    "**Fin du Labo.** Veuillez nettoyer ce notebook en gardant seulement les résultats désirés, l'enregistrer, et le soumettre comme devoir sur Cyberlearn."
   ]
  }
 ],
 "metadata": {
  "kernelspec": {
   "name": "python3",
   "language": "python",
   "display_name": "Python 3 (ipykernel)"
  },
  "language_info": {
   "codemirror_mode": {
    "name": "ipython",
    "version": 3
   },
   "file_extension": ".py",
   "mimetype": "text/x-python",
   "name": "python",
   "nbconvert_exporter": "python",
   "pygments_lexer": "ipython3",
   "version": "3.10.13"
  }
 },
 "nbformat": 4,
 "nbformat_minor": 4
}
